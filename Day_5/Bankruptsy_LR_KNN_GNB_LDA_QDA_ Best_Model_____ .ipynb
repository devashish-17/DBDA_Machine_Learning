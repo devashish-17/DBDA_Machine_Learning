{
 "cells": [
  {
   "cell_type": "markdown",
   "id": "42ed92b9",
   "metadata": {},
   "source": [
    "for Bankruptsy dataset perform following algorithms\n",
    "1] Logistic Regression\n",
    "2] K-NN (1 to 16)\n",
    "3] Gaussian NB(cross val score)\n",
    "4] LDA\n",
    "5] QDA"
   ]
  },
  {
   "cell_type": "code",
   "execution_count": 1,
   "id": "2062f61d",
   "metadata": {},
   "outputs": [],
   "source": [
    "import pandas as pd\n",
    "import numpy as np\n",
    "from sklearn.model_selection import train_test_split,KFold,cross_val_score, GridSearchCV\n",
    "import os\n",
    "from sklearn.linear_model import LinearRegression\n",
    "from sklearn.metrics import r2_score, mean_absolute_error, mean_squared_error\n",
    "\n",
    "from sklearn.linear_model import LogisticRegression\n",
    "from sklearn.neighbors import KNeighborsClassifier\n",
    "from sklearn.naive_bayes import GaussianNB\n",
    "from sklearn.discriminant_analysis import LinearDiscriminantAnalysis, QuadraticDiscriminantAnalysis\n",
    "\n",
    "import warnings\n",
    "warnings.filterwarnings('ignore')"
   ]
  },
  {
   "cell_type": "code",
   "execution_count": 2,
   "id": "eb98f539",
   "metadata": {},
   "outputs": [
    {
     "data": {
      "text/html": [
       "<div>\n",
       "<style scoped>\n",
       "    .dataframe tbody tr th:only-of-type {\n",
       "        vertical-align: middle;\n",
       "    }\n",
       "\n",
       "    .dataframe tbody tr th {\n",
       "        vertical-align: top;\n",
       "    }\n",
       "\n",
       "    .dataframe thead th {\n",
       "        text-align: right;\n",
       "    }\n",
       "</style>\n",
       "<table border=\"1\" class=\"dataframe\">\n",
       "  <thead>\n",
       "    <tr style=\"text-align: right;\">\n",
       "      <th></th>\n",
       "      <th>D</th>\n",
       "      <th>YR</th>\n",
       "      <th>R1</th>\n",
       "      <th>R2</th>\n",
       "      <th>R3</th>\n",
       "      <th>R4</th>\n",
       "      <th>R5</th>\n",
       "      <th>R6</th>\n",
       "      <th>R7</th>\n",
       "      <th>R8</th>\n",
       "      <th>...</th>\n",
       "      <th>R15</th>\n",
       "      <th>R16</th>\n",
       "      <th>R17</th>\n",
       "      <th>R18</th>\n",
       "      <th>R19</th>\n",
       "      <th>R20</th>\n",
       "      <th>R21</th>\n",
       "      <th>R22</th>\n",
       "      <th>R23</th>\n",
       "      <th>R24</th>\n",
       "    </tr>\n",
       "    <tr>\n",
       "      <th>NO</th>\n",
       "      <th></th>\n",
       "      <th></th>\n",
       "      <th></th>\n",
       "      <th></th>\n",
       "      <th></th>\n",
       "      <th></th>\n",
       "      <th></th>\n",
       "      <th></th>\n",
       "      <th></th>\n",
       "      <th></th>\n",
       "      <th></th>\n",
       "      <th></th>\n",
       "      <th></th>\n",
       "      <th></th>\n",
       "      <th></th>\n",
       "      <th></th>\n",
       "      <th></th>\n",
       "      <th></th>\n",
       "      <th></th>\n",
       "      <th></th>\n",
       "      <th></th>\n",
       "    </tr>\n",
       "  </thead>\n",
       "  <tbody>\n",
       "    <tr>\n",
       "      <th>1</th>\n",
       "      <td>0</td>\n",
       "      <td>78</td>\n",
       "      <td>0.23</td>\n",
       "      <td>0.08</td>\n",
       "      <td>0.02</td>\n",
       "      <td>0.03</td>\n",
       "      <td>0.46</td>\n",
       "      <td>0.12</td>\n",
       "      <td>0.19</td>\n",
       "      <td>10.36</td>\n",
       "      <td>...</td>\n",
       "      <td>0.05</td>\n",
       "      <td>0.57</td>\n",
       "      <td>0.15</td>\n",
       "      <td>0.23</td>\n",
       "      <td>3.56</td>\n",
       "      <td>0.26</td>\n",
       "      <td>1.55</td>\n",
       "      <td>0.43</td>\n",
       "      <td>0.11</td>\n",
       "      <td>0.17</td>\n",
       "    </tr>\n",
       "    <tr>\n",
       "      <th>2</th>\n",
       "      <td>0</td>\n",
       "      <td>77</td>\n",
       "      <td>0.19</td>\n",
       "      <td>0.07</td>\n",
       "      <td>0.09</td>\n",
       "      <td>0.12</td>\n",
       "      <td>0.02</td>\n",
       "      <td>0.02</td>\n",
       "      <td>0.03</td>\n",
       "      <td>3.13</td>\n",
       "      <td>...</td>\n",
       "      <td>0.09</td>\n",
       "      <td>0.12</td>\n",
       "      <td>0.16</td>\n",
       "      <td>0.22</td>\n",
       "      <td>3.78</td>\n",
       "      <td>1.29</td>\n",
       "      <td>1.40</td>\n",
       "      <td>0.06</td>\n",
       "      <td>0.07</td>\n",
       "      <td>0.10</td>\n",
       "    </tr>\n",
       "    <tr>\n",
       "      <th>3</th>\n",
       "      <td>0</td>\n",
       "      <td>72</td>\n",
       "      <td>0.07</td>\n",
       "      <td>0.02</td>\n",
       "      <td>0.03</td>\n",
       "      <td>0.05</td>\n",
       "      <td>0.06</td>\n",
       "      <td>0.10</td>\n",
       "      <td>0.14</td>\n",
       "      <td>2.41</td>\n",
       "      <td>...</td>\n",
       "      <td>-0.03</td>\n",
       "      <td>0.02</td>\n",
       "      <td>0.02</td>\n",
       "      <td>0.04</td>\n",
       "      <td>13.29</td>\n",
       "      <td>1.61</td>\n",
       "      <td>1.43</td>\n",
       "      <td>0.03</td>\n",
       "      <td>0.05</td>\n",
       "      <td>0.07</td>\n",
       "    </tr>\n",
       "    <tr>\n",
       "      <th>4</th>\n",
       "      <td>0</td>\n",
       "      <td>80</td>\n",
       "      <td>0.07</td>\n",
       "      <td>0.03</td>\n",
       "      <td>0.04</td>\n",
       "      <td>0.04</td>\n",
       "      <td>0.04</td>\n",
       "      <td>0.06</td>\n",
       "      <td>0.06</td>\n",
       "      <td>5.55</td>\n",
       "      <td>...</td>\n",
       "      <td>-0.02</td>\n",
       "      <td>0.01</td>\n",
       "      <td>0.02</td>\n",
       "      <td>0.02</td>\n",
       "      <td>5.36</td>\n",
       "      <td>1.30</td>\n",
       "      <td>1.12</td>\n",
       "      <td>-0.06</td>\n",
       "      <td>-0.08</td>\n",
       "      <td>-0.09</td>\n",
       "    </tr>\n",
       "    <tr>\n",
       "      <th>5</th>\n",
       "      <td>0</td>\n",
       "      <td>81</td>\n",
       "      <td>0.09</td>\n",
       "      <td>0.02</td>\n",
       "      <td>0.03</td>\n",
       "      <td>0.04</td>\n",
       "      <td>0.06</td>\n",
       "      <td>0.08</td>\n",
       "      <td>0.11</td>\n",
       "      <td>2.85</td>\n",
       "      <td>...</td>\n",
       "      <td>0.02</td>\n",
       "      <td>0.07</td>\n",
       "      <td>0.10</td>\n",
       "      <td>0.14</td>\n",
       "      <td>7.74</td>\n",
       "      <td>1.48</td>\n",
       "      <td>1.41</td>\n",
       "      <td>0.03</td>\n",
       "      <td>0.04</td>\n",
       "      <td>0.06</td>\n",
       "    </tr>\n",
       "  </tbody>\n",
       "</table>\n",
       "<p>5 rows × 26 columns</p>\n",
       "</div>"
      ],
      "text/plain": [
       "    D  YR    R1    R2    R3    R4    R5    R6    R7     R8  ...   R15   R16  \\\n",
       "NO                                                          ...               \n",
       "1   0  78  0.23  0.08  0.02  0.03  0.46  0.12  0.19  10.36  ...  0.05  0.57   \n",
       "2   0  77  0.19  0.07  0.09  0.12  0.02  0.02  0.03   3.13  ...  0.09  0.12   \n",
       "3   0  72  0.07  0.02  0.03  0.05  0.06  0.10  0.14   2.41  ... -0.03  0.02   \n",
       "4   0  80  0.07  0.03  0.04  0.04  0.04  0.06  0.06   5.55  ... -0.02  0.01   \n",
       "5   0  81  0.09  0.02  0.03  0.04  0.06  0.08  0.11   2.85  ...  0.02  0.07   \n",
       "\n",
       "     R17   R18    R19   R20   R21   R22   R23   R24  \n",
       "NO                                                   \n",
       "1   0.15  0.23   3.56  0.26  1.55  0.43  0.11  0.17  \n",
       "2   0.16  0.22   3.78  1.29  1.40  0.06  0.07  0.10  \n",
       "3   0.02  0.04  13.29  1.61  1.43  0.03  0.05  0.07  \n",
       "4   0.02  0.02   5.36  1.30  1.12 -0.06 -0.08 -0.09  \n",
       "5   0.10  0.14   7.74  1.48  1.41  0.03  0.04  0.06  \n",
       "\n",
       "[5 rows x 26 columns]"
      ]
     },
     "execution_count": 2,
     "metadata": {},
     "output_type": "execute_result"
    }
   ],
   "source": [
    "df = pd.read_csv('Bankruptcy.csv', index_col=0)\n",
    "df.head()"
   ]
  },
  {
   "cell_type": "code",
   "execution_count": 3,
   "id": "c4961892",
   "metadata": {},
   "outputs": [
    {
     "data": {
      "text/plain": [
       "D\n",
       "0    66\n",
       "1    66\n",
       "Name: count, dtype: int64"
      ]
     },
     "execution_count": 3,
     "metadata": {},
     "output_type": "execute_result"
    }
   ],
   "source": [
    "# checking the balancing\n",
    "df['D'].value_counts()"
   ]
  },
  {
   "cell_type": "code",
   "execution_count": 4,
   "id": "98d8c83d",
   "metadata": {},
   "outputs": [],
   "source": [
    "X = df.drop(['D','YR'], axis=1)\n",
    "y = df['D']"
   ]
  },
  {
   "cell_type": "code",
   "execution_count": 5,
   "id": "75a22467",
   "metadata": {},
   "outputs": [],
   "source": [
    "from sklearn.model_selection import StratifiedKFold  # IMPORTING the statifiedkfold insetd of only KFOLD \n",
    "from sklearn.model_selection import cross_val_score\n",
    "from sklearn.metrics import precision_score,recall_score,f1_score\n",
    "from sklearn.metrics import classification_report\n"
   ]
  },
  {
   "cell_type": "markdown",
   "id": "a74bcbf2",
   "metadata": {},
   "source": [
    "### Logistic Regression"
   ]
  },
  {
   "cell_type": "code",
   "execution_count": 6,
   "id": "2937dddd",
   "metadata": {},
   "outputs": [
    {
     "name": "stdout",
     "output_type": "stream",
     "text": [
      "{'C': 0.5272631578947369, 'penalty': 'l2', 'solver': 'lbfgs'}\n",
      "-0.4658204056787668\n"
     ]
    }
   ],
   "source": [
    "from sklearn.model_selection import GridSearchCV\n",
    "from sklearn.model_selection import StratifiedKFold \n",
    "\n",
    "params = {\n",
    "    'penalty': ['l2',None],'C':np.linspace(0.001,10,20),  # Try both L1 (Lasso) and L2 (Ridge) penalties\n",
    "    'solver': ['lbfgs', 'sag','newton-cg', 'newton-cholesky']  # Different solvers\n",
    "}\n",
    "\n",
    "lr = LogisticRegression()\n",
    "kfold = StratifiedKFold(n_splits=5, shuffle=True, random_state=24)\n",
    "gcv_r= GridSearchCV(lr,param_grid=params ,scoring='neg_log_loss',cv=kfold)\n",
    "gcv_r.fit(X, y)\n",
    "\n",
    "print(gcv_r.best_params_)\n",
    "print(gcv_r.best_score_)"
   ]
  },
  {
   "cell_type": "markdown",
   "id": "630c1a05",
   "metadata": {},
   "source": [
    "### KNN Classifier"
   ]
  },
  {
   "cell_type": "code",
   "execution_count": 7,
   "id": "d52b9dce",
   "metadata": {},
   "outputs": [
    {
     "name": "stdout",
     "output_type": "stream",
     "text": [
      "{'KNN__n_neighbors': 15, 'SCL': StandardScaler()}\n",
      "-0.45577248787788677\n"
     ]
    }
   ],
   "source": [
    "from  sklearn.neighbors import KNeighborsClassifier\n",
    "from sklearn.metrics import accuracy_score,classification_report\n",
    "from sklearn.preprocessing import MinMaxScaler, StandardScaler\n",
    "from sklearn.pipeline import Pipeline\n",
    "from sklearn.impute import SimpleImputer\n",
    "from sklearn.model_selection import GridSearchCV\n",
    "from sklearn.model_selection import StratifiedKFold\n",
    "\n",
    "mm_scaler=MinMaxScaler()\n",
    "std_scaler=StandardScaler()\n",
    "knn=KNeighborsClassifier()\n",
    "\n",
    "params={\"KNN__n_neighbors\":np.arange(1,16),\"SCL\":[None,std_scaler,mm_scaler]}\n",
    "\n",
    "pipe=Pipeline([(\"SCL\",None),(\"KNN\",knn)])\n",
    "\n",
    "kfold=StratifiedKFold(n_splits=5,shuffle=True,random_state=24)\n",
    "\n",
    "gcv=GridSearchCV(pipe,param_grid=params,cv=kfold,scoring=\"neg_log_loss\")  # verbose 1/2/3 => gives step by step execution\n",
    "gcv.fit(X, y)\n",
    "\n",
    "print(gcv.best_params_)\n",
    "print(gcv.best_score_)"
   ]
  },
  {
   "cell_type": "markdown",
   "id": "f5a2ac84",
   "metadata": {},
   "source": [
    "### Guassian NB "
   ]
  },
  {
   "cell_type": "code",
   "execution_count": 8,
   "id": "7bcb13b1",
   "metadata": {},
   "outputs": [
    {
     "name": "stdout",
     "output_type": "stream",
     "text": [
      "Accuracy score :  0.7495726495726496\n",
      "Log loss :  -2.5042421629200953\n"
     ]
    }
   ],
   "source": [
    "from sklearn.model_selection import GridSearchCV\n",
    "from sklearn.model_selection import cross_val_score\n",
    "from sklearn.model_selection import StratifiedKFold\n",
    "\n",
    "\n",
    "kfold = StratifiedKFold(n_splits=5, shuffle= True, random_state=24)\n",
    "nb = GaussianNB()\n",
    "results = cross_val_score(nb, X, y, cv=kfold)\n",
    "print(\"Accuracy score : \",results.mean())\n",
    "\n",
    "# with log loss \n",
    "results = cross_val_score(nb, X, y, cv=kfold, scoring='neg_log_loss')\n",
    "print('Log loss : ',results.mean())\n"
   ]
  },
  {
   "cell_type": "markdown",
   "id": "4bcbc7cd",
   "metadata": {},
   "source": [
    "###  LDA and QDA"
   ]
  },
  {
   "cell_type": "code",
   "execution_count": 9,
   "id": "5392b83f",
   "metadata": {},
   "outputs": [
    {
     "name": "stdout",
     "output_type": "stream",
     "text": [
      "LDA cross log loss score :  -0.7280259190109073\n",
      "QDA cross log loss score :  -5.455942905787956\n"
     ]
    }
   ],
   "source": [
    "from sklearn.discriminant_analysis import LinearDiscriminantAnalysis\n",
    "from sklearn.discriminant_analysis import QuadraticDiscriminantAnalysis\n",
    "lda = LinearDiscriminantAnalysis()\n",
    "qda = QuadraticDiscriminantAnalysis()\n",
    "\n",
    "kfold = StratifiedKFold(n_splits=5, shuffle=True, random_state=24)\n",
    "res_lda = cross_val_score(lda, X, y, cv = kfold,scoring='neg_log_loss')\n",
    "print(\"LDA cross log loss score : \",res_lda.mean())\n",
    "\n",
    "res_qda = cross_val_score(qda, X,y, cv = kfold,scoring='neg_log_loss')\n",
    "print('QDA cross log loss score : ', res_qda.mean())"
   ]
  },
  {
   "cell_type": "markdown",
   "id": "e76e2579",
   "metadata": {},
   "source": [
    "### Log loss for diffrent Models \n",
    "\n",
    "#### Logistic Regression =>  -0.4659701148359128\n",
    "#### KNN Classifier          =>  -0.45577248787788677\n",
    "#### Guassian NB             =>  -2.5042421629200953\n",
    "####  LDA                           =>  -0.72802591901091\n",
    "####  QDA                           =>  -5.455942905787905"
   ]
  },
  {
   "cell_type": "markdown",
   "id": "c2e6eca0",
   "metadata": {},
   "source": [
    "### Best Model for this dataset =>>  KNN Classifier with log_loss -0.45577248787788677\n"
   ]
  },
  {
   "cell_type": "code",
   "execution_count": 10,
   "id": "5d3bcc22",
   "metadata": {},
   "outputs": [
    {
     "data": {
      "text/plain": [
       "Index(['R1', 'R2', 'R3', 'R4', 'R5', 'R6', 'R7', 'R8', 'R9', 'R10', 'R11',\n",
       "       'R12', 'R13', 'R14', 'R15', 'R16', 'R17', 'R18', 'R19', 'R20', 'R21',\n",
       "       'R22', 'R23', 'R24'],\n",
       "      dtype='object')"
      ]
     },
     "execution_count": 10,
     "metadata": {},
     "output_type": "execute_result"
    }
   ],
   "source": [
    "X.columns"
   ]
  },
  {
   "cell_type": "code",
   "execution_count": 11,
   "id": "c630bfb4",
   "metadata": {},
   "outputs": [
    {
     "name": "stdout",
     "output_type": "stream",
     "text": [
      "Fitting 5 folds for each of 600 candidates, totalling 3000 fits\n",
      "{'SCL': StandardScaler(), 'SVC__C': 0.45333333333333337, 'SVC__gamma': 0.01, 'SVC__kernel': 'rbf'}\n",
      "-0.46457037675584906\n"
     ]
    }
   ],
   "source": [
    "### to Enable log loss\n",
    "from sklearn.svm import SVC\n",
    "\n",
    "mm_scaler=MinMaxScaler()\n",
    "std_scaler=StandardScaler()\n",
    "svc = SVC(random_state=24,probability=True)\n",
    "\n",
    "params = {'SVC__kernel':['rbf','linear'],\n",
    "          'SVC__C':np.linspace(0.01,4,10),\n",
    "         'SVC__gamma':np.linspace(0.01,4,10),\n",
    "          \"SCL\":[None,std_scaler,mm_scaler]}\n",
    "\n",
    "pipe=Pipeline([(\"SCL\",None),(\"SVC\",svc)])\n",
    "\n",
    "kfold=StratifiedKFold(n_splits=5,shuffle=True,random_state=24)\n",
    "\n",
    "gcv=GridSearchCV(pipe,param_grid=params,cv=kfold,scoring='neg_log_loss', verbose=1)  # verbose 1/2/3 => gives step by step execution\n",
    "gcv.fit(X,y)\n",
    "\n",
    "print(gcv.best_params_)\n",
    "print(gcv.best_score_)"
   ]
  },
  {
   "cell_type": "code",
   "execution_count": null,
   "id": "25e4ff76",
   "metadata": {},
   "outputs": [],
   "source": []
  }
 ],
 "metadata": {
  "kernelspec": {
   "display_name": "Python 3 (ipykernel)",
   "language": "python",
   "name": "python3"
  },
  "language_info": {
   "codemirror_mode": {
    "name": "ipython",
    "version": 3
   },
   "file_extension": ".py",
   "mimetype": "text/x-python",
   "name": "python",
   "nbconvert_exporter": "python",
   "pygments_lexer": "ipython3",
   "version": "3.11.5"
  }
 },
 "nbformat": 4,
 "nbformat_minor": 5
}
