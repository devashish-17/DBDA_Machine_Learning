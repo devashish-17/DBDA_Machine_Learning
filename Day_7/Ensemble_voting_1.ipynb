{
 "cells": [
  {
   "cell_type": "code",
   "execution_count": 37,
   "id": "a0d8dc8c-ec97-415e-bee2-711d53b287cb",
   "metadata": {},
   "outputs": [],
   "source": [
    "import pandas as pd\n",
    "import numpy as np\n",
    "from sklearn.linear_model import LogisticRegression\n",
    "from sklearn.svm import SVC\n",
    "from sklearn.naive_bayes import GaussianNB\n",
    "from sklearn.model_selection import train_test_split, GridSearchCV, StratifiedKFold\n",
    "from sklearn.ensemble import VotingClassifier\n",
    "from sklearn.metrics import accuracy_score, log_loss, classification_report\n",
    "from sklearn.preprocessing import LabelEncoder\n",
    "\n",
    "import warnings\n",
    "warnings.filterwarnings(\"ignore\")"
   ]
  },
  {
   "cell_type": "code",
   "execution_count": 38,
   "id": "0f9d523e-f0a2-41f0-be8e-ff7c7ab6f1b7",
   "metadata": {},
   "outputs": [
    {
     "data": {
      "text/html": [
       "<div>\n",
       "<style scoped>\n",
       "    .dataframe tbody tr th:only-of-type {\n",
       "        vertical-align: middle;\n",
       "    }\n",
       "\n",
       "    .dataframe tbody tr th {\n",
       "        vertical-align: top;\n",
       "    }\n",
       "\n",
       "    .dataframe thead th {\n",
       "        text-align: right;\n",
       "    }\n",
       "</style>\n",
       "<table border=\"1\" class=\"dataframe\">\n",
       "  <thead>\n",
       "    <tr style=\"text-align: right;\">\n",
       "      <th></th>\n",
       "      <th>Kyphosis</th>\n",
       "      <th>Age</th>\n",
       "      <th>Number</th>\n",
       "      <th>Start</th>\n",
       "    </tr>\n",
       "  </thead>\n",
       "  <tbody>\n",
       "    <tr>\n",
       "      <th>30</th>\n",
       "      <td>absent</td>\n",
       "      <td>31</td>\n",
       "      <td>3</td>\n",
       "      <td>16</td>\n",
       "    </tr>\n",
       "    <tr>\n",
       "      <th>49</th>\n",
       "      <td>absent</td>\n",
       "      <td>177</td>\n",
       "      <td>2</td>\n",
       "      <td>14</td>\n",
       "    </tr>\n",
       "    <tr>\n",
       "      <th>29</th>\n",
       "      <td>absent</td>\n",
       "      <td>151</td>\n",
       "      <td>2</td>\n",
       "      <td>16</td>\n",
       "    </tr>\n",
       "    <tr>\n",
       "      <th>4</th>\n",
       "      <td>absent</td>\n",
       "      <td>1</td>\n",
       "      <td>4</td>\n",
       "      <td>15</td>\n",
       "    </tr>\n",
       "    <tr>\n",
       "      <th>17</th>\n",
       "      <td>absent</td>\n",
       "      <td>175</td>\n",
       "      <td>5</td>\n",
       "      <td>13</td>\n",
       "    </tr>\n",
       "  </tbody>\n",
       "</table>\n",
       "</div>"
      ],
      "text/plain": [
       "   Kyphosis  Age  Number  Start\n",
       "30   absent   31       3     16\n",
       "49   absent  177       2     14\n",
       "29   absent  151       2     16\n",
       "4    absent    1       4     15\n",
       "17   absent  175       5     13"
      ]
     },
     "execution_count": 38,
     "metadata": {},
     "output_type": "execute_result"
    }
   ],
   "source": [
    "df = pd.read_csv('Kyphosis.csv')\n",
    "df.sample(5)"
   ]
  },
  {
   "cell_type": "code",
   "execution_count": 39,
   "id": "9a2a3109-7f70-4aa2-97d3-136a7df1eb17",
   "metadata": {},
   "outputs": [],
   "source": [
    "# le = LabelEncoder()\n",
    "# df['Kyphosis'] = le.fit_transform(df['Kyphosis'])\n",
    "X = df.drop('Kyphosis', axis=1)\n",
    "y = df['Kyphosis']\n",
    "X_train, X_test, y_train, y_test = train_test_split(X, y, test_size=0.3, stratify=y, random_state=24)"
   ]
  },
  {
   "cell_type": "code",
   "execution_count": 40,
   "id": "7ee3e0dd-af6f-4a2b-9c60-6a98152c7380",
   "metadata": {},
   "outputs": [],
   "source": [
    "lr = LogisticRegression()\n",
    "nb = GaussianNB()\n",
    "svm = SVC(random_state=24, probability=True)\n",
    "voting = VotingClassifier([('LR', lr), ('NB', nb), ('SVM', svm)], voting='soft', weights=[0.76, 0.76, 0.8])"
   ]
  },
  {
   "cell_type": "code",
   "execution_count": 41,
   "id": "438b0ed4-af88-4ad3-80be-a57db37a94dd",
   "metadata": {},
   "outputs": [
    {
     "name": "stdout",
     "output_type": "stream",
     "text": [
      "0.76\n",
      "0.48370844608393226\n"
     ]
    }
   ],
   "source": [
    "voting.fit(X_train, y_train)\n",
    "y_pred = voting.predict(X_test)\n",
    "print(accuracy_score(y_test, y_pred))\n",
    "\n",
    "y_pred_prob = voting.predict_proba(X_test)[:,1]\n",
    "print(log_loss(y_test, y_pred_prob))"
   ]
  },
  {
   "cell_type": "code",
   "execution_count": null,
   "id": "866c34ff-0632-4612-93c9-0ab0519c5294",
   "metadata": {},
   "outputs": [],
   "source": [
    "'''\n",
    "Without weights\n",
    "0.76\n",
    "0.48258033499245384\n",
    "\n",
    "With weights\n",
    "0.76\n",
    "0.48370844608393226\n",
    "'''"
   ]
  },
  {
   "cell_type": "code",
   "execution_count": 42,
   "id": "04199adb-c05c-4e96-b205-05486f995665",
   "metadata": {},
   "outputs": [],
   "source": [
    "kfold = StratifiedKFold(n_splits=5, shuffle=True, random_state=24)\n",
    "\n",
    "params = {\n",
    "    'LR__penalty': ['l2', None],\n",
    "    'LR__C': [0.001, 10, 5],\n",
    "    'LR__solver': ['lbfgs', 'newton-cg', 'newton-cholesky', 'sag'],\n",
    "\n",
    "    'SVM__kernel': ['rbf', 'linear'],\n",
    "    'SVM__C': [0.01, 4, 5],\n",
    "    'SVM__gamma': np.linspace(0.01, 4, 5),\n",
    "    'SVM__decision_function_shape': ['ovo','ovr']\n",
    "}"
   ]
  },
  {
   "cell_type": "code",
   "execution_count": 43,
   "id": "fa00d526-4604-4029-b987-45a3cfee1f1a",
   "metadata": {
    "scrolled": true
   },
   "outputs": [
    {
     "name": "stdout",
     "output_type": "stream",
     "text": [
      "{'LR__C': 0.001, 'LR__penalty': None, 'LR__solver': 'lbfgs', 'SVM__C': 4, 'SVM__decision_function_shape': 'ovo', 'SVM__gamma': 2.005, 'SVM__kernel': 'rbf'}\n",
      "-0.3966098931051333\n"
     ]
    }
   ],
   "source": [
    "voting = VotingClassifier([('LR', lr), ('NB', nb), ('SVM', svm)], voting='soft')\n",
    "gcv = GridSearchCV(voting, param_grid=params, cv=kfold, scoring='neg_log_loss')\n",
    "gcv.fit(X, y)\n",
    "print(gcv.best_params_)\n",
    "print(gcv.best_score_)"
   ]
  },
  {
   "cell_type": "code",
   "execution_count": null,
   "id": "35a24258-c062-48ae-8fe3-8f8dbecdd504",
   "metadata": {},
   "outputs": [],
   "source": [
    "\n",
    "{'LR__C': 0.001, 'LR__penalty': None, 'LR__solver': 'lbfgs', 'SVM__C': 4, 'SVM__gamma': 2.005, 'SVM__kernel': 'rbf'}\n",
    "-0.3966098931051333\n"
   ]
  }
 ],
 "metadata": {
  "kernelspec": {
   "display_name": "Python 3 (ipykernel)",
   "language": "python",
   "name": "python3"
  },
  "language_info": {
   "codemirror_mode": {
    "name": "ipython",
    "version": 3
   },
   "file_extension": ".py",
   "mimetype": "text/x-python",
   "name": "python",
   "nbconvert_exporter": "python",
   "pygments_lexer": "ipython3",
   "version": "3.11.7"
  }
 },
 "nbformat": 4,
 "nbformat_minor": 5
}
