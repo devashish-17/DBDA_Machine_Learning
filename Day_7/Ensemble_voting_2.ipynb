{
 "cells": [
  {
   "cell_type": "code",
   "execution_count": 18,
   "id": "a0d8dc8c-ec97-415e-bee2-711d53b287cb",
   "metadata": {},
   "outputs": [],
   "source": [
    "import pandas as pd\n",
    "import numpy as np\n",
    "from sklearn.linear_model import Ridge\n",
    "from sklearn.tree import DecisionTreeRegressor\n",
    "from sklearn.neighbors import KNeighborsRegressor\n",
    "from sklearn.model_selection import train_test_split, GridSearchCV, StratifiedKFold\n",
    "from sklearn.ensemble import VotingRegressor\n",
    "from sklearn.metrics import r2_score, accuracy_score, log_loss, classification_report"
   ]
  },
  {
   "cell_type": "code",
   "execution_count": 2,
   "id": "0f9d523e-f0a2-41f0-be8e-ff7c7ab6f1b7",
   "metadata": {},
   "outputs": [
    {
     "data": {
      "text/html": [
       "<div>\n",
       "<style scoped>\n",
       "    .dataframe tbody tr th:only-of-type {\n",
       "        vertical-align: middle;\n",
       "    }\n",
       "\n",
       "    .dataframe tbody tr th {\n",
       "        vertical-align: top;\n",
       "    }\n",
       "\n",
       "    .dataframe thead th {\n",
       "        text-align: right;\n",
       "    }\n",
       "</style>\n",
       "<table border=\"1\" class=\"dataframe\">\n",
       "  <thead>\n",
       "    <tr style=\"text-align: right;\">\n",
       "      <th></th>\n",
       "      <th>Cement</th>\n",
       "      <th>Blast</th>\n",
       "      <th>Fly</th>\n",
       "      <th>Water</th>\n",
       "      <th>Superplasticizer</th>\n",
       "      <th>Coarse</th>\n",
       "      <th>Fine</th>\n",
       "      <th>Age</th>\n",
       "      <th>Strength</th>\n",
       "    </tr>\n",
       "  </thead>\n",
       "  <tbody>\n",
       "    <tr>\n",
       "      <th>695</th>\n",
       "      <td>116.0</td>\n",
       "      <td>173.0</td>\n",
       "      <td>0.0</td>\n",
       "      <td>192.0</td>\n",
       "      <td>0.0</td>\n",
       "      <td>909.8</td>\n",
       "      <td>891.9</td>\n",
       "      <td>28</td>\n",
       "      <td>22.35</td>\n",
       "    </tr>\n",
       "    <tr>\n",
       "      <th>59</th>\n",
       "      <td>332.5</td>\n",
       "      <td>142.5</td>\n",
       "      <td>0.0</td>\n",
       "      <td>228.0</td>\n",
       "      <td>0.0</td>\n",
       "      <td>932.0</td>\n",
       "      <td>594.0</td>\n",
       "      <td>28</td>\n",
       "      <td>33.02</td>\n",
       "    </tr>\n",
       "    <tr>\n",
       "      <th>100</th>\n",
       "      <td>425.0</td>\n",
       "      <td>106.3</td>\n",
       "      <td>0.0</td>\n",
       "      <td>153.5</td>\n",
       "      <td>16.5</td>\n",
       "      <td>852.1</td>\n",
       "      <td>887.1</td>\n",
       "      <td>7</td>\n",
       "      <td>49.20</td>\n",
       "    </tr>\n",
       "    <tr>\n",
       "      <th>715</th>\n",
       "      <td>141.3</td>\n",
       "      <td>212.0</td>\n",
       "      <td>0.0</td>\n",
       "      <td>203.5</td>\n",
       "      <td>0.0</td>\n",
       "      <td>971.8</td>\n",
       "      <td>748.5</td>\n",
       "      <td>90</td>\n",
       "      <td>39.66</td>\n",
       "    </tr>\n",
       "    <tr>\n",
       "      <th>931</th>\n",
       "      <td>144.0</td>\n",
       "      <td>15.0</td>\n",
       "      <td>195.0</td>\n",
       "      <td>176.0</td>\n",
       "      <td>6.0</td>\n",
       "      <td>1021.0</td>\n",
       "      <td>709.0</td>\n",
       "      <td>28</td>\n",
       "      <td>15.34</td>\n",
       "    </tr>\n",
       "  </tbody>\n",
       "</table>\n",
       "</div>"
      ],
      "text/plain": [
       "     Cement  Blast    Fly  Water  Superplasticizer  Coarse   Fine  Age  \\\n",
       "695   116.0  173.0    0.0  192.0               0.0   909.8  891.9   28   \n",
       "59    332.5  142.5    0.0  228.0               0.0   932.0  594.0   28   \n",
       "100   425.0  106.3    0.0  153.5              16.5   852.1  887.1    7   \n",
       "715   141.3  212.0    0.0  203.5               0.0   971.8  748.5   90   \n",
       "931   144.0   15.0  195.0  176.0               6.0  1021.0  709.0   28   \n",
       "\n",
       "     Strength  \n",
       "695     22.35  \n",
       "59      33.02  \n",
       "100     49.20  \n",
       "715     39.66  \n",
       "931     15.34  "
      ]
     },
     "execution_count": 2,
     "metadata": {},
     "output_type": "execute_result"
    }
   ],
   "source": [
    "df = pd.read_csv('Concrete_Data.csv')\n",
    "df.sample(5)"
   ]
  },
  {
   "cell_type": "code",
   "execution_count": 5,
   "id": "9a2a3109-7f70-4aa2-97d3-136a7df1eb17",
   "metadata": {},
   "outputs": [],
   "source": [
    "X = df.drop('Strength', axis=1)\n",
    "y = df['Strength']\n",
    "X_train, X_test, y_train, y_test = train_test_split(X, y, test_size=0.3, random_state=24)"
   ]
  },
  {
   "cell_type": "code",
   "execution_count": 16,
   "id": "7ee3e0dd-af6f-4a2b-9c60-6a98152c7380",
   "metadata": {},
   "outputs": [],
   "source": [
    "rg = Ridge()\n",
    "knn = KNeighborsRegressor()\n",
    "dtr = DecisionTreeRegressor(random_state=24)\n",
    "\n",
    "# voting = VotingRegressor([('RG', rg), ('KNN', knn), ('DTR', dtr)])\n",
    "voting = VotingRegressor([('RG', rg), ('KNN', knn), ('DTR', dtr)], weights=[0.57, 0.66, 0.83]) # weights = r2_scores of all"
   ]
  },
  {
   "cell_type": "code",
   "execution_count": 17,
   "id": "438b0ed4-af88-4ad3-80be-a57db37a94dd",
   "metadata": {},
   "outputs": [
    {
     "name": "stdout",
     "output_type": "stream",
     "text": [
      "0.8228648937143235\n"
     ]
    }
   ],
   "source": [
    "voting.fit(X_train, y_train)\n",
    "y_pred = voting.predict(X_test)\n",
    "print(r2_score(y_test, y_pred))"
   ]
  },
  {
   "cell_type": "code",
   "execution_count": 15,
   "id": "35a24258-c062-48ae-8fe3-8f8dbecdd504",
   "metadata": {},
   "outputs": [
    {
     "data": {
      "text/plain": [
       "{'estimators': [('RG', Ridge()),\n",
       "  ('KNN', KNeighborsRegressor()),\n",
       "  ('DTR', DecisionTreeRegressor(random_state=24))],\n",
       " 'n_jobs': None,\n",
       " 'verbose': False,\n",
       " 'weights': [0.57, 0.66, 0.83],\n",
       " 'RG': Ridge(),\n",
       " 'KNN': KNeighborsRegressor(),\n",
       " 'DTR': DecisionTreeRegressor(random_state=24),\n",
       " 'RG__alpha': 1.0,\n",
       " 'RG__copy_X': True,\n",
       " 'RG__fit_intercept': True,\n",
       " 'RG__max_iter': None,\n",
       " 'RG__positive': False,\n",
       " 'RG__random_state': None,\n",
       " 'RG__solver': 'auto',\n",
       " 'RG__tol': 0.0001,\n",
       " 'KNN__algorithm': 'auto',\n",
       " 'KNN__leaf_size': 30,\n",
       " 'KNN__metric': 'minkowski',\n",
       " 'KNN__metric_params': None,\n",
       " 'KNN__n_jobs': None,\n",
       " 'KNN__n_neighbors': 5,\n",
       " 'KNN__p': 2,\n",
       " 'KNN__weights': 'uniform',\n",
       " 'DTR__ccp_alpha': 0.0,\n",
       " 'DTR__criterion': 'squared_error',\n",
       " 'DTR__max_depth': None,\n",
       " 'DTR__max_features': None,\n",
       " 'DTR__max_leaf_nodes': None,\n",
       " 'DTR__min_impurity_decrease': 0.0,\n",
       " 'DTR__min_samples_leaf': 1,\n",
       " 'DTR__min_samples_split': 2,\n",
       " 'DTR__min_weight_fraction_leaf': 0.0,\n",
       " 'DTR__monotonic_cst': None,\n",
       " 'DTR__random_state': 24,\n",
       " 'DTR__splitter': 'best'}"
      ]
     },
     "execution_count": 15,
     "metadata": {},
     "output_type": "execute_result"
    }
   ],
   "source": [
    "voting.get_params()"
   ]
  },
  {
   "cell_type": "code",
   "execution_count": null,
   "id": "640f70d0-4aae-40a2-8163-c9d14800f084",
   "metadata": {},
   "outputs": [],
   "source": []
  },
  {
   "cell_type": "code",
   "execution_count": null,
   "id": "55fbcb7a-81d0-4744-9efb-6be648cebfb1",
   "metadata": {},
   "outputs": [],
   "source": []
  }
 ],
 "metadata": {
  "kernelspec": {
   "display_name": "Python 3 (ipykernel)",
   "language": "python",
   "name": "python3"
  },
  "language_info": {
   "codemirror_mode": {
    "name": "ipython",
    "version": 3
   },
   "file_extension": ".py",
   "mimetype": "text/x-python",
   "name": "python",
   "nbconvert_exporter": "python",
   "pygments_lexer": "ipython3",
   "version": "3.11.7"
  }
 },
 "nbformat": 4,
 "nbformat_minor": 5
}
