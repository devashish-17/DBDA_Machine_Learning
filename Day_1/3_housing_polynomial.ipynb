{
 "cells": [
  {
   "cell_type": "code",
   "execution_count": 4,
   "id": "12ce2dc5-20c7-4d27-a35e-7176e94af7e7",
   "metadata": {},
   "outputs": [],
   "source": [
    "import pandas as pd\n",
    "import numpy as np\n",
    "from sklearn.metrics import r2_score, mean_absolute_error\n",
    "from sklearn.metrics import mean_squared_error\n",
    "from sklearn.linear_model import LinearRegression\n",
    "from sklearn.model_selection import train_test_split\n",
    "from sklearn.preprocessing import PolynomialFeatures"
   ]
  },
  {
   "cell_type": "code",
   "execution_count": 3,
   "id": "4f51c675-6fea-40de-9ab4-1086c9423c36",
   "metadata": {},
   "outputs": [],
   "source": [
    "insure = pd.read_csv(\"../Datasets/Boston.csv\")\n",
    "X = insure.drop('medv', axis=1)\n",
    "y = insure['medv']"
   ]
  },
  {
   "cell_type": "code",
   "execution_count": 7,
   "id": "2a1a136e-9060-41e7-8f24-66be2ceff2c6",
   "metadata": {},
   "outputs": [],
   "source": [
    "X_train, X_test, y_train, y_test = train_test_split(X, y, test_size=0.3, random_state=24)"
   ]
  },
  {
   "cell_type": "code",
   "execution_count": 8,
   "id": "da1b3742-fb57-49a3-89dd-06715d3a9c63",
   "metadata": {},
   "outputs": [
    {
     "data": {
      "text/html": [
       "<style>#sk-container-id-1 {color: black;background-color: white;}#sk-container-id-1 pre{padding: 0;}#sk-container-id-1 div.sk-toggleable {background-color: white;}#sk-container-id-1 label.sk-toggleable__label {cursor: pointer;display: block;width: 100%;margin-bottom: 0;padding: 0.3em;box-sizing: border-box;text-align: center;}#sk-container-id-1 label.sk-toggleable__label-arrow:before {content: \"▸\";float: left;margin-right: 0.25em;color: #696969;}#sk-container-id-1 label.sk-toggleable__label-arrow:hover:before {color: black;}#sk-container-id-1 div.sk-estimator:hover label.sk-toggleable__label-arrow:before {color: black;}#sk-container-id-1 div.sk-toggleable__content {max-height: 0;max-width: 0;overflow: hidden;text-align: left;background-color: #f0f8ff;}#sk-container-id-1 div.sk-toggleable__content pre {margin: 0.2em;color: black;border-radius: 0.25em;background-color: #f0f8ff;}#sk-container-id-1 input.sk-toggleable__control:checked~div.sk-toggleable__content {max-height: 200px;max-width: 100%;overflow: auto;}#sk-container-id-1 input.sk-toggleable__control:checked~label.sk-toggleable__label-arrow:before {content: \"▾\";}#sk-container-id-1 div.sk-estimator input.sk-toggleable__control:checked~label.sk-toggleable__label {background-color: #d4ebff;}#sk-container-id-1 div.sk-label input.sk-toggleable__control:checked~label.sk-toggleable__label {background-color: #d4ebff;}#sk-container-id-1 input.sk-hidden--visually {border: 0;clip: rect(1px 1px 1px 1px);clip: rect(1px, 1px, 1px, 1px);height: 1px;margin: -1px;overflow: hidden;padding: 0;position: absolute;width: 1px;}#sk-container-id-1 div.sk-estimator {font-family: monospace;background-color: #f0f8ff;border: 1px dotted black;border-radius: 0.25em;box-sizing: border-box;margin-bottom: 0.5em;}#sk-container-id-1 div.sk-estimator:hover {background-color: #d4ebff;}#sk-container-id-1 div.sk-parallel-item::after {content: \"\";width: 100%;border-bottom: 1px solid gray;flex-grow: 1;}#sk-container-id-1 div.sk-label:hover label.sk-toggleable__label {background-color: #d4ebff;}#sk-container-id-1 div.sk-serial::before {content: \"\";position: absolute;border-left: 1px solid gray;box-sizing: border-box;top: 0;bottom: 0;left: 50%;z-index: 0;}#sk-container-id-1 div.sk-serial {display: flex;flex-direction: column;align-items: center;background-color: white;padding-right: 0.2em;padding-left: 0.2em;position: relative;}#sk-container-id-1 div.sk-item {position: relative;z-index: 1;}#sk-container-id-1 div.sk-parallel {display: flex;align-items: stretch;justify-content: center;background-color: white;position: relative;}#sk-container-id-1 div.sk-item::before, #sk-container-id-1 div.sk-parallel-item::before {content: \"\";position: absolute;border-left: 1px solid gray;box-sizing: border-box;top: 0;bottom: 0;left: 50%;z-index: -1;}#sk-container-id-1 div.sk-parallel-item {display: flex;flex-direction: column;z-index: 1;position: relative;background-color: white;}#sk-container-id-1 div.sk-parallel-item:first-child::after {align-self: flex-end;width: 50%;}#sk-container-id-1 div.sk-parallel-item:last-child::after {align-self: flex-start;width: 50%;}#sk-container-id-1 div.sk-parallel-item:only-child::after {width: 0;}#sk-container-id-1 div.sk-dashed-wrapped {border: 1px dashed gray;margin: 0 0.4em 0.5em 0.4em;box-sizing: border-box;padding-bottom: 0.4em;background-color: white;}#sk-container-id-1 div.sk-label label {font-family: monospace;font-weight: bold;display: inline-block;line-height: 1.2em;}#sk-container-id-1 div.sk-label-container {text-align: center;}#sk-container-id-1 div.sk-container {/* jupyter's `normalize.less` sets `[hidden] { display: none; }` but bootstrap.min.css set `[hidden] { display: none !important; }` so we also need the `!important` here to be able to override the default hidden behavior on the sphinx rendered scikit-learn.org. See: https://github.com/scikit-learn/scikit-learn/issues/21755 */display: inline-block !important;position: relative;}#sk-container-id-1 div.sk-text-repr-fallback {display: none;}</style><div id=\"sk-container-id-1\" class=\"sk-top-container\"><div class=\"sk-text-repr-fallback\"><pre>LinearRegression()</pre><b>In a Jupyter environment, please rerun this cell to show the HTML representation or trust the notebook. <br />On GitHub, the HTML representation is unable to render, please try loading this page with nbviewer.org.</b></div><div class=\"sk-container\" hidden><div class=\"sk-item\"><div class=\"sk-estimator sk-toggleable\"><input class=\"sk-toggleable__control sk-hidden--visually\" id=\"sk-estimator-id-1\" type=\"checkbox\" checked><label for=\"sk-estimator-id-1\" class=\"sk-toggleable__label sk-toggleable__label-arrow\">LinearRegression</label><div class=\"sk-toggleable__content\"><pre>LinearRegression()</pre></div></div></div></div></div>"
      ],
      "text/plain": [
       "LinearRegression()"
      ]
     },
     "execution_count": 8,
     "metadata": {},
     "output_type": "execute_result"
    }
   ],
   "source": [
    "lr = LinearRegression()\n",
    "lr.fit(X_train, y_train)"
   ]
  },
  {
   "cell_type": "code",
   "execution_count": 9,
   "id": "2a69324a-7e6e-412d-94bd-e6e091f36855",
   "metadata": {},
   "outputs": [
    {
     "name": "stdout",
     "output_type": "stream",
     "text": [
      "r2: 0.7133431144123463\n",
      "MAE: 3.1322192530180644\n",
      "MSE: 20.67071275646103\n"
     ]
    }
   ],
   "source": [
    "y_pred = lr.predict(X_test)\n",
    "print('r2:',r2_score(y_test, y_pred))\n",
    "print('MAE:',mean_absolute_error(y_test, y_pred))\n",
    "print('MSE:',mean_squared_error(y_test, y_pred))"
   ]
  },
  {
   "cell_type": "code",
   "execution_count": 10,
   "id": "9fe2f753-bbbf-4405-b694-5125fadacdda",
   "metadata": {
    "scrolled": true
   },
   "outputs": [
    {
     "data": {
      "text/plain": [
       "array(['1', 'crim', 'zn', 'indus', 'chas', 'nox', 'rm', 'age', 'dis',\n",
       "       'rad', 'tax', 'ptratio', 'black', 'lstat', 'crim^2', 'crim zn',\n",
       "       'crim indus', 'crim chas', 'crim nox', 'crim rm', 'crim age',\n",
       "       'crim dis', 'crim rad', 'crim tax', 'crim ptratio', 'crim black',\n",
       "       'crim lstat', 'zn^2', 'zn indus', 'zn chas', 'zn nox', 'zn rm',\n",
       "       'zn age', 'zn dis', 'zn rad', 'zn tax', 'zn ptratio', 'zn black',\n",
       "       'zn lstat', 'indus^2', 'indus chas', 'indus nox', 'indus rm',\n",
       "       'indus age', 'indus dis', 'indus rad', 'indus tax',\n",
       "       'indus ptratio', 'indus black', 'indus lstat', 'chas^2',\n",
       "       'chas nox', 'chas rm', 'chas age', 'chas dis', 'chas rad',\n",
       "       'chas tax', 'chas ptratio', 'chas black', 'chas lstat', 'nox^2',\n",
       "       'nox rm', 'nox age', 'nox dis', 'nox rad', 'nox tax',\n",
       "       'nox ptratio', 'nox black', 'nox lstat', 'rm^2', 'rm age',\n",
       "       'rm dis', 'rm rad', 'rm tax', 'rm ptratio', 'rm black', 'rm lstat',\n",
       "       'age^2', 'age dis', 'age rad', 'age tax', 'age ptratio',\n",
       "       'age black', 'age lstat', 'dis^2', 'dis rad', 'dis tax',\n",
       "       'dis ptratio', 'dis black', 'dis lstat', 'rad^2', 'rad tax',\n",
       "       'rad ptratio', 'rad black', 'rad lstat', 'tax^2', 'tax ptratio',\n",
       "       'tax black', 'tax lstat', 'ptratio^2', 'ptratio black',\n",
       "       'ptratio lstat', 'black^2', 'black lstat', 'lstat^2'], dtype=object)"
      ]
     },
     "execution_count": 10,
     "metadata": {},
     "output_type": "execute_result"
    }
   ],
   "source": [
    "# Polynomial\n",
    "\n",
    "poly = PolynomialFeatures(degree=2)\n",
    "X_poly = poly.fit_transform(X)\n",
    "poly.get_feature_names_out()"
   ]
  },
  {
   "cell_type": "code",
   "execution_count": 6,
   "id": "a2b1d029-841f-4e80-8279-bc1008313401",
   "metadata": {},
   "outputs": [
    {
     "name": "stdout",
     "output_type": "stream",
     "text": [
      "[-7.93106733e+07  1.95670272e+00  2.59123449e-01 -5.03048059e+00\n",
      "  8.60855352e+00  2.98970849e+02  3.23109754e+01  3.87311375e-01\n",
      " -9.48886834e+00  2.48517165e+00 -3.11746808e-02  1.18996865e+01\n",
      "  1.33700040e-01  1.45419970e+00  6.83272029e-03  1.09600645e-01\n",
      "  2.79594703e-01  2.58282420e+00 -3.03221201e+00  2.58907096e-01\n",
      " -7.89738569e-03 -2.05532530e-01  1.74400630e-01 -1.65174659e-02\n",
      "  1.51022452e-02  3.79458663e-04  2.26948693e-02 -1.06128961e-03\n",
      " -9.61074141e-03 -5.64318093e-02 -1.23257017e+00  3.32394861e-02\n",
      " -1.11806500e-03 -1.44507738e-02 -4.90242909e-03  7.31505355e-04\n",
      " -3.28657617e-03  4.04957324e-04 -2.02080041e-03  4.06535089e-02\n",
      " -1.15783537e+00  6.01225728e-01  2.12612160e-01  5.01214337e-03\n",
      "  1.85786218e-01  3.85125013e-02  1.64341891e-04  3.73671738e-02\n",
      "  2.57224015e-03 -2.21324290e-02  8.60855468e+00 -2.21061708e+01\n",
      " -5.15975006e+00  5.12547202e-02  7.43986796e-01 -1.95813643e+00\n",
      "  1.05427048e-01  5.59602200e-01  1.57011553e-02 -3.33790995e-01\n",
      " -1.05624979e+02 -5.58393806e+00 -1.00126010e-01  1.21738726e+01\n",
      " -1.52155757e+00  2.45730877e-01 -1.37895010e+01 -7.79165886e-02\n",
      "  9.65357886e-01 -2.45806309e-02 -3.14991468e-02 -1.88318880e-01\n",
      " -5.28575298e-02 -1.86451618e-02 -6.35433301e-01 -1.55934286e-03\n",
      " -3.10623653e-01 -2.08353769e-04  1.97631311e-03  1.53712617e-02\n",
      " -5.92130767e-04  7.24109432e-03 -5.21172548e-04 -5.31460573e-03\n",
      "  5.59172491e-01 -1.04026077e-01 -2.11990361e-03 -1.96906982e-01\n",
      "  3.86504938e-03  8.08979142e-02 -1.62628071e-01  6.96083473e-03\n",
      " -7.22599252e-02 -1.12498286e-03 -3.79249274e-02 -5.71496754e-05\n",
      "  2.84598363e-03  7.73798844e-06 -2.04028653e-04 -3.50456802e-02\n",
      " -1.11602996e-03  1.30409326e-02 -5.67285892e-05 -7.75905059e-04\n",
      "  1.14014552e-02]\n",
      "79310387.15803951\n",
      "r2: 0.6865974607208558\n"
     ]
    }
   ],
   "source": [
    "X_train, X_test, y_train, y_test = train_test_split(X_poly, y, test_size=0.3, random_state=24)\n",
    "\n",
    "lr = LinearRegression()\n",
    "lr.fit(X_train, y_train)\n",
    "print(lr.coef_)\n",
    "print(lr.intercept_)\n",
    "\n",
    "y_pred = lr.predict(X_test)\n",
    "print('r2:',r2_score(y_test, y_pred))"
   ]
  },
  {
   "cell_type": "code",
   "execution_count": null,
   "id": "8e0e5277-b463-4b57-a062-ad2fa6c08aa4",
   "metadata": {},
   "outputs": [],
   "source": []
  }
 ],
 "metadata": {
  "kernelspec": {
   "display_name": "Python 3 (ipykernel)",
   "language": "python",
   "name": "python3"
  },
  "language_info": {
   "codemirror_mode": {
    "name": "ipython",
    "version": 3
   },
   "file_extension": ".py",
   "mimetype": "text/x-python",
   "name": "python",
   "nbconvert_exporter": "python",
   "pygments_lexer": "ipython3",
   "version": "3.11.7"
  }
 },
 "nbformat": 4,
 "nbformat_minor": 5
}
