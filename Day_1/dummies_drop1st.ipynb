{
 "cells": [
  {
   "cell_type": "code",
   "execution_count": 1,
   "id": "1fa44c12-d7a0-40f7-9b24-89f5bde3b65e",
   "metadata": {},
   "outputs": [],
   "source": [
    "import pandas as pd"
   ]
  },
  {
   "cell_type": "code",
   "execution_count": 6,
   "id": "73d5b089-3993-4bfa-860d-f50173aeb0c0",
   "metadata": {},
   "outputs": [
    {
     "data": {
      "text/html": [
       "<div>\n",
       "<style scoped>\n",
       "    .dataframe tbody tr th:only-of-type {\n",
       "        vertical-align: middle;\n",
       "    }\n",
       "\n",
       "    .dataframe tbody tr th {\n",
       "        vertical-align: top;\n",
       "    }\n",
       "\n",
       "    .dataframe thead th {\n",
       "        text-align: right;\n",
       "    }\n",
       "</style>\n",
       "<table border=\"1\" class=\"dataframe\">\n",
       "  <thead>\n",
       "    <tr style=\"text-align: right;\">\n",
       "      <th></th>\n",
       "      <th>Model</th>\n",
       "      <th>Model Index</th>\n",
       "      <th>Displacement</th>\n",
       "      <th>Cylinders</th>\n",
       "      <th>Gears</th>\n",
       "      <th>Transmission</th>\n",
       "      <th>MPG</th>\n",
       "      <th>Aspiration</th>\n",
       "      <th>Lockup Torque Converter</th>\n",
       "      <th>Drive</th>\n",
       "      <th>Max Ethanol</th>\n",
       "      <th>Recommended Fuel</th>\n",
       "      <th>Intake Valves Per Cyl</th>\n",
       "      <th>Exhaust Valves Per Cyl</th>\n",
       "      <th>Fuel injection</th>\n",
       "    </tr>\n",
       "  </thead>\n",
       "  <tbody>\n",
       "    <tr>\n",
       "      <th>0</th>\n",
       "      <td>Acura NSX</td>\n",
       "      <td>57</td>\n",
       "      <td>3.5</td>\n",
       "      <td>6</td>\n",
       "      <td>9</td>\n",
       "      <td>Manual</td>\n",
       "      <td>21</td>\n",
       "      <td>Turbocharged/Supercharged</td>\n",
       "      <td>Y</td>\n",
       "      <td>All Wheel Drive</td>\n",
       "      <td>10</td>\n",
       "      <td>Premium Unleaded Required</td>\n",
       "      <td>2</td>\n",
       "      <td>2</td>\n",
       "      <td>Direct ignition</td>\n",
       "    </tr>\n",
       "    <tr>\n",
       "      <th>1</th>\n",
       "      <td>ALFA ROMEO 4C</td>\n",
       "      <td>410</td>\n",
       "      <td>1.8</td>\n",
       "      <td>4</td>\n",
       "      <td>6</td>\n",
       "      <td>Manual</td>\n",
       "      <td>28</td>\n",
       "      <td>Turbocharged/Supercharged</td>\n",
       "      <td>Y</td>\n",
       "      <td>2-Wheel Drive, Rear</td>\n",
       "      <td>10</td>\n",
       "      <td>Premium Unleaded Required</td>\n",
       "      <td>2</td>\n",
       "      <td>2</td>\n",
       "      <td>Direct ignition</td>\n",
       "    </tr>\n",
       "    <tr>\n",
       "      <th>2</th>\n",
       "      <td>Audi R8 AWD</td>\n",
       "      <td>65</td>\n",
       "      <td>5.2</td>\n",
       "      <td>10</td>\n",
       "      <td>7</td>\n",
       "      <td>Manual</td>\n",
       "      <td>17</td>\n",
       "      <td>Naturally Aspirated</td>\n",
       "      <td>Y</td>\n",
       "      <td>All Wheel Drive</td>\n",
       "      <td>15</td>\n",
       "      <td>Premium Unleaded Recommended</td>\n",
       "      <td>2</td>\n",
       "      <td>2</td>\n",
       "      <td>Direct ignition</td>\n",
       "    </tr>\n",
       "    <tr>\n",
       "      <th>3</th>\n",
       "      <td>Audi R8 RWD</td>\n",
       "      <td>71</td>\n",
       "      <td>5.2</td>\n",
       "      <td>10</td>\n",
       "      <td>7</td>\n",
       "      <td>Manual</td>\n",
       "      <td>18</td>\n",
       "      <td>Naturally Aspirated</td>\n",
       "      <td>Y</td>\n",
       "      <td>2-Wheel Drive, Rear</td>\n",
       "      <td>15</td>\n",
       "      <td>Premium Unleaded Recommended</td>\n",
       "      <td>2</td>\n",
       "      <td>2</td>\n",
       "      <td>Direct ignition</td>\n",
       "    </tr>\n",
       "    <tr>\n",
       "      <th>4</th>\n",
       "      <td>Audi R8 Spyder AWD</td>\n",
       "      <td>66</td>\n",
       "      <td>5.2</td>\n",
       "      <td>10</td>\n",
       "      <td>7</td>\n",
       "      <td>Manual</td>\n",
       "      <td>17</td>\n",
       "      <td>Naturally Aspirated</td>\n",
       "      <td>Y</td>\n",
       "      <td>All Wheel Drive</td>\n",
       "      <td>15</td>\n",
       "      <td>Premium Unleaded Recommended</td>\n",
       "      <td>2</td>\n",
       "      <td>2</td>\n",
       "      <td>Direct ignition</td>\n",
       "    </tr>\n",
       "  </tbody>\n",
       "</table>\n",
       "</div>"
      ],
      "text/plain": [
       "                Model  Model Index  Displacement  Cylinders  Gears  \\\n",
       "0           Acura NSX           57           3.5          6      9   \n",
       "1       ALFA ROMEO 4C          410           1.8          4      6   \n",
       "2         Audi R8 AWD           65           5.2         10      7   \n",
       "3         Audi R8 RWD           71           5.2         10      7   \n",
       "4  Audi R8 Spyder AWD           66           5.2         10      7   \n",
       "\n",
       "  Transmission  MPG                 Aspiration Lockup Torque Converter  \\\n",
       "0       Manual   21  Turbocharged/Supercharged                       Y   \n",
       "1       Manual   28  Turbocharged/Supercharged                       Y   \n",
       "2       Manual   17        Naturally Aspirated                       Y   \n",
       "3       Manual   18        Naturally Aspirated                       Y   \n",
       "4       Manual   17        Naturally Aspirated                       Y   \n",
       "\n",
       "                 Drive  Max Ethanol              Recommended Fuel  \\\n",
       "0      All Wheel Drive           10     Premium Unleaded Required   \n",
       "1  2-Wheel Drive, Rear           10     Premium Unleaded Required   \n",
       "2      All Wheel Drive           15  Premium Unleaded Recommended   \n",
       "3  2-Wheel Drive, Rear           15  Premium Unleaded Recommended   \n",
       "4      All Wheel Drive           15  Premium Unleaded Recommended   \n",
       "\n",
       "   Intake Valves Per Cyl  Exhaust Valves Per Cyl   Fuel injection  \n",
       "0                      2                       2  Direct ignition  \n",
       "1                      2                       2  Direct ignition  \n",
       "2                      2                       2  Direct ignition  \n",
       "3                      2                       2  Direct ignition  \n",
       "4                      2                       2  Direct ignition  "
      ]
     },
     "execution_count": 6,
     "metadata": {},
     "output_type": "execute_result"
    }
   ],
   "source": [
    "cars = pd.read_csv('../Datasets/cars2018.csv')\n",
    "cars.head()"
   ]
  },
  {
   "cell_type": "code",
   "execution_count": 7,
   "id": "04ae91d8-11e5-45da-8493-0174802a66f8",
   "metadata": {},
   "outputs": [],
   "source": [
    "dum_cars = pd.get_dummies(cars)"
   ]
  },
  {
   "cell_type": "code",
   "execution_count": 10,
   "id": "a565ce14-814a-49f6-8fb1-82bcab792618",
   "metadata": {},
   "outputs": [
    {
     "name": "stdout",
     "output_type": "stream",
     "text": [
      "(1144, 15)\n"
     ]
    },
    {
     "data": {
      "text/plain": [
       "Index(['Model', 'Model Index', 'Displacement', 'Cylinders', 'Gears',\n",
       "       'Transmission', 'MPG', 'Aspiration', 'Lockup Torque Converter', 'Drive',\n",
       "       'Max Ethanol', 'Recommended Fuel', 'Intake Valves Per Cyl',\n",
       "       'Exhaust Valves Per Cyl', 'Fuel injection'],\n",
       "      dtype='object')"
      ]
     },
     "execution_count": 10,
     "metadata": {},
     "output_type": "execute_result"
    }
   ],
   "source": [
    "print(cars.shape)\n",
    "cars.columns"
   ]
  },
  {
   "cell_type": "code",
   "execution_count": 11,
   "id": "27060661-63ea-4980-a3df-34a180e935f2",
   "metadata": {},
   "outputs": [
    {
     "name": "stdout",
     "output_type": "stream",
     "text": [
      "(1144, 774)\n"
     ]
    },
    {
     "data": {
      "text/plain": [
       "Index(['Model Index', 'Displacement', 'Cylinders', 'Gears', 'MPG',\n",
       "       'Max Ethanol', 'Intake Valves Per Cyl', 'Exhaust Valves Per Cyl',\n",
       "       'Model_ALFA ROMEO 4C', 'Model_ALFA ROMEO Giulia',\n",
       "       ...\n",
       "       'Lockup Torque Converter_Y', 'Drive_2-Wheel Drive, Front',\n",
       "       'Drive_2-Wheel Drive, Rear', 'Drive_4-Wheel Drive',\n",
       "       'Drive_All Wheel Drive',\n",
       "       'Recommended Fuel_Premium Unleaded Recommended',\n",
       "       'Recommended Fuel_Premium Unleaded Required',\n",
       "       'Recommended Fuel_Regular Unleaded Recommended',\n",
       "       'Fuel injection_Direct ignition',\n",
       "       'Fuel injection_Multipoint/sequential ignition'],\n",
       "      dtype='object', length=774)"
      ]
     },
     "execution_count": 11,
     "metadata": {},
     "output_type": "execute_result"
    }
   ],
   "source": [
    "print(dum_cars.shape)\n",
    "dum_cars.columns"
   ]
  },
  {
   "cell_type": "code",
   "execution_count": 12,
   "id": "51da0f92-b91d-4513-bf02-117caa712372",
   "metadata": {},
   "outputs": [],
   "source": [
    "dum_cars2 = pd.get_dummies(cars, drop_first=True)"
   ]
  },
  {
   "cell_type": "code",
   "execution_count": 13,
   "id": "4ea5e732-a372-4baa-8e68-5fe662ddb5b1",
   "metadata": {},
   "outputs": [
    {
     "name": "stdout",
     "output_type": "stream",
     "text": [
      "(1144, 767)\n"
     ]
    },
    {
     "data": {
      "text/plain": [
       "Index(['Model Index', 'Displacement', 'Cylinders', 'Gears', 'MPG',\n",
       "       'Max Ethanol', 'Intake Valves Per Cyl', 'Exhaust Valves Per Cyl',\n",
       "       'Model_ALFA ROMEO Giulia', 'Model_ALFA ROMEO Giulia AWD',\n",
       "       ...\n",
       "       'Transmission_CVT', 'Transmission_Manual',\n",
       "       'Aspiration_Turbocharged/Supercharged', 'Lockup Torque Converter_Y',\n",
       "       'Drive_2-Wheel Drive, Rear', 'Drive_4-Wheel Drive',\n",
       "       'Drive_All Wheel Drive', 'Recommended Fuel_Premium Unleaded Required',\n",
       "       'Recommended Fuel_Regular Unleaded Recommended',\n",
       "       'Fuel injection_Multipoint/sequential ignition'],\n",
       "      dtype='object', length=767)"
      ]
     },
     "execution_count": 13,
     "metadata": {},
     "output_type": "execute_result"
    }
   ],
   "source": [
    "print(dum_cars2.shape)\n",
    "dum_cars2.columns"
   ]
  },
  {
   "cell_type": "code",
   "execution_count": null,
   "id": "eeda65af-bfec-4ecf-ad3b-fbd230baa818",
   "metadata": {},
   "outputs": [],
   "source": []
  }
 ],
 "metadata": {
  "kernelspec": {
   "display_name": "Python 3 (ipykernel)",
   "language": "python",
   "name": "python3"
  },
  "language_info": {
   "codemirror_mode": {
    "name": "ipython",
    "version": 3
   },
   "file_extension": ".py",
   "mimetype": "text/x-python",
   "name": "python",
   "nbconvert_exporter": "python",
   "pygments_lexer": "ipython3",
   "version": "3.11.7"
  }
 },
 "nbformat": 4,
 "nbformat_minor": 5
}
