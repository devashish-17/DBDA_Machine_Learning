{
 "cells": [
  {
   "cell_type": "code",
   "execution_count": 51,
   "id": "435b1fb4-8099-4e75-9bf8-5ea39145f674",
   "metadata": {},
   "outputs": [],
   "source": [
    "import pandas as pd\n",
    "import numpy as np\n",
    "import matplotlib.pyplot as plt\n",
    "\n",
    "from sklearn.neighbors import KNeighborsClassifier\n",
    "from sklearn.preprocessing import LabelEncoder, StandardScaler, MinMaxScaler\n",
    "from sklearn.pipeline import Pipeline\n",
    "from sklearn.model_selection import train_test_split, cross_val_score\n",
    "from sklearn.linear_model import LogisticRegression\n",
    "from sklearn.model_selection import StratifiedKFold, GridSearchCV\n",
    "from sklearn.metrics import ConfusionMatrixDisplay, precision_score, recall_score, f1_score, classification_report, roc_curve, roc_auc_score, log_loss"
   ]
  },
  {
   "cell_type": "code",
   "execution_count": 18,
   "id": "a9c350a6-43ce-4a63-85c9-d52410f69720",
   "metadata": {},
   "outputs": [
    {
     "data": {
      "text/html": [
       "<div>\n",
       "<style scoped>\n",
       "    .dataframe tbody tr th:only-of-type {\n",
       "        vertical-align: middle;\n",
       "    }\n",
       "\n",
       "    .dataframe tbody tr th {\n",
       "        vertical-align: top;\n",
       "    }\n",
       "\n",
       "    .dataframe thead th {\n",
       "        text-align: right;\n",
       "    }\n",
       "</style>\n",
       "<table border=\"1\" class=\"dataframe\">\n",
       "  <thead>\n",
       "    <tr style=\"text-align: right;\">\n",
       "      <th></th>\n",
       "      <th>satisfaction_level</th>\n",
       "      <th>last_evaluation</th>\n",
       "      <th>number_project</th>\n",
       "      <th>average_montly_hours</th>\n",
       "      <th>time_spend_company</th>\n",
       "      <th>Work_accident</th>\n",
       "      <th>left</th>\n",
       "      <th>promotion_last_5years</th>\n",
       "      <th>Department</th>\n",
       "      <th>salary</th>\n",
       "    </tr>\n",
       "  </thead>\n",
       "  <tbody>\n",
       "    <tr>\n",
       "      <th>0</th>\n",
       "      <td>0.38</td>\n",
       "      <td>0.53</td>\n",
       "      <td>2</td>\n",
       "      <td>157</td>\n",
       "      <td>3</td>\n",
       "      <td>0</td>\n",
       "      <td>1</td>\n",
       "      <td>0</td>\n",
       "      <td>sales</td>\n",
       "      <td>low</td>\n",
       "    </tr>\n",
       "    <tr>\n",
       "      <th>1</th>\n",
       "      <td>0.80</td>\n",
       "      <td>0.86</td>\n",
       "      <td>5</td>\n",
       "      <td>262</td>\n",
       "      <td>6</td>\n",
       "      <td>0</td>\n",
       "      <td>1</td>\n",
       "      <td>0</td>\n",
       "      <td>sales</td>\n",
       "      <td>medium</td>\n",
       "    </tr>\n",
       "  </tbody>\n",
       "</table>\n",
       "</div>"
      ],
      "text/plain": [
       "   satisfaction_level  last_evaluation  number_project  average_montly_hours  \\\n",
       "0                0.38             0.53               2                   157   \n",
       "1                0.80             0.86               5                   262   \n",
       "\n",
       "   time_spend_company  Work_accident  left  promotion_last_5years Department  \\\n",
       "0                   3              0     1                      0      sales   \n",
       "1                   6              0     1                      0      sales   \n",
       "\n",
       "   salary  \n",
       "0     low  \n",
       "1  medium  "
      ]
     },
     "execution_count": 18,
     "metadata": {},
     "output_type": "execute_result"
    }
   ],
   "source": [
    "df = pd.read_csv('HR_comma_sep.csv')\n",
    "df.head(2)"
   ]
  },
  {
   "cell_type": "code",
   "execution_count": 19,
   "id": "296e6d01-01d8-481c-a1c0-67ace715e85d",
   "metadata": {},
   "outputs": [
    {
     "data": {
      "text/html": [
       "<div>\n",
       "<style scoped>\n",
       "    .dataframe tbody tr th:only-of-type {\n",
       "        vertical-align: middle;\n",
       "    }\n",
       "\n",
       "    .dataframe tbody tr th {\n",
       "        vertical-align: top;\n",
       "    }\n",
       "\n",
       "    .dataframe thead th {\n",
       "        text-align: right;\n",
       "    }\n",
       "</style>\n",
       "<table border=\"1\" class=\"dataframe\">\n",
       "  <thead>\n",
       "    <tr style=\"text-align: right;\">\n",
       "      <th></th>\n",
       "      <th>satisfaction_level</th>\n",
       "      <th>last_evaluation</th>\n",
       "      <th>number_project</th>\n",
       "      <th>average_montly_hours</th>\n",
       "      <th>time_spend_company</th>\n",
       "      <th>Work_accident</th>\n",
       "      <th>left</th>\n",
       "      <th>promotion_last_5years</th>\n",
       "      <th>Department_RandD</th>\n",
       "      <th>Department_accounting</th>\n",
       "      <th>Department_hr</th>\n",
       "      <th>Department_management</th>\n",
       "      <th>Department_marketing</th>\n",
       "      <th>Department_product_mng</th>\n",
       "      <th>Department_sales</th>\n",
       "      <th>Department_support</th>\n",
       "      <th>Department_technical</th>\n",
       "      <th>salary_low</th>\n",
       "      <th>salary_medium</th>\n",
       "    </tr>\n",
       "  </thead>\n",
       "  <tbody>\n",
       "    <tr>\n",
       "      <th>0</th>\n",
       "      <td>0.38</td>\n",
       "      <td>0.53</td>\n",
       "      <td>2</td>\n",
       "      <td>157</td>\n",
       "      <td>3</td>\n",
       "      <td>0</td>\n",
       "      <td>1</td>\n",
       "      <td>0</td>\n",
       "      <td>False</td>\n",
       "      <td>False</td>\n",
       "      <td>False</td>\n",
       "      <td>False</td>\n",
       "      <td>False</td>\n",
       "      <td>False</td>\n",
       "      <td>True</td>\n",
       "      <td>False</td>\n",
       "      <td>False</td>\n",
       "      <td>True</td>\n",
       "      <td>False</td>\n",
       "    </tr>\n",
       "    <tr>\n",
       "      <th>1</th>\n",
       "      <td>0.80</td>\n",
       "      <td>0.86</td>\n",
       "      <td>5</td>\n",
       "      <td>262</td>\n",
       "      <td>6</td>\n",
       "      <td>0</td>\n",
       "      <td>1</td>\n",
       "      <td>0</td>\n",
       "      <td>False</td>\n",
       "      <td>False</td>\n",
       "      <td>False</td>\n",
       "      <td>False</td>\n",
       "      <td>False</td>\n",
       "      <td>False</td>\n",
       "      <td>True</td>\n",
       "      <td>False</td>\n",
       "      <td>False</td>\n",
       "      <td>False</td>\n",
       "      <td>True</td>\n",
       "    </tr>\n",
       "  </tbody>\n",
       "</table>\n",
       "</div>"
      ],
      "text/plain": [
       "   satisfaction_level  last_evaluation  number_project  average_montly_hours  \\\n",
       "0                0.38             0.53               2                   157   \n",
       "1                0.80             0.86               5                   262   \n",
       "\n",
       "   time_spend_company  Work_accident  left  promotion_last_5years  \\\n",
       "0                   3              0     1                      0   \n",
       "1                   6              0     1                      0   \n",
       "\n",
       "   Department_RandD  Department_accounting  Department_hr  \\\n",
       "0             False                  False          False   \n",
       "1             False                  False          False   \n",
       "\n",
       "   Department_management  Department_marketing  Department_product_mng  \\\n",
       "0                  False                 False                   False   \n",
       "1                  False                 False                   False   \n",
       "\n",
       "   Department_sales  Department_support  Department_technical  salary_low  \\\n",
       "0              True               False                 False        True   \n",
       "1              True               False                 False       False   \n",
       "\n",
       "   salary_medium  \n",
       "0          False  \n",
       "1           True  "
      ]
     },
     "execution_count": 19,
     "metadata": {},
     "output_type": "execute_result"
    }
   ],
   "source": [
    "dum_hr = pd.get_dummies(df, drop_first=True)\n",
    "dum_hr.head(2)"
   ]
  },
  {
   "cell_type": "code",
   "execution_count": 20,
   "id": "6ca56108-d2f9-4ab5-909d-5022510adc21",
   "metadata": {},
   "outputs": [],
   "source": [
    "X = dum_hr.drop('left', axis=1)\n",
    "y = dum_hr['left']"
   ]
  },
  {
   "cell_type": "code",
   "execution_count": 21,
   "id": "94c03b23-3996-4537-9403-e7b63bfe7b0f",
   "metadata": {},
   "outputs": [],
   "source": [
    "X_train, X_test, y_train, y_test = train_test_split(X,y,test_size=0.3, stratify=y,random_state=24)"
   ]
  },
  {
   "cell_type": "code",
   "execution_count": 22,
   "id": "3e58a6b2-8d8b-45bf-b34f-2e8bb808bdae",
   "metadata": {},
   "outputs": [
    {
     "name": "stdout",
     "output_type": "stream",
     "text": [
      "{'n_neighbors': 10}\n",
      "-0.468508329142402\n"
     ]
    }
   ],
   "source": [
    "params = {'n_neighbors':[1,2,3,4,5,6,7,8,9,10]}\n",
    "knn = KNeighborsClassifier()\n",
    "kfold = StratifiedKFold(n_splits=5, shuffle=True, random_state=24)\n",
    "gcv = GridSearchCV(knn, param_grid=params, cv=kfold, scoring='neg_log_loss')\n",
    "gcv.fit(X,y)\n",
    "print(gcv.best_params_)\n",
    "print(gcv.best_score_)"
   ]
  },
  {
   "cell_type": "code",
   "execution_count": null,
   "id": "2a9dbb6c-8d06-4275-a712-c4cb83627063",
   "metadata": {},
   "outputs": [],
   "source": []
  },
  {
   "cell_type": "markdown",
   "id": "35c4f937-e164-482a-b311-c93e6e146f3b",
   "metadata": {},
   "source": [
    "## Scaling"
   ]
  },
  {
   "cell_type": "code",
   "execution_count": 37,
   "id": "65a41aad-9c69-416b-8850-50625ebc6f39",
   "metadata": {},
   "outputs": [
    {
     "name": "stdout",
     "output_type": "stream",
     "text": [
      "0.7175772218036754\n"
     ]
    }
   ],
   "source": [
    "# knn = KNeighborsClassifier(n_neighbors=5)\n",
    "\n",
    "scaler = StandardScaler()\n",
    "X_train_scl = scaler.fit_transform(X_train)\n",
    "knn.fit(X_train_scl, y_train)\n",
    "\n",
    "X_test_scl = scaler.transform(X_test)\n",
    "y_pred_prob = knn.predict_proba(X_test_scl)\n",
    "print(log_loss(y_test, y_pred_prob[:,1]))"
   ]
  },
  {
   "cell_type": "code",
   "execution_count": null,
   "id": "8d81b708-6268-45aa-bc22-18bd32b38bcf",
   "metadata": {},
   "outputs": [],
   "source": []
  },
  {
   "cell_type": "markdown",
   "id": "aab772fb-628f-4434-bb0d-e852930f604e",
   "metadata": {},
   "source": [
    "## Using Pipeline"
   ]
  },
  {
   "cell_type": "code",
   "execution_count": 39,
   "id": "12480f97-9af9-426f-94d1-de7426cb25e4",
   "metadata": {},
   "outputs": [
    {
     "name": "stdout",
     "output_type": "stream",
     "text": [
      "0.7175772218036754\n"
     ]
    }
   ],
   "source": [
    "pipe = Pipeline([('SCL', scaler), ('KNN', knn)])\n",
    "pipe.fit(X_train, y_train)\n",
    "y_pred_prob = pipe.predict_proba(X_test)\n",
    "print(log_loss(y_test, y_pred_prob[:,1]))"
   ]
  },
  {
   "cell_type": "code",
   "execution_count": null,
   "id": "0d3a85f7-0202-42c3-a6eb-897620696076",
   "metadata": {},
   "outputs": [],
   "source": []
  },
  {
   "cell_type": "markdown",
   "id": "373b48cf-1cdd-46c8-afb2-e1ddf3b6b680",
   "metadata": {},
   "source": [
    "## Pipeline with GridSearchCV"
   ]
  },
  {
   "cell_type": "code",
   "execution_count": 44,
   "id": "87881f3d-b4b4-4998-afb5-b0fd011758a7",
   "metadata": {},
   "outputs": [
    {
     "name": "stdout",
     "output_type": "stream",
     "text": [
      "{'KNN__n_neighbors': 39}\n",
      "-0.3329779348050666\n"
     ]
    }
   ],
   "source": [
    "# params = {'n_neighbors': np.arange(1, 40)}\n",
    "params = {'KNN__n_neighbors': np.arange(1, 40)}  # KNN prefix from Pipeline([('SCL', scaler), ('KNN', knn)])\n",
    "knn = KNeighborsClassifier()\n",
    "kfold = StratifiedKFold(n_splits=5, shuffle=True, random_state=24)\n",
    "gcv = GridSearchCV(pipe, param_grid=params, cv=kfold, scoring='neg_log_loss')\n",
    "gcv.fit(X,y)\n",
    "print(gcv.best_params_)\n",
    "print(gcv.best_score_)"
   ]
  },
  {
   "cell_type": "code",
   "execution_count": null,
   "id": "a4b42b41-8407-4bb3-b764-227c433132b9",
   "metadata": {},
   "outputs": [],
   "source": []
  },
  {
   "cell_type": "markdown",
   "id": "a7e90014-4fa3-43ec-99c9-5dd4a1250a58",
   "metadata": {},
   "source": [
    "## Using MinMaxScaler"
   ]
  },
  {
   "cell_type": "code",
   "execution_count": 47,
   "id": "1b6bc535-cbf7-4336-95bd-a74eb6764179",
   "metadata": {},
   "outputs": [
    {
     "name": "stdout",
     "output_type": "stream",
     "text": [
      "0.688465995800685\n"
     ]
    }
   ],
   "source": [
    "mnx_scaler = MinMaxScaler()\n",
    "\n",
    "pipe = Pipeline([('SCL', mnx_scaler), ('KNN', knn)])\n",
    "pipe.fit(X_train, y_train)\n",
    "y_pred_prob = pipe.predict_proba(X_test)\n",
    "print(log_loss(y_test, y_pred_prob[:,1]))"
   ]
  },
  {
   "cell_type": "markdown",
   "id": "d679e69e-0cde-4f26-9a46-550bfc89811e",
   "metadata": {},
   "source": [
    "## Using MinMaxScaler with GridSearchCV"
   ]
  },
  {
   "cell_type": "code",
   "execution_count": 50,
   "id": "dfc4c55a-ecb5-49b4-85f0-7eb71c575ce8",
   "metadata": {},
   "outputs": [
    {
     "name": "stdout",
     "output_type": "stream",
     "text": [
      "{'KNN__n_neighbors': 39}\n",
      "-0.35124560125812215\n"
     ]
    }
   ],
   "source": [
    "mnx_scaler = MinMaxScaler()\n",
    "\n",
    "pipe = Pipeline([('SCL', mnx_scaler), ('KNN', knn)])\n",
    "params = {'KNN__n_neighbors': np.arange(1, 40)} \n",
    "kfold = StratifiedKFold(n_splits=5, shuffle=True, random_state=24)\n",
    "\n",
    "gcv = GridSearchCV(pipe, param_grid=params, cv=kfold, scoring='neg_log_loss')\n",
    "gcv.fit(X,y)\n",
    "\n",
    "print(gcv.best_params_)\n",
    "print(gcv.best_score_)"
   ]
  },
  {
   "cell_type": "markdown",
   "id": "ab94e2bf-45c3-4ee5-9a8f-9065ed73f5e9",
   "metadata": {},
   "source": [
    "## All Scaling in one"
   ]
  },
  {
   "cell_type": "code",
   "execution_count": 49,
   "id": "55d38efd-ac1b-4097-b76a-67c7fb8fbddd",
   "metadata": {},
   "outputs": [
    {
     "name": "stdout",
     "output_type": "stream",
     "text": [
      "{'KNN__n_neighbors': 38, 'SCL': None}\n",
      "-0.2855897663566085\n"
     ]
    }
   ],
   "source": [
    "pipe = Pipeline([('SCL', None), ('KNN', knn)])\n",
    "params = {'KNN__n_neighbors': np.arange(1, 40), 'SCL':[None, scaler, mnx_scaler]} \n",
    "kfold = StratifiedKFold(n_splits=5, shuffle=True, random_state=24)\n",
    "\n",
    "gcv = GridSearchCV(pipe, param_grid=params, cv=kfold, scoring='neg_log_loss')\n",
    "gcv.fit(X,y)\n",
    "\n",
    "print(gcv.best_params_)\n",
    "print(gcv.best_score_)"
   ]
  },
  {
   "cell_type": "code",
   "execution_count": null,
   "id": "1cdad023-6939-4373-94e2-3b037dc52468",
   "metadata": {},
   "outputs": [],
   "source": []
  }
 ],
 "metadata": {
  "kernelspec": {
   "display_name": "Python 3 (ipykernel)",
   "language": "python",
   "name": "python3"
  },
  "language_info": {
   "codemirror_mode": {
    "name": "ipython",
    "version": 3
   },
   "file_extension": ".py",
   "mimetype": "text/x-python",
   "name": "python",
   "nbconvert_exporter": "python",
   "pygments_lexer": "ipython3",
   "version": "3.11.7"
  }
 },
 "nbformat": 4,
 "nbformat_minor": 5
}
