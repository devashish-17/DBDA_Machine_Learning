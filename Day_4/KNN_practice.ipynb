{
 "cells": [
  {
   "cell_type": "code",
   "execution_count": 1,
   "id": "be798141-d299-4294-9f00-b08ae2f6406e",
   "metadata": {},
   "outputs": [],
   "source": [
    "import pandas as pd\n",
    "import numpy as np\n",
    "import matplotlib.pyplot as plt\n",
    "\n",
    "from sklearn.neighbors import KNeighborsClassifier\n",
    "from sklearn.preprocessing import LabelEncoder, StandardScaler, MinMaxScaler\n",
    "from sklearn.pipeline import Pipeline\n",
    "from sklearn.model_selection import train_test_split, cross_val_score\n",
    "from sklearn.linear_model import LogisticRegression\n",
    "from sklearn.model_selection import StratifiedKFold, GridSearchCV\n",
    "from sklearn.metrics import ConfusionMatrixDisplay, precision_score, recall_score, f1_score, classification_report, roc_curve, roc_auc_score, log_loss"
   ]
  },
  {
   "cell_type": "code",
   "execution_count": 2,
   "id": "7c9c3766-9ceb-419a-840c-ded665531946",
   "metadata": {},
   "outputs": [
    {
     "data": {
      "text/html": [
       "<div>\n",
       "<style scoped>\n",
       "    .dataframe tbody tr th:only-of-type {\n",
       "        vertical-align: middle;\n",
       "    }\n",
       "\n",
       "    .dataframe tbody tr th {\n",
       "        vertical-align: top;\n",
       "    }\n",
       "\n",
       "    .dataframe thead th {\n",
       "        text-align: right;\n",
       "    }\n",
       "</style>\n",
       "<table border=\"1\" class=\"dataframe\">\n",
       "  <thead>\n",
       "    <tr style=\"text-align: right;\">\n",
       "      <th></th>\n",
       "      <th>satisfaction_level</th>\n",
       "      <th>last_evaluation</th>\n",
       "      <th>number_project</th>\n",
       "      <th>average_montly_hours</th>\n",
       "      <th>time_spend_company</th>\n",
       "      <th>Work_accident</th>\n",
       "      <th>left</th>\n",
       "      <th>promotion_last_5years</th>\n",
       "      <th>Department</th>\n",
       "      <th>salary</th>\n",
       "    </tr>\n",
       "  </thead>\n",
       "  <tbody>\n",
       "    <tr>\n",
       "      <th>0</th>\n",
       "      <td>0.38</td>\n",
       "      <td>0.53</td>\n",
       "      <td>2</td>\n",
       "      <td>157</td>\n",
       "      <td>3</td>\n",
       "      <td>0</td>\n",
       "      <td>1</td>\n",
       "      <td>0</td>\n",
       "      <td>sales</td>\n",
       "      <td>low</td>\n",
       "    </tr>\n",
       "    <tr>\n",
       "      <th>1</th>\n",
       "      <td>0.80</td>\n",
       "      <td>0.86</td>\n",
       "      <td>5</td>\n",
       "      <td>262</td>\n",
       "      <td>6</td>\n",
       "      <td>0</td>\n",
       "      <td>1</td>\n",
       "      <td>0</td>\n",
       "      <td>sales</td>\n",
       "      <td>medium</td>\n",
       "    </tr>\n",
       "  </tbody>\n",
       "</table>\n",
       "</div>"
      ],
      "text/plain": [
       "   satisfaction_level  last_evaluation  number_project  average_montly_hours  \\\n",
       "0                0.38             0.53               2                   157   \n",
       "1                0.80             0.86               5                   262   \n",
       "\n",
       "   time_spend_company  Work_accident  left  promotion_last_5years Department  \\\n",
       "0                   3              0     1                      0      sales   \n",
       "1                   6              0     1                      0      sales   \n",
       "\n",
       "   salary  \n",
       "0     low  \n",
       "1  medium  "
      ]
     },
     "execution_count": 2,
     "metadata": {},
     "output_type": "execute_result"
    }
   ],
   "source": [
    "df = pd.read_csv('HR_comma_sep.csv')\n",
    "df.head(2)"
   ]
  },
  {
   "cell_type": "code",
   "execution_count": 3,
   "id": "4692ee36-3b29-4a1e-9424-f302625a6976",
   "metadata": {},
   "outputs": [],
   "source": [
    "dum_hr = pd.get_dummies(df, drop_first=True)\n",
    "X = dum_hr.drop('left', axis=1)\n",
    "y = dum_hr['left']\n",
    "X_train, X_test, y_train, y_test = train_test_split(X,y,test_size=0.3, stratify=y,random_state=24)"
   ]
  },
  {
   "cell_type": "code",
   "execution_count": 9,
   "id": "1f0a1db8-976c-4193-8519-7f943db5e686",
   "metadata": {},
   "outputs": [],
   "source": [
    "knn = KNeighborsClassifier()"
   ]
  },
  {
   "cell_type": "markdown",
   "id": "79682331-4d65-4a34-825a-0e7a7b1ea1b1",
   "metadata": {},
   "source": [
    "## Without Scaling"
   ]
  },
  {
   "cell_type": "code",
   "execution_count": 10,
   "id": "822301bd-f824-4381-91da-8f66672f8499",
   "metadata": {},
   "outputs": [
    {
     "name": "stdout",
     "output_type": "stream",
     "text": [
      "{'n_neighbors': 38}\n",
      "-0.2855897663566085\n"
     ]
    }
   ],
   "source": [
    "params = {'n_neighbors': np.arange(1, 40)}\n",
    "kfold = StratifiedKFold(n_splits=5, shuffle=True, random_state=24)\n",
    "gcv = GridSearchCV(knn, param_grid=params, cv=kfold, scoring='neg_log_loss')\n",
    "gcv.fit(X,y)\n",
    "print(gcv.best_params_)\n",
    "print(gcv.best_score_)"
   ]
  },
  {
   "cell_type": "markdown",
   "id": "de58934e-4913-499e-8211-a939c3581589",
   "metadata": {},
   "source": [
    "## With StandardScaler"
   ]
  },
  {
   "cell_type": "code",
   "execution_count": 6,
   "id": "6b7f44b3-9dd6-462b-b464-1c1484afb891",
   "metadata": {},
   "outputs": [
    {
     "name": "stdout",
     "output_type": "stream",
     "text": [
      "{'KNN__n_neighbors': 39}\n",
      "-0.3329779348050666\n"
     ]
    }
   ],
   "source": [
    "scaler = StandardScaler()\n",
    "X_train_scl = scaler.fit_transform(X_train)\n",
    "knn.fit(X_train_scl, y_train)\n",
    "\n",
    "X_test_scl = scaler.transform(X_test)\n",
    "\n",
    "pipe = Pipeline([('SCL', scaler), ('KNN', knn)])\n",
    "pipe.fit(X_train, y_train)\n",
    "\n",
    "params = {'KNN__n_neighbors': np.arange(1, 40)}\n",
    "knn = KNeighborsClassifier()\n",
    "kfold = StratifiedKFold(n_splits=5, shuffle=True, random_state=24)\n",
    "gcv = GridSearchCV(pipe, param_grid=params, cv=kfold, scoring='neg_log_loss')\n",
    "gcv.fit(X,y)\n",
    "print(gcv.best_params_)\n",
    "print(gcv.best_score_)"
   ]
  },
  {
   "cell_type": "markdown",
   "id": "7abf7072-2061-43a6-a840-4a87d8370480",
   "metadata": {},
   "source": [
    "## With MinMaxScaler"
   ]
  },
  {
   "cell_type": "code",
   "execution_count": 7,
   "id": "92d01a8d-8c71-4c93-a91c-e73410204cea",
   "metadata": {},
   "outputs": [
    {
     "name": "stdout",
     "output_type": "stream",
     "text": [
      "{'KNN__n_neighbors': 39}\n",
      "-0.35124560125812215\n"
     ]
    }
   ],
   "source": [
    "mnx_scaler = MinMaxScaler()\n",
    "\n",
    "pipe = Pipeline([('SCL', mnx_scaler), ('KNN', knn)])\n",
    "pipe.fit(X_train, y_train)\n",
    "y_pred_prob = pipe.predict_proba(X_test)\n",
    "\n",
    "params = {'KNN__n_neighbors': np.arange(1, 40)} \n",
    "kfold = StratifiedKFold(n_splits=5, shuffle=True, random_state=24)\n",
    "\n",
    "gcv = GridSearchCV(pipe, param_grid=params, cv=kfold, scoring='neg_log_loss')\n",
    "gcv.fit(X,y)\n",
    "\n",
    "print(gcv.best_params_)\n",
    "print(gcv.best_score_)"
   ]
  },
  {
   "cell_type": "code",
   "execution_count": null,
   "id": "fe1007d2-71a0-48a0-bbe2-8b1bb3f5ebbd",
   "metadata": {},
   "outputs": [],
   "source": []
  },
  {
   "cell_type": "code",
   "execution_count": null,
   "id": "ed3da47b-c72f-4b87-bc4b-932fa96a3948",
   "metadata": {},
   "outputs": [],
   "source": []
  }
 ],
 "metadata": {
  "kernelspec": {
   "display_name": "Python 3 (ipykernel)",
   "language": "python",
   "name": "python3"
  },
  "language_info": {
   "codemirror_mode": {
    "name": "ipython",
    "version": 3
   },
   "file_extension": ".py",
   "mimetype": "text/x-python",
   "name": "python",
   "nbconvert_exporter": "python",
   "pygments_lexer": "ipython3",
   "version": "3.11.7"
  }
 },
 "nbformat": 4,
 "nbformat_minor": 5
}
