{
 "cells": [
  {
   "cell_type": "code",
   "execution_count": 1,
   "id": "aefd29b5",
   "metadata": {},
   "outputs": [],
   "source": [
    "import pandas as pd\n",
    "import numpy as np\n",
    "from sklearn.model_selection import train_test_split,KFold,cross_val_score\n",
    "import os\n",
    "from sklearn.linear_model import LinearRegression\n",
    "from sklearn.metrics import r2_score, mean_absolute_error, mean_squared_error"
   ]
  },
  {
   "cell_type": "code",
   "execution_count": 19,
   "id": "8cde1057",
   "metadata": {},
   "outputs": [],
   "source": [
    "import warnings\n",
    "warnings.filterwarnings('ignore')"
   ]
  },
  {
   "cell_type": "code",
   "execution_count": 20,
   "id": "83493ea1",
   "metadata": {},
   "outputs": [],
   "source": [
    "os.chdir(\"D:/Machine Learning/Datasets/Datasets\")"
   ]
  },
  {
   "cell_type": "code",
   "execution_count": 21,
   "id": "cbfb2a46",
   "metadata": {},
   "outputs": [
    {
     "name": "stdout",
     "output_type": "stream",
     "text": [
      "(546, 12)\n"
     ]
    }
   ],
   "source": [
    "df = pd.read_csv('Housing.csv')\n",
    "print(df.shape)"
   ]
  },
  {
   "cell_type": "code",
   "execution_count": 4,
   "id": "e692b151",
   "metadata": {},
   "outputs": [],
   "source": [
    "dum_df = pd.get_dummies(df,drop_first=True)"
   ]
  },
  {
   "cell_type": "markdown",
   "id": "7f5a9dfb",
   "metadata": {},
   "source": [
    "#### Trying for linear, Ridge and  Lasso and Elastic Net"
   ]
  },
  {
   "cell_type": "code",
   "execution_count": 5,
   "id": "1547a637",
   "metadata": {},
   "outputs": [
    {
     "name": "stdout",
     "output_type": "stream",
     "text": [
      "r2 squares for 5 fold cross validation is : [0.61570595 0.69337635 0.64279797 0.68809701 0.64542714]\n",
      "\n",
      "Mean of r2 squares for the k fold cros validation  0.6570808836039296\n"
     ]
    }
   ],
   "source": [
    "### for the linear Regression\n",
    "\n",
    "x = dum_df.drop(['price'],axis=1)  # independents columns \n",
    "y = dum_df['price'] # target \n",
    "\n",
    "# setting the k fold cross validation \n",
    "kfold = KFold(n_splits=5,random_state=24,shuffle=True)\n",
    "\n",
    "\n",
    "lr = LinearRegression()\n",
    "\n",
    "results = cross_val_score(lr,x,y,cv=kfold)\n",
    "\n",
    "print(\"r2 squares for 5 fold cross validation is :\",results)\n",
    "print(\"\")\n",
    "print(\"Mean of r2 squares for the k fold cros validation \",results.mean())"
   ]
  },
  {
   "cell_type": "code",
   "execution_count": 6,
   "id": "182d5450",
   "metadata": {},
   "outputs": [
    {
     "name": "stdout",
     "output_type": "stream",
     "text": [
      "r2 squares for 5 fold cross validation is : [0.61440956 0.69518871 0.64340081 0.68797502 0.64601555]\n",
      "\n",
      "Mean of r2 squares for the k fold cros validation  0.6573979310546161\n"
     ]
    }
   ],
   "source": [
    "### for the Ridge Regression\n",
    "from sklearn.linear_model import Ridge\n",
    "\n",
    "x = dum_df.drop(['price'],axis=1)  # independents columns \n",
    "y = dum_df['price'] # target \n",
    "\n",
    "# setting the k fold cross validation \n",
    "kfold = KFold(n_splits=5,random_state=24,shuffle=True)\n",
    "\n",
    "\n",
    "rd = Ridge()\n",
    "\n",
    "results = cross_val_score(rd,x,y,cv=kfold)\n",
    "\n",
    "print(\"r2 squares for 5 fold cross validation is :\",results)\n",
    "print(\"\")\n",
    "print(\"Mean of r2 squares for the k fold cros validation \",results.mean())"
   ]
  },
  {
   "cell_type": "code",
   "execution_count": 7,
   "id": "df271f9d",
   "metadata": {},
   "outputs": [
    {
     "name": "stdout",
     "output_type": "stream",
     "text": [
      "r2 squares for 5 fold cross validation is : [0.61564998 0.69343296 0.64277184 0.6881019  0.64545422]\n",
      "\n",
      "Mean of r2 squares for the k fold cros validation  0.6570821806267306\n"
     ]
    }
   ],
   "source": [
    "### for the Lasso Regression\n",
    "from sklearn.linear_model import Lasso\n",
    "\n",
    "x = dum_df.drop(['price'],axis=1)  # independents columns \n",
    "y = dum_df['price'] # target \n",
    "\n",
    "# setting the k fold cross validation \n",
    "kfold = KFold(n_splits=5,random_state=24,shuffle=True)\n",
    "\n",
    "\n",
    "ls = Lasso()\n",
    "\n",
    "results = cross_val_score(ls,x,y,cv=kfold)\n",
    "\n",
    "print(\"r2 squares for 5 fold cross validation is :\",results)\n",
    "print(\"\")\n",
    "print(\"Mean of r2 squares for the k fold cros validation \",results.mean())"
   ]
  },
  {
   "cell_type": "code",
   "execution_count": 8,
   "id": "f0eb58ca",
   "metadata": {},
   "outputs": [
    {
     "name": "stdout",
     "output_type": "stream",
     "text": [
      "r2 squares for 5 fold cross validation is : [0.48423761 0.61724948 0.58026324 0.59426232 0.56143989]\n",
      "\n",
      "Mean of r2 squares for the k fold cros validation  0.5674905101968157\n"
     ]
    }
   ],
   "source": [
    "### for the Elastic Regression\n",
    "from sklearn.linear_model import ElasticNet\n",
    "\n",
    "x = dum_df.drop(['price'],axis=1)  # independents columns \n",
    "y = dum_df['price'] # target \n",
    "\n",
    "# setting the k fold cross validation \n",
    "kfold = KFold(n_splits=5,random_state=24,shuffle=True)\n",
    "\n",
    "\n",
    "el = ElasticNet()\n",
    "\n",
    "results = cross_val_score(el,x,y,cv=kfold)\n",
    "\n",
    "print(\"r2 squares for 5 fold cross validation is :\",results)\n",
    "print(\"\")\n",
    "print(\"Mean of r2 squares for the k fold cros validation \",results.mean())"
   ]
  },
  {
   "cell_type": "code",
   "execution_count": 9,
   "id": "72a60739",
   "metadata": {},
   "outputs": [],
   "source": [
    "# k fold is always better than the train_test_split "
   ]
  },
  {
   "cell_type": "markdown",
   "id": "1e250a0f",
   "metadata": {},
   "source": [
    "### Ridge regression using kfold"
   ]
  },
  {
   "cell_type": "code",
   "execution_count": 10,
   "id": "1aca8e42",
   "metadata": {},
   "outputs": [
    {
     "name": "stdout",
     "output_type": "stream",
     "text": [
      "Best Alpha :  4.0\n",
      "Best Score :  0.6577381120548891\n"
     ]
    }
   ],
   "source": [
    "### for the Ridge Regression\n",
    "from sklearn.linear_model import Ridge\n",
    "\n",
    "x = dum_df.drop(['price'],axis=1)  # independents columns \n",
    "y = dum_df['price'] # target \n",
    "\n",
    "# setting the k fold cross validation \n",
    "kfold = KFold(n_splits=5,random_state=24,shuffle=True)\n",
    "\n",
    "scores=[]\n",
    "alphas = np.arange(0,10,0.25)\n",
    "for i in alphas:\n",
    "    rd = Ridge(alpha=i)\n",
    "    results = cross_val_score(rd,x,y,cv=kfold)\n",
    "    scores.append(results.mean())\n",
    "\n",
    "i_max = np.argmax(scores)\n",
    "print('Best Alpha : ',alphas[i_max])\n",
    "print('Best Score : ', scores[i_max])"
   ]
  },
  {
   "cell_type": "markdown",
   "id": "f8777198",
   "metadata": {},
   "source": [
    "### Lasso Regression using kfold"
   ]
  },
  {
   "cell_type": "code",
   "execution_count": 34,
   "id": "16e953d8",
   "metadata": {},
   "outputs": [
    {
     "name": "stdout",
     "output_type": "stream",
     "text": [
      "Best Alpha :  9.5\n",
      "Best Score :  0.657087435238261\n"
     ]
    }
   ],
   "source": [
    "### for the Lasso Regression\n",
    "from sklearn.linear_model import Lasso\n",
    "\n",
    "x = dum_df.drop(['price'],axis=1)  # independents columns \n",
    "y = dum_df['price'] # target \n",
    "\n",
    "# setting the k fold cross validation \n",
    "kfold = KFold(n_splits=5,random_state=24,shuffle=True)\n",
    "ls = Lasso()\n",
    "\n",
    "scores=[]\n",
    "alphas = np.arange(0,10,0.25)\n",
    "for i in alphas:\n",
    "    rd = Lasso(alpha=i)\n",
    "    results = cross_val_score(rd,x,y,cv=kfold)\n",
    "    scores.append(results.mean())\n",
    "\n",
    "i_max = np.argmax(scores)\n",
    "print('Best Alpha : ',alphas[i_max])\n",
    "print('Best Score : ', scores[i_max])\n"
   ]
  },
  {
   "cell_type": "markdown",
   "id": "508fa523",
   "metadata": {},
   "source": [
    "### Elastic Net regression using kfold"
   ]
  },
  {
   "cell_type": "code",
   "execution_count": 22,
   "id": "5736253d",
   "metadata": {},
   "outputs": [
    {
     "data": {
      "text/plain": [
       "alpha       0.000000\n",
       "L1-ratio    0.000000\n",
       "r2          0.657081\n",
       "Name: 0, dtype: float64"
      ]
     },
     "execution_count": 22,
     "metadata": {},
     "output_type": "execute_result"
    }
   ],
   "source": [
    "### for the Elastic Regression\n",
    "from sklearn.linear_model import ElasticNet\n",
    "\n",
    "x = dum_df.drop(['price'],axis=1)  # independents columns \n",
    "y = dum_df['price'] # target \n",
    "\n",
    "# setting the k fold cross validation \n",
    "kfold = KFold(n_splits=5,random_state=24,shuffle=True)\n",
    "\n",
    "# correct way  \n",
    "\n",
    "alphas = np.arange(0,10,0.25)\n",
    "l1 = np.arange(0, 1,0.1)\n",
    "scores = []\n",
    "for i in alphas:\n",
    "    for j in l1:\n",
    "        el = ElasticNet(alpha=i, l1_ratio=j)\n",
    "        results = cross_val_score(el,x,y,cv=kfold)\n",
    "        scores.append([i,j,results.mean()])\n",
    "        \n",
    "pd_scores = pd.DataFrame(scores, columns=['alpha','L1-ratio','r2'])\n",
    "pd_scores.sort_values(by='r2',ascending=False).iloc[0]\n"
   ]
  },
  {
   "cell_type": "markdown",
   "id": "86e27624",
   "metadata": {},
   "source": [
    "Ridge\n",
    "Best Alpha :  4.0\n",
    "Best Score :  0.6577381120548891\n",
    "\n",
    "Lasso\n",
    "Best Alpha :  9.5\n",
    "Best Score :  0.657087435238261\n",
    "\n",
    "Elastic Net\n",
    "alpha       0.000000\n",
    "L1-ratio    0.000000\n",
    "r2          0.657081\n",
    "Name: 0, dtype: float64"
   ]
  },
  {
   "cell_type": "markdown",
   "id": "cc0266b0",
   "metadata": {},
   "source": [
    "### finding best score and r2 without loop "
   ]
  },
  {
   "cell_type": "code",
   "execution_count": 13,
   "id": "50aed03c",
   "metadata": {},
   "outputs": [],
   "source": [
    "from sklearn.model_selection import GridSearchCV"
   ]
  },
  {
   "cell_type": "code",
   "execution_count": 15,
   "id": "cb5e93e8",
   "metadata": {},
   "outputs": [
    {
     "name": "stdout",
     "output_type": "stream",
     "text": [
      "{'alpha': 4.0}\n",
      "0.6577381120548891\n"
     ]
    }
   ],
   "source": [
    "## Ridge Regression\n",
    "\n",
    "alphas = np.arange(0,10,0.25)\n",
    "params = {'alpha':alphas}\n",
    "ridge = Ridge()\n",
    "kfold = KFold(n_splits=5, shuffle=True, random_state=24)\n",
    "gcv = GridSearchCV(ridge, param_grid=params, cv=kfold)\n",
    "gcv.fit(x,y)\n",
    "print(gcv.best_params_)\n",
    "print(gcv.best_score_)"
   ]
  },
  {
   "cell_type": "code",
   "execution_count": 23,
   "id": "259e7761",
   "metadata": {},
   "outputs": [
    {
     "name": "stdout",
     "output_type": "stream",
     "text": [
      "{'alpha': 9.5}\n",
      "0.657087435238261\n"
     ]
    }
   ],
   "source": [
    "## lasso Regression\n",
    "\n",
    "alphas = np.arange(0,10,0.25)\n",
    "params = {'alpha':alphas}\n",
    "lasso = Lasso()\n",
    "kfold = KFold(n_splits=5, shuffle=True, random_state=24)\n",
    "gcv = GridSearchCV(lasso, param_grid=params, cv=kfold)\n",
    "gcv.fit(x,y)\n",
    "print(gcv.best_params_)\n",
    "print(gcv.best_score_)"
   ]
  },
  {
   "cell_type": "code",
   "execution_count": 24,
   "id": "6e4557cd",
   "metadata": {},
   "outputs": [
    {
     "name": "stdout",
     "output_type": "stream",
     "text": [
      "{'alpha': 0.0, 'l1_ratio': 0.0}\n",
      "0.6570808836039296\n"
     ]
    }
   ],
   "source": [
    "## Elastic Net Regression\n",
    "\n",
    "alphas = np.arange(0,10,0.25)\n",
    "l1 = np.arange(0, 1,0.1)\n",
    "\n",
    "params = {'alpha':alphas,'l1_ratio':l1}\n",
    "el = ElasticNet()\n",
    "kfold = KFold(n_splits=5, shuffle=True, random_state=24)\n",
    "gcv = GridSearchCV(el, param_grid=params, cv=kfold)\n",
    "gcv.fit(x,y)\n",
    "print(gcv.best_params_)\n",
    "print(gcv.best_score_)"
   ]
  },
  {
   "cell_type": "code",
   "execution_count": 35,
   "id": "40de8381",
   "metadata": {},
   "outputs": [],
   "source": [
    "# verify best test score and params\n",
    "pd_cv = pd.DataFrame(gcv.cv_results_)\n",
    "pd_cv.to_csv(\"D:/Machine Learning/Datasets/best_score_results1.csv\")"
   ]
  },
  {
   "cell_type": "code",
   "execution_count": 33,
   "id": "edb5be74",
   "metadata": {},
   "outputs": [],
   "source": []
  },
  {
   "cell_type": "code",
   "execution_count": null,
   "id": "c0477a57",
   "metadata": {},
   "outputs": [],
   "source": []
  },
  {
   "cell_type": "code",
   "execution_count": null,
   "id": "ad067d26",
   "metadata": {},
   "outputs": [],
   "source": []
  },
  {
   "cell_type": "code",
   "execution_count": null,
   "id": "3391f945",
   "metadata": {},
   "outputs": [],
   "source": []
  }
 ],
 "metadata": {
  "kernelspec": {
   "display_name": "Python 3 (ipykernel)",
   "language": "python",
   "name": "python3"
  },
  "language_info": {
   "codemirror_mode": {
    "name": "ipython",
    "version": 3
   },
   "file_extension": ".py",
   "mimetype": "text/x-python",
   "name": "python",
   "nbconvert_exporter": "python",
   "pygments_lexer": "ipython3",
   "version": "3.11.5"
  }
 },
 "nbformat": 4,
 "nbformat_minor": 5
}
