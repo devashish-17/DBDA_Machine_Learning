{
 "cells": [
  {
   "cell_type": "code",
   "execution_count": 13,
   "id": "afb85c6f",
   "metadata": {},
   "outputs": [],
   "source": [
    "import pandas as pd\n",
    "import numpy as np\n",
    "from sklearn.model_selection import train_test_split\n",
    "import os\n",
    "from sklearn.linear_model import Ridge\n",
    "from sklearn.metrics import r2_score, mean_absolute_error, mean_squared_error"
   ]
  },
  {
   "cell_type": "code",
   "execution_count": 14,
   "id": "77f21b1b",
   "metadata": {},
   "outputs": [],
   "source": [
    "os.chdir(\"D:/Machine Learning/Datasets/Datasets\")"
   ]
  },
  {
   "cell_type": "code",
   "execution_count": 15,
   "id": "d9b77598",
   "metadata": {},
   "outputs": [],
   "source": [
    "df = pd.read_csv('Housing.csv')"
   ]
  },
  {
   "cell_type": "code",
   "execution_count": 16,
   "id": "c3999991",
   "metadata": {},
   "outputs": [],
   "source": [
    "dum_df = pd.get_dummies(df,drop_first=True)"
   ]
  },
  {
   "cell_type": "code",
   "execution_count": 17,
   "id": "e2b1ee82",
   "metadata": {},
   "outputs": [],
   "source": [
    "x = dum_df.drop(['price'],axis=1)\n",
    "y = dum_df['price']"
   ]
  },
  {
   "cell_type": "code",
   "execution_count": 18,
   "id": "f07e8c17",
   "metadata": {},
   "outputs": [],
   "source": [
    "x_train,x_test,y_train,y_test = train_test_split(x,y,test_size=0.3,random_state=24)"
   ]
  },
  {
   "cell_type": "code",
   "execution_count": 40,
   "id": "2b69d0c4",
   "metadata": {},
   "outputs": [
    {
     "data": {
      "text/html": [
       "<style>#sk-container-id-6 {color: black;}#sk-container-id-6 pre{padding: 0;}#sk-container-id-6 div.sk-toggleable {background-color: white;}#sk-container-id-6 label.sk-toggleable__label {cursor: pointer;display: block;width: 100%;margin-bottom: 0;padding: 0.3em;box-sizing: border-box;text-align: center;}#sk-container-id-6 label.sk-toggleable__label-arrow:before {content: \"▸\";float: left;margin-right: 0.25em;color: #696969;}#sk-container-id-6 label.sk-toggleable__label-arrow:hover:before {color: black;}#sk-container-id-6 div.sk-estimator:hover label.sk-toggleable__label-arrow:before {color: black;}#sk-container-id-6 div.sk-toggleable__content {max-height: 0;max-width: 0;overflow: hidden;text-align: left;background-color: #f0f8ff;}#sk-container-id-6 div.sk-toggleable__content pre {margin: 0.2em;color: black;border-radius: 0.25em;background-color: #f0f8ff;}#sk-container-id-6 input.sk-toggleable__control:checked~div.sk-toggleable__content {max-height: 200px;max-width: 100%;overflow: auto;}#sk-container-id-6 input.sk-toggleable__control:checked~label.sk-toggleable__label-arrow:before {content: \"▾\";}#sk-container-id-6 div.sk-estimator input.sk-toggleable__control:checked~label.sk-toggleable__label {background-color: #d4ebff;}#sk-container-id-6 div.sk-label input.sk-toggleable__control:checked~label.sk-toggleable__label {background-color: #d4ebff;}#sk-container-id-6 input.sk-hidden--visually {border: 0;clip: rect(1px 1px 1px 1px);clip: rect(1px, 1px, 1px, 1px);height: 1px;margin: -1px;overflow: hidden;padding: 0;position: absolute;width: 1px;}#sk-container-id-6 div.sk-estimator {font-family: monospace;background-color: #f0f8ff;border: 1px dotted black;border-radius: 0.25em;box-sizing: border-box;margin-bottom: 0.5em;}#sk-container-id-6 div.sk-estimator:hover {background-color: #d4ebff;}#sk-container-id-6 div.sk-parallel-item::after {content: \"\";width: 100%;border-bottom: 1px solid gray;flex-grow: 1;}#sk-container-id-6 div.sk-label:hover label.sk-toggleable__label {background-color: #d4ebff;}#sk-container-id-6 div.sk-serial::before {content: \"\";position: absolute;border-left: 1px solid gray;box-sizing: border-box;top: 0;bottom: 0;left: 50%;z-index: 0;}#sk-container-id-6 div.sk-serial {display: flex;flex-direction: column;align-items: center;background-color: white;padding-right: 0.2em;padding-left: 0.2em;position: relative;}#sk-container-id-6 div.sk-item {position: relative;z-index: 1;}#sk-container-id-6 div.sk-parallel {display: flex;align-items: stretch;justify-content: center;background-color: white;position: relative;}#sk-container-id-6 div.sk-item::before, #sk-container-id-6 div.sk-parallel-item::before {content: \"\";position: absolute;border-left: 1px solid gray;box-sizing: border-box;top: 0;bottom: 0;left: 50%;z-index: -1;}#sk-container-id-6 div.sk-parallel-item {display: flex;flex-direction: column;z-index: 1;position: relative;background-color: white;}#sk-container-id-6 div.sk-parallel-item:first-child::after {align-self: flex-end;width: 50%;}#sk-container-id-6 div.sk-parallel-item:last-child::after {align-self: flex-start;width: 50%;}#sk-container-id-6 div.sk-parallel-item:only-child::after {width: 0;}#sk-container-id-6 div.sk-dashed-wrapped {border: 1px dashed gray;margin: 0 0.4em 0.5em 0.4em;box-sizing: border-box;padding-bottom: 0.4em;background-color: white;}#sk-container-id-6 div.sk-label label {font-family: monospace;font-weight: bold;display: inline-block;line-height: 1.2em;}#sk-container-id-6 div.sk-label-container {text-align: center;}#sk-container-id-6 div.sk-container {/* jupyter's `normalize.less` sets `[hidden] { display: none; }` but bootstrap.min.css set `[hidden] { display: none !important; }` so we also need the `!important` here to be able to override the default hidden behavior on the sphinx rendered scikit-learn.org. See: https://github.com/scikit-learn/scikit-learn/issues/21755 */display: inline-block !important;position: relative;}#sk-container-id-6 div.sk-text-repr-fallback {display: none;}</style><div id=\"sk-container-id-6\" class=\"sk-top-container\"><div class=\"sk-text-repr-fallback\"><pre>Ridge(alpha=5)</pre><b>In a Jupyter environment, please rerun this cell to show the HTML representation or trust the notebook. <br />On GitHub, the HTML representation is unable to render, please try loading this page with nbviewer.org.</b></div><div class=\"sk-container\" hidden><div class=\"sk-item\"><div class=\"sk-estimator sk-toggleable\"><input class=\"sk-toggleable__control sk-hidden--visually\" id=\"sk-estimator-id-6\" type=\"checkbox\" checked><label for=\"sk-estimator-id-6\" class=\"sk-toggleable__label sk-toggleable__label-arrow\">Ridge</label><div class=\"sk-toggleable__content\"><pre>Ridge(alpha=5)</pre></div></div></div></div></div>"
      ],
      "text/plain": [
       "Ridge(alpha=5)"
      ]
     },
     "execution_count": 40,
     "metadata": {},
     "output_type": "execute_result"
    }
   ],
   "source": [
    "ridge = Ridge(alpha=5)\n",
    "ridge.fit(x_train, y_train)"
   ]
  },
  {
   "cell_type": "code",
   "execution_count": 41,
   "id": "404b9f8b",
   "metadata": {},
   "outputs": [],
   "source": [
    "y_pred = ridge.predict(x_test)"
   ]
  },
  {
   "cell_type": "code",
   "execution_count": 42,
   "id": "ebf74fa0",
   "metadata": {},
   "outputs": [
    {
     "name": "stdout",
     "output_type": "stream",
     "text": [
      "r2 score: 0.6221746783819945\n"
     ]
    }
   ],
   "source": [
    "r2 = r2_score(y_test,y_pred)\n",
    "print(f'r2 score: {r2}')"
   ]
  },
  {
   "cell_type": "code",
   "execution_count": 43,
   "id": "5c0969c6",
   "metadata": {},
   "outputs": [
    {
     "name": "stdout",
     "output_type": "stream",
     "text": [
      "[3.73133298e+00 2.02856649e+03 1.35561840e+04 6.61438192e+03\n",
      " 5.19230582e+03 6.69612836e+03 3.62510740e+03 7.08013520e+03\n",
      " 8.12026342e+03 1.14889109e+04 7.16914747e+03]\n"
     ]
    }
   ],
   "source": [
    "print(ridge.coef_)"
   ]
  },
  {
   "cell_type": "code",
   "execution_count": 44,
   "id": "30dcf036",
   "metadata": {},
   "outputs": [
    {
     "name": "stdout",
     "output_type": "stream",
     "text": [
      "Mean squared error is :  264059424.4175551\n",
      "Mean Absolute error is :  12235.665161309333\n"
     ]
    }
   ],
   "source": [
    "MSE = mean_squared_error(y_test,y_pred)\n",
    "MAE = mean_absolute_error(y_test,y_pred)\n",
    "print(\"Mean squared error is : \", MSE)\n",
    "print(\"Mean Absolute error is : \", MAE)"
   ]
  },
  {
   "cell_type": "markdown",
   "id": "09ca772c",
   "metadata": {},
   "source": [
    "for \n",
    "alpha = 1, r2 score = 0.6243\n",
    "alpha = 2, r2 score = 0.6237490936338193\n",
    "alpha = 3, r2 score = 0.623240542878878\n",
    "alpha = 5, r2 score = 0.6221746783819945"
   ]
  },
  {
   "cell_type": "code",
   "execution_count": 50,
   "id": "5e96cc41",
   "metadata": {},
   "outputs": [
    {
     "name": "stdout",
     "output_type": "stream",
     "text": [
      " for alpha=0.5, r2 score: 0.6244646032856002\n",
      " for alpha=1, r2 score: 0.6242338599592155\n",
      " for alpha=1.5, r2 score: 0.6239949379104519\n",
      " for alpha=2, r2 score: 0.6237490936338193\n",
      " for alpha=2.5, r2 score: 0.6234973500892027\n",
      "0.6244646032856002\n"
     ]
    }
   ],
   "source": [
    "alphas = [0.5,1,1.5,2,2.5]\n",
    "tmp =[]\n",
    "for i in alphas:\n",
    "    ridge = Ridge(alpha=i)\n",
    "    ridge.fit(x_train, y_train)\n",
    "    y_pred = ridge.predict(x_test)\n",
    "    r2 = r2_score(y_test,y_pred)\n",
    "    tmp.append(r2)\n",
    "    print(f' for alpha={i}, r2 score: {r2}')\n",
    "\n",
    "maxr2 = max(tmp)\n",
    "print(maxr2 )"
   ]
  },
  {
   "cell_type": "code",
   "execution_count": 56,
   "id": "4d7db522",
   "metadata": {},
   "outputs": [
    {
     "name": "stdout",
     "output_type": "stream",
     "text": [
      "for alpha=0.25, r2 score: 0.6245764372818154\n",
      "for alpha=0.5, r2 score: 0.6244646032856002\n",
      "for alpha=0.75, r2 score: 0.6243503431206507\n",
      "for alpha=1.0, r2 score: 0.6242338599592155\n",
      "for alpha=1.25, r2 score: 0.6241153366520427\n",
      "for alpha=1.5, r2 score: 0.6239949379104519\n",
      "for alpha=1.75, r2 score: 0.6238728122366688\n",
      "for alpha=2.0, r2 score: 0.6237490936338193\n",
      "for alpha=2.25, r2 score: 0.6236239031227466\n",
      "for alpha=2.5, r2 score: 0.6234973500892027\n",
      "for alpha=2.75, r2 score: 0.6233695334818521\n",
      "for alpha=3.0, r2 score: 0.623240542878878\n",
      "for alpha=3.25, r2 score: 0.6231104594386885\n",
      "for alpha=3.5, r2 score: 0.6229793567482498\n",
      "for alpha=3.75, r2 score: 0.6228473015808715\n",
      "for alpha=4.0, r2 score: 0.6227143545738014\n",
      "for alpha=4.25, r2 score: 0.6225805708347099\n",
      "for alpha=4.5, r2 score: 0.622446000485037\n",
      "for alpha=4.75, r2 score: 0.6223106891472239\n",
      "for alpha=5.0, r2 score: 0.6221746783819945\n",
      "for alpha=5.25, r2 score: 0.622038006081148\n",
      "for alpha=5.5, r2 score: 0.6219007068206661\n",
      "for alpha=5.75, r2 score: 0.6217628121783885\n",
      "for alpha=6.0, r2 score: 0.6216243510200292\n",
      "for alpha=6.25, r2 score: 0.6214853497568624\n",
      "for alpha=6.5, r2 score: 0.6213458325780514\n",
      "for alpha=6.75, r2 score: 0.6212058216602392\n",
      "for alpha=7.0, r2 score: 0.6210653373567537\n",
      "for alpha=7.25, r2 score: 0.620924398368503\n",
      "for alpha=7.5, r2 score: 0.6207830218984215\n",
      "for alpha=7.75, r2 score: 0.620641223791124\n",
      "for alpha=8.0, r2 score: 0.6204990186592467\n",
      "for alpha=8.25, r2 score: 0.6203564199977982\n",
      "for alpha=8.5, r2 score: 0.6202134402877029\n",
      "for alpha=8.75, r2 score: 0.6200700910896022\n",
      "for alpha=9.0, r2 score: 0.6199263831288551\n",
      "for alpha=9.25, r2 score: 0.619782326372597\n",
      "for alpha=9.5, r2 score: 0.6196379300996218\n",
      "for alpha=9.75, r2 score: 0.6194932029637708\n",
      "\n",
      "Best alpha :  0.25\n",
      "Best score : 0.6245764372818154\n"
     ]
    }
   ],
   "source": [
    "alphas = np.arange(0.25,10,0.25)\n",
    "scores = []\n",
    "for i in alphas:\n",
    "    ridge = Ridge(alpha=i)\n",
    "    ridge.fit(x_train, y_train)\n",
    "    y_pred = ridge.predict(x_test)\n",
    "    r2 = r2_score(y_test,y_pred)\n",
    "    scores.append(r2)\n",
    "    print(f'for alpha={i}, r2 score: {r2}')\n",
    "\n",
    "print()\n",
    "i_max = np.argmax(scores)\n",
    "print(\"Best alpha : \",alphas[i_max])\n",
    "print(\"Best score :\", scores[i_max])"
   ]
  },
  {
   "cell_type": "code",
   "execution_count": 59,
   "id": "a73860b0",
   "metadata": {},
   "outputs": [
    {
     "name": "stdout",
     "output_type": "stream",
     "text": [
      "for alpha=0.0, r2 score: 0.6246856191453722\n",
      "for alpha=0.25, r2 score: 0.6245764372818154\n",
      "for alpha=0.5, r2 score: 0.6244646032856002\n",
      "for alpha=0.75, r2 score: 0.6243503431206507\n",
      "for alpha=1.0, r2 score: 0.6242338599592155\n",
      "for alpha=1.25, r2 score: 0.6241153366520427\n",
      "for alpha=1.5, r2 score: 0.6239949379104519\n",
      "for alpha=1.75, r2 score: 0.6238728122366688\n",
      "for alpha=2.0, r2 score: 0.6237490936338193\n",
      "for alpha=2.25, r2 score: 0.6236239031227466\n",
      "for alpha=2.5, r2 score: 0.6234973500892027\n",
      "for alpha=2.75, r2 score: 0.6233695334818521\n",
      "for alpha=3.0, r2 score: 0.623240542878878\n",
      "for alpha=3.25, r2 score: 0.6231104594386885\n",
      "for alpha=3.5, r2 score: 0.6229793567482498\n",
      "for alpha=3.75, r2 score: 0.6228473015808715\n",
      "for alpha=4.0, r2 score: 0.6227143545738014\n",
      "for alpha=4.25, r2 score: 0.6225805708347099\n",
      "for alpha=4.5, r2 score: 0.622446000485037\n",
      "for alpha=4.75, r2 score: 0.6223106891472239\n",
      "for alpha=5.0, r2 score: 0.6221746783819945\n",
      "for alpha=5.25, r2 score: 0.622038006081148\n",
      "for alpha=5.5, r2 score: 0.6219007068206661\n",
      "for alpha=5.75, r2 score: 0.6217628121783885\n",
      "for alpha=6.0, r2 score: 0.6216243510200292\n",
      "for alpha=6.25, r2 score: 0.6214853497568624\n",
      "for alpha=6.5, r2 score: 0.6213458325780514\n",
      "for alpha=6.75, r2 score: 0.6212058216602392\n",
      "for alpha=7.0, r2 score: 0.6210653373567537\n",
      "for alpha=7.25, r2 score: 0.620924398368503\n",
      "for alpha=7.5, r2 score: 0.6207830218984215\n",
      "for alpha=7.75, r2 score: 0.620641223791124\n",
      "for alpha=8.0, r2 score: 0.6204990186592467\n",
      "for alpha=8.25, r2 score: 0.6203564199977982\n",
      "for alpha=8.5, r2 score: 0.6202134402877029\n",
      "for alpha=8.75, r2 score: 0.6200700910896022\n",
      "for alpha=9.0, r2 score: 0.6199263831288551\n",
      "for alpha=9.25, r2 score: 0.619782326372597\n",
      "for alpha=9.5, r2 score: 0.6196379300996218\n",
      "for alpha=9.75, r2 score: 0.6194932029637708\n",
      "\n",
      "Best alpha :  0.0\n",
      "Best score :  0.6246856191453722\n"
     ]
    }
   ],
   "source": [
    "alphas = np.arange(0,10,0.25)\n",
    "scores = []\n",
    "for i in alphas:\n",
    "    ridge = Ridge(alpha=i)\n",
    "    ridge.fit(x_train, y_train)\n",
    "    y_pred = ridge.predict(x_test)\n",
    "    r2 = r2_score(y_test,y_pred)\n",
    "    scores.append(r2)\n",
    "    print(f'for alpha={i}, r2 score: {r2}')\n",
    "\n",
    "print()\n",
    "i_max = np.argmax(scores)\n",
    "print(\"Best alpha : \",alphas[i_max])\n",
    "print(\"Best score : \", scores[i_max])"
   ]
  },
  {
   "cell_type": "code",
   "execution_count": null,
   "id": "22a0009a",
   "metadata": {},
   "outputs": [],
   "source": []
  },
  {
   "cell_type": "code",
   "execution_count": null,
   "id": "5d948700",
   "metadata": {},
   "outputs": [],
   "source": []
  },
  {
   "cell_type": "code",
   "execution_count": null,
   "id": "f56faa78",
   "metadata": {},
   "outputs": [],
   "source": []
  },
  {
   "cell_type": "code",
   "execution_count": null,
   "id": "88837bb6",
   "metadata": {},
   "outputs": [],
   "source": []
  },
  {
   "cell_type": "code",
   "execution_count": null,
   "id": "2d6af7ab",
   "metadata": {},
   "outputs": [],
   "source": []
  },
  {
   "cell_type": "code",
   "execution_count": null,
   "id": "cd07152b",
   "metadata": {},
   "outputs": [],
   "source": []
  },
  {
   "cell_type": "code",
   "execution_count": null,
   "id": "20805bf4",
   "metadata": {},
   "outputs": [],
   "source": []
  },
  {
   "cell_type": "code",
   "execution_count": null,
   "id": "e0962559",
   "metadata": {},
   "outputs": [],
   "source": []
  }
 ],
 "metadata": {
  "kernelspec": {
   "display_name": "Python 3 (ipykernel)",
   "language": "python",
   "name": "python3"
  },
  "language_info": {
   "codemirror_mode": {
    "name": "ipython",
    "version": 3
   },
   "file_extension": ".py",
   "mimetype": "text/x-python",
   "name": "python",
   "nbconvert_exporter": "python",
   "pygments_lexer": "ipython3",
   "version": "3.11.5"
  }
 },
 "nbformat": 4,
 "nbformat_minor": 5
}
