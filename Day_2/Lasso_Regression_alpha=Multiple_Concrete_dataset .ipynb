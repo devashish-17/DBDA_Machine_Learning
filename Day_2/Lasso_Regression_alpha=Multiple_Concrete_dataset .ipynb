{
 "cells": [
  {
   "cell_type": "code",
   "execution_count": 1,
   "id": "aefd29b5",
   "metadata": {},
   "outputs": [],
   "source": [
    "import pandas as pd\n",
    "import numpy as np\n",
    "from sklearn.model_selection import train_test_split\n",
    "import os\n",
    "from sklearn.linear_model import Lasso\n",
    "from sklearn.metrics import r2_score, mean_absolute_error, mean_squared_error"
   ]
  },
  {
   "cell_type": "code",
   "execution_count": 2,
   "id": "83493ea1",
   "metadata": {},
   "outputs": [],
   "source": [
    "os.chdir(\"D:/Machine Learning/Datasets/Datasets\")"
   ]
  },
  {
   "cell_type": "code",
   "execution_count": 7,
   "id": "cbfb2a46",
   "metadata": {},
   "outputs": [
    {
     "data": {
      "text/html": [
       "<div>\n",
       "<style scoped>\n",
       "    .dataframe tbody tr th:only-of-type {\n",
       "        vertical-align: middle;\n",
       "    }\n",
       "\n",
       "    .dataframe tbody tr th {\n",
       "        vertical-align: top;\n",
       "    }\n",
       "\n",
       "    .dataframe thead th {\n",
       "        text-align: right;\n",
       "    }\n",
       "</style>\n",
       "<table border=\"1\" class=\"dataframe\">\n",
       "  <thead>\n",
       "    <tr style=\"text-align: right;\">\n",
       "      <th></th>\n",
       "      <th>Cement</th>\n",
       "      <th>Blast</th>\n",
       "      <th>Fly</th>\n",
       "      <th>Water</th>\n",
       "      <th>Superplasticizer</th>\n",
       "      <th>Coarse</th>\n",
       "      <th>Fine</th>\n",
       "      <th>Age</th>\n",
       "      <th>Strength</th>\n",
       "    </tr>\n",
       "  </thead>\n",
       "  <tbody>\n",
       "    <tr>\n",
       "      <th>0</th>\n",
       "      <td>540.0</td>\n",
       "      <td>0.0</td>\n",
       "      <td>0.0</td>\n",
       "      <td>162.0</td>\n",
       "      <td>2.5</td>\n",
       "      <td>1040.0</td>\n",
       "      <td>676.0</td>\n",
       "      <td>28</td>\n",
       "      <td>79.99</td>\n",
       "    </tr>\n",
       "    <tr>\n",
       "      <th>1</th>\n",
       "      <td>540.0</td>\n",
       "      <td>0.0</td>\n",
       "      <td>0.0</td>\n",
       "      <td>162.0</td>\n",
       "      <td>2.5</td>\n",
       "      <td>1055.0</td>\n",
       "      <td>676.0</td>\n",
       "      <td>28</td>\n",
       "      <td>61.89</td>\n",
       "    </tr>\n",
       "    <tr>\n",
       "      <th>2</th>\n",
       "      <td>332.5</td>\n",
       "      <td>142.5</td>\n",
       "      <td>0.0</td>\n",
       "      <td>228.0</td>\n",
       "      <td>0.0</td>\n",
       "      <td>932.0</td>\n",
       "      <td>594.0</td>\n",
       "      <td>270</td>\n",
       "      <td>40.27</td>\n",
       "    </tr>\n",
       "    <tr>\n",
       "      <th>3</th>\n",
       "      <td>332.5</td>\n",
       "      <td>142.5</td>\n",
       "      <td>0.0</td>\n",
       "      <td>228.0</td>\n",
       "      <td>0.0</td>\n",
       "      <td>932.0</td>\n",
       "      <td>594.0</td>\n",
       "      <td>365</td>\n",
       "      <td>41.05</td>\n",
       "    </tr>\n",
       "    <tr>\n",
       "      <th>4</th>\n",
       "      <td>198.6</td>\n",
       "      <td>132.4</td>\n",
       "      <td>0.0</td>\n",
       "      <td>192.0</td>\n",
       "      <td>0.0</td>\n",
       "      <td>978.4</td>\n",
       "      <td>825.5</td>\n",
       "      <td>360</td>\n",
       "      <td>44.30</td>\n",
       "    </tr>\n",
       "  </tbody>\n",
       "</table>\n",
       "</div>"
      ],
      "text/plain": [
       "   Cement  Blast  Fly  Water  Superplasticizer  Coarse   Fine  Age  Strength\n",
       "0   540.0    0.0  0.0  162.0               2.5  1040.0  676.0   28     79.99\n",
       "1   540.0    0.0  0.0  162.0               2.5  1055.0  676.0   28     61.89\n",
       "2   332.5  142.5  0.0  228.0               0.0   932.0  594.0  270     40.27\n",
       "3   332.5  142.5  0.0  228.0               0.0   932.0  594.0  365     41.05\n",
       "4   198.6  132.4  0.0  192.0               0.0   978.4  825.5  360     44.30"
      ]
     },
     "execution_count": 7,
     "metadata": {},
     "output_type": "execute_result"
    }
   ],
   "source": [
    "df = pd.read_csv('Concrete_Data.csv')\n",
    "df.head()"
   ]
  },
  {
   "cell_type": "code",
   "execution_count": 8,
   "id": "e692b151",
   "metadata": {},
   "outputs": [],
   "source": [
    "# dum_df = pd.get_dummies(df,drop_first=True)"
   ]
  },
  {
   "cell_type": "code",
   "execution_count": 11,
   "id": "1547a637",
   "metadata": {},
   "outputs": [],
   "source": [
    "x = df.drop(['Strength'],axis=1)\n",
    "y = df['Strength']"
   ]
  },
  {
   "cell_type": "code",
   "execution_count": 12,
   "id": "72a60739",
   "metadata": {},
   "outputs": [],
   "source": [
    "x_train,x_test,y_train,y_test = train_test_split(x,y,test_size=0.3,random_state=24)"
   ]
  },
  {
   "cell_type": "code",
   "execution_count": 13,
   "id": "977b0abb",
   "metadata": {},
   "outputs": [
    {
     "data": {
      "text/html": [
       "<style>#sk-container-id-1 {color: black;}#sk-container-id-1 pre{padding: 0;}#sk-container-id-1 div.sk-toggleable {background-color: white;}#sk-container-id-1 label.sk-toggleable__label {cursor: pointer;display: block;width: 100%;margin-bottom: 0;padding: 0.3em;box-sizing: border-box;text-align: center;}#sk-container-id-1 label.sk-toggleable__label-arrow:before {content: \"▸\";float: left;margin-right: 0.25em;color: #696969;}#sk-container-id-1 label.sk-toggleable__label-arrow:hover:before {color: black;}#sk-container-id-1 div.sk-estimator:hover label.sk-toggleable__label-arrow:before {color: black;}#sk-container-id-1 div.sk-toggleable__content {max-height: 0;max-width: 0;overflow: hidden;text-align: left;background-color: #f0f8ff;}#sk-container-id-1 div.sk-toggleable__content pre {margin: 0.2em;color: black;border-radius: 0.25em;background-color: #f0f8ff;}#sk-container-id-1 input.sk-toggleable__control:checked~div.sk-toggleable__content {max-height: 200px;max-width: 100%;overflow: auto;}#sk-container-id-1 input.sk-toggleable__control:checked~label.sk-toggleable__label-arrow:before {content: \"▾\";}#sk-container-id-1 div.sk-estimator input.sk-toggleable__control:checked~label.sk-toggleable__label {background-color: #d4ebff;}#sk-container-id-1 div.sk-label input.sk-toggleable__control:checked~label.sk-toggleable__label {background-color: #d4ebff;}#sk-container-id-1 input.sk-hidden--visually {border: 0;clip: rect(1px 1px 1px 1px);clip: rect(1px, 1px, 1px, 1px);height: 1px;margin: -1px;overflow: hidden;padding: 0;position: absolute;width: 1px;}#sk-container-id-1 div.sk-estimator {font-family: monospace;background-color: #f0f8ff;border: 1px dotted black;border-radius: 0.25em;box-sizing: border-box;margin-bottom: 0.5em;}#sk-container-id-1 div.sk-estimator:hover {background-color: #d4ebff;}#sk-container-id-1 div.sk-parallel-item::after {content: \"\";width: 100%;border-bottom: 1px solid gray;flex-grow: 1;}#sk-container-id-1 div.sk-label:hover label.sk-toggleable__label {background-color: #d4ebff;}#sk-container-id-1 div.sk-serial::before {content: \"\";position: absolute;border-left: 1px solid gray;box-sizing: border-box;top: 0;bottom: 0;left: 50%;z-index: 0;}#sk-container-id-1 div.sk-serial {display: flex;flex-direction: column;align-items: center;background-color: white;padding-right: 0.2em;padding-left: 0.2em;position: relative;}#sk-container-id-1 div.sk-item {position: relative;z-index: 1;}#sk-container-id-1 div.sk-parallel {display: flex;align-items: stretch;justify-content: center;background-color: white;position: relative;}#sk-container-id-1 div.sk-item::before, #sk-container-id-1 div.sk-parallel-item::before {content: \"\";position: absolute;border-left: 1px solid gray;box-sizing: border-box;top: 0;bottom: 0;left: 50%;z-index: -1;}#sk-container-id-1 div.sk-parallel-item {display: flex;flex-direction: column;z-index: 1;position: relative;background-color: white;}#sk-container-id-1 div.sk-parallel-item:first-child::after {align-self: flex-end;width: 50%;}#sk-container-id-1 div.sk-parallel-item:last-child::after {align-self: flex-start;width: 50%;}#sk-container-id-1 div.sk-parallel-item:only-child::after {width: 0;}#sk-container-id-1 div.sk-dashed-wrapped {border: 1px dashed gray;margin: 0 0.4em 0.5em 0.4em;box-sizing: border-box;padding-bottom: 0.4em;background-color: white;}#sk-container-id-1 div.sk-label label {font-family: monospace;font-weight: bold;display: inline-block;line-height: 1.2em;}#sk-container-id-1 div.sk-label-container {text-align: center;}#sk-container-id-1 div.sk-container {/* jupyter's `normalize.less` sets `[hidden] { display: none; }` but bootstrap.min.css set `[hidden] { display: none !important; }` so we also need the `!important` here to be able to override the default hidden behavior on the sphinx rendered scikit-learn.org. See: https://github.com/scikit-learn/scikit-learn/issues/21755 */display: inline-block !important;position: relative;}#sk-container-id-1 div.sk-text-repr-fallback {display: none;}</style><div id=\"sk-container-id-1\" class=\"sk-top-container\"><div class=\"sk-text-repr-fallback\"><pre>Lasso(alpha=5)</pre><b>In a Jupyter environment, please rerun this cell to show the HTML representation or trust the notebook. <br />On GitHub, the HTML representation is unable to render, please try loading this page with nbviewer.org.</b></div><div class=\"sk-container\" hidden><div class=\"sk-item\"><div class=\"sk-estimator sk-toggleable\"><input class=\"sk-toggleable__control sk-hidden--visually\" id=\"sk-estimator-id-1\" type=\"checkbox\" checked><label for=\"sk-estimator-id-1\" class=\"sk-toggleable__label sk-toggleable__label-arrow\">Lasso</label><div class=\"sk-toggleable__content\"><pre>Lasso(alpha=5)</pre></div></div></div></div></div>"
      ],
      "text/plain": [
       "Lasso(alpha=5)"
      ]
     },
     "execution_count": 13,
     "metadata": {},
     "output_type": "execute_result"
    }
   ],
   "source": [
    "lasso = Lasso(alpha=5)\n",
    "lasso.fit(x_train, y_train)"
   ]
  },
  {
   "cell_type": "code",
   "execution_count": 14,
   "id": "fcdc82bc",
   "metadata": {},
   "outputs": [],
   "source": [
    "y_pred = lasso.predict(x_test)"
   ]
  },
  {
   "cell_type": "code",
   "execution_count": 15,
   "id": "cfc499bf",
   "metadata": {},
   "outputs": [
    {
     "name": "stdout",
     "output_type": "stream",
     "text": [
      "r2 score: 0.5724789249757437\n"
     ]
    }
   ],
   "source": [
    "r2 = r2_score(y_test,y_pred)\n",
    "print(f'r2 score: {r2}')"
   ]
  },
  {
   "cell_type": "code",
   "execution_count": 16,
   "id": "0aec3d5c",
   "metadata": {},
   "outputs": [
    {
     "name": "stdout",
     "output_type": "stream",
     "text": [
      "[ 0.12015383  0.10357563  0.09223704 -0.1994915   0.          0.0055303\n",
      "  0.01510639  0.1203324 ]\n"
     ]
    }
   ],
   "source": [
    "print(lasso.coef_)"
   ]
  },
  {
   "cell_type": "code",
   "execution_count": 17,
   "id": "c734a34f",
   "metadata": {},
   "outputs": [
    {
     "name": "stdout",
     "output_type": "stream",
     "text": [
      "Mean squared error is :  110.2658237238956\n",
      "Mean Absolute error is :  8.083934033643189\n"
     ]
    }
   ],
   "source": [
    "MSE = mean_squared_error(y_test,y_pred)\n",
    "MAE = mean_absolute_error(y_test,y_pred)\n",
    "print(\"Mean squared error is : \", MSE)\n",
    "print(\"Mean Absolute error is : \", MAE)"
   ]
  },
  {
   "cell_type": "markdown",
   "id": "65d21061",
   "metadata": {},
   "source": [
    "for \n",
    "alpha = 1, r2 score = 0.6243\n",
    "alpha = 2, r2 score = 0.6237490936338193\n",
    "alpha = 3, r2 score = 0.623240542878878\n",
    "alpha = 5, r2 score = 0.6221746783819945"
   ]
  },
  {
   "cell_type": "code",
   "execution_count": 18,
   "id": "1a8f88dc",
   "metadata": {},
   "outputs": [
    {
     "name": "stdout",
     "output_type": "stream",
     "text": [
      " for alpha=0.5, r2 score: 0.5768111029306247\n",
      " for alpha=1, r2 score: 0.576333587787164\n",
      " for alpha=1.5, r2 score: 0.5757431933389369\n",
      " for alpha=2, r2 score: 0.5750397893814315\n",
      " for alpha=2.5, r2 score: 0.5742241366717131\n",
      "0.5768111029306247\n"
     ]
    }
   ],
   "source": [
    "alphas = [0.5,1,1.5,2,2.5]\n",
    "tmp =[]\n",
    "for i in alphas:\n",
    "    lasso = Lasso(alpha=i)\n",
    "    lasso.fit(x_train, y_train)\n",
    "    y_pred = lasso.predict(x_test)\n",
    "    r2 = r2_score(y_test,y_pred)\n",
    "    tmp.append(r2)\n",
    "    print(f' for alpha={i}, r2 score: {r2}')\n",
    "\n",
    "maxr2 = max(tmp)\n",
    "print(maxr2 )"
   ]
  },
  {
   "cell_type": "code",
   "execution_count": 19,
   "id": "03e3b8b3",
   "metadata": {},
   "outputs": [
    {
     "name": "stdout",
     "output_type": "stream",
     "text": [
      "for alpha=0.0, r2 score: 0.5771752777048789\n",
      "for alpha=0.25, r2 score: 0.5770074266166048\n",
      "for alpha=0.5, r2 score: 0.5768111029306247\n",
      "for alpha=0.75, r2 score: 0.5765865265880068\n",
      "for alpha=1.0, r2 score: 0.576333587787164\n",
      "for alpha=1.25, r2 score: 0.5760527931487882\n",
      "for alpha=1.5, r2 score: 0.5757431933389369\n",
      "for alpha=1.75, r2 score: 0.57540553105208\n",
      "for alpha=2.0, r2 score: 0.5750397893814315\n",
      "for alpha=2.25, r2 score: 0.5746459944038796\n",
      "for alpha=2.5, r2 score: 0.5742241366717131\n",
      "for alpha=2.75, r2 score: 0.5737742043476552\n",
      "for alpha=3.0, r2 score: 0.5732961684305602\n",
      "for alpha=3.25, r2 score: 0.572789402740501\n",
      "for alpha=3.5, r2 score: 0.5722550635486595\n",
      "for alpha=3.75, r2 score: 0.5721224000822047\n",
      "for alpha=4.0, r2 score: 0.572199541110417\n",
      "for alpha=4.25, r2 score: 0.5722737520824974\n",
      "for alpha=4.5, r2 score: 0.5723450431098807\n",
      "for alpha=4.75, r2 score: 0.5724134190081667\n",
      "for alpha=5.0, r2 score: 0.5724789249757437\n",
      "for alpha=5.25, r2 score: 0.5725415570509028\n",
      "for alpha=5.5, r2 score: 0.5726012742934996\n",
      "for alpha=5.75, r2 score: 0.5726580728301691\n",
      "for alpha=6.0, r2 score: 0.5727119183738425\n",
      "for alpha=6.25, r2 score: 0.5727628338186175\n",
      "for alpha=6.5, r2 score: 0.572811695232021\n",
      "for alpha=6.75, r2 score: 0.5728567056410416\n",
      "for alpha=7.0, r2 score: 0.5728996392732493\n",
      "for alpha=7.25, r2 score: 0.5729386801467559\n",
      "for alpha=7.5, r2 score: 0.572975569001332\n",
      "for alpha=7.75, r2 score: 0.5730094260492877\n",
      "for alpha=8.0, r2 score: 0.5730401249385582\n",
      "for alpha=8.25, r2 score: 0.5730684525126768\n",
      "for alpha=8.5, r2 score: 0.5730933286189506\n",
      "for alpha=8.75, r2 score: 0.573116043709126\n",
      "for alpha=9.0, r2 score: 0.5731355078660809\n",
      "for alpha=9.25, r2 score: 0.5731514589920641\n",
      "for alpha=9.5, r2 score: 0.5731565341723712\n",
      "for alpha=9.75, r2 score: 0.5731601295410985\n",
      "\n",
      "Best alpha :  0.0\n",
      "Best score :  0.5771752777048789\n"
     ]
    },
    {
     "name": "stderr",
     "output_type": "stream",
     "text": [
      "C:\\ProgramData\\anaconda3\\Lib\\site-packages\\sklearn\\base.py:1151: UserWarning: With alpha=0, this algorithm does not converge well. You are advised to use the LinearRegression estimator\n",
      "  return fit_method(estimator, *args, **kwargs)\n",
      "C:\\ProgramData\\anaconda3\\Lib\\site-packages\\sklearn\\linear_model\\_coordinate_descent.py:628: UserWarning: Coordinate descent with no regularization may lead to unexpected results and is discouraged.\n",
      "  model = cd_fast.enet_coordinate_descent(\n",
      "C:\\ProgramData\\anaconda3\\Lib\\site-packages\\sklearn\\linear_model\\_coordinate_descent.py:628: ConvergenceWarning: Objective did not converge. You might want to increase the number of iterations, check the scale of the features or consider increasing regularisation. Duality gap: 3.862e+04, tolerance: 2.073e+01 Linear regression models with null weight for the l1 regularization term are more efficiently fitted using one of the solvers implemented in sklearn.linear_model.Ridge/RidgeCV instead.\n",
      "  model = cd_fast.enet_coordinate_descent(\n"
     ]
    }
   ],
   "source": [
    "alphas = np.arange(0,10,0.25)\n",
    "scores = []\n",
    "for i in alphas:\n",
    "    lasso = Lasso(alpha=i)\n",
    "    lasso.fit(x_train, y_train)\n",
    "    y_pred = lasso.predict(x_test)\n",
    "    r2 = r2_score(y_test,y_pred)\n",
    "    scores.append(r2)\n",
    "    print(f'for alpha={i}, r2 score: {r2}')\n",
    "\n",
    "print()\n",
    "i_max = np.argmax(scores)\n",
    "print(\"Best alpha : \",alphas[i_max])\n",
    "print(\"Best score : \", scores[i_max])"
   ]
  },
  {
   "cell_type": "code",
   "execution_count": 20,
   "id": "a1d36c25",
   "metadata": {},
   "outputs": [
    {
     "name": "stdout",
     "output_type": "stream",
     "text": [
      "for alpha=0.0, r2 score: 0.5771752777048789\n",
      "for alpha=0.4166666666666667, r2 score: 0.5768798109150125\n",
      "for alpha=0.8333333333333334, r2 score: 0.5765055315975058\n",
      "for alpha=1.25, r2 score: 0.5760527931487882\n",
      "for alpha=1.6666666666666667, r2 score: 0.5755215414748819\n",
      "for alpha=2.0833333333333335, r2 score: 0.5749118197179702\n",
      "for alpha=2.5, r2 score: 0.5742241366717131\n",
      "for alpha=2.916666666666667, r2 score: 0.5734584432195611\n",
      "for alpha=3.3333333333333335, r2 score: 0.5726146530675678\n",
      "for alpha=3.75, r2 score: 0.5721224000822047\n",
      "for alpha=4.166666666666667, r2 score: 0.5722487303475421\n",
      "for alpha=4.583333333333334, r2 score: 0.5723678509070573\n",
      "for alpha=5.0, r2 score: 0.5724789249757437\n",
      "for alpha=5.416666666666667, r2 score: 0.5725820033724396\n",
      "for alpha=5.833333333333334, r2 score: 0.5726760481803657\n",
      "for alpha=6.25, r2 score: 0.5727628338186175\n",
      "for alpha=6.666666666666667, r2 score: 0.5728423295961813\n",
      "for alpha=7.083333333333334, r2 score: 0.5729126971054495\n",
      "for alpha=7.5, r2 score: 0.572975569001332\n",
      "for alpha=7.916666666666667, r2 score: 0.5730299716015497\n",
      "for alpha=8.333333333333334, r2 score: 0.5730771281688907\n",
      "for alpha=8.75, r2 score: 0.573116043709126\n",
      "for alpha=9.166666666666668, r2 score: 0.5731465073996832\n",
      "for alpha=9.583333333333334, r2 score: 0.5731579372040634\n",
      "for alpha=10.0, r2 score: 0.5731618042353834\n",
      "\n",
      "Best alpha :  0.0\n",
      "Best score :  0.5771752777048789\n"
     ]
    },
    {
     "name": "stderr",
     "output_type": "stream",
     "text": [
      "C:\\ProgramData\\anaconda3\\Lib\\site-packages\\sklearn\\base.py:1151: UserWarning: With alpha=0, this algorithm does not converge well. You are advised to use the LinearRegression estimator\n",
      "  return fit_method(estimator, *args, **kwargs)\n",
      "C:\\ProgramData\\anaconda3\\Lib\\site-packages\\sklearn\\linear_model\\_coordinate_descent.py:628: UserWarning: Coordinate descent with no regularization may lead to unexpected results and is discouraged.\n",
      "  model = cd_fast.enet_coordinate_descent(\n",
      "C:\\ProgramData\\anaconda3\\Lib\\site-packages\\sklearn\\linear_model\\_coordinate_descent.py:628: ConvergenceWarning: Objective did not converge. You might want to increase the number of iterations, check the scale of the features or consider increasing regularisation. Duality gap: 3.862e+04, tolerance: 2.073e+01 Linear regression models with null weight for the l1 regularization term are more efficiently fitted using one of the solvers implemented in sklearn.linear_model.Ridge/RidgeCV instead.\n",
      "  model = cd_fast.enet_coordinate_descent(\n"
     ]
    }
   ],
   "source": [
    "alphas = np.linspace(0,10,25)\n",
    "scores = []\n",
    "for i in alphas:\n",
    "    lasso = Lasso(alpha=i)\n",
    "    lasso.fit(x_train, y_train)\n",
    "    y_pred = lasso.predict(x_test)\n",
    "    r2 = r2_score(y_test,y_pred)\n",
    "    scores.append(r2)\n",
    "    print(f'for alpha={i}, r2 score: {r2}')\n",
    "\n",
    "print()\n",
    "i_max = np.argmax(scores)\n",
    "print(\"Best alpha : \",alphas[i_max])\n",
    "print(\"Best score : \", scores[i_max])"
   ]
  },
  {
   "cell_type": "code",
   "execution_count": 21,
   "id": "fc52db1c",
   "metadata": {},
   "outputs": [
    {
     "name": "stdout",
     "output_type": "stream",
     "text": [
      "for alpha=0.1, r2 score: 0.5771115530311295\n",
      "for alpha=0.5125000000000001, r2 score: 0.5768006878704948\n",
      "for alpha=0.925, r2 score: 0.5764124667909039\n",
      "for alpha=1.3375000000000001, r2 score: 0.5759473166423648\n",
      "for alpha=1.7500000000000002, r2 score: 0.5754055310520801\n",
      "for alpha=2.1625, r2 score: 0.5747873982044911\n",
      "for alpha=2.575, r2 score: 0.5740923430783815\n",
      "for alpha=2.9875000000000003, r2 score: 0.5733208029276387\n",
      "for alpha=3.4000000000000004, r2 score: 0.5724720877019795\n",
      "for alpha=3.8125000000000004, r2 score: 0.5721417264930599\n",
      "for alpha=4.225, r2 score: 0.5722665570755843\n",
      "for alpha=4.6375, r2 score: 0.5723825054780123\n",
      "for alpha=5.05, r2 score: 0.572491499687175\n",
      "for alpha=5.4625, r2 score: 0.5725926414711733\n",
      "for alpha=5.875, r2 score: 0.572685820366279\n",
      "for alpha=6.2875000000000005, r2 score: 0.5727709805188625\n",
      "for alpha=6.7, r2 score: 0.5728481177321593\n",
      "for alpha=7.1125, r2 score: 0.5729171917872526\n",
      "for alpha=7.525, r2 score: 0.5729789216608564\n",
      "for alpha=7.9375, r2 score: 0.5730331719543915\n",
      "for alpha=8.35, r2 score: 0.5730786540582173\n",
      "for alpha=8.762500000000001, r2 score: 0.5731168707186236\n",
      "for alpha=9.175, r2 score: 0.5731473472162119\n",
      "for alpha=9.5875, r2 score: 0.5731580025022625\n",
      "for alpha=10.0, r2 score: 0.5731618042353834\n",
      "\n",
      "Best alpha :  0.1\n",
      "Best score :  0.5771115530311295\n"
     ]
    }
   ],
   "source": [
    "### No warinigs here \n",
    "\n",
    "alphas = np.linspace(00000.1,10,25)\n",
    "scores = []\n",
    "for i in alphas:\n",
    "    lasso = Lasso(alpha=i)\n",
    "    lasso.fit(x_train, y_train)\n",
    "    y_pred = lasso.predict(x_test)\n",
    "    r2 = r2_score(y_test,y_pred)\n",
    "    scores.append(r2)\n",
    "    print(f'for alpha={i}, r2 score: {r2}')\n",
    "\n",
    "print()\n",
    "i_max = np.argmax(scores)\n",
    "print(\"Best alpha : \",alphas[i_max])\n",
    "print(\"Best score : \", scores[i_max])"
   ]
  },
  {
   "cell_type": "code",
   "execution_count": null,
   "id": "1e784c5e",
   "metadata": {},
   "outputs": [],
   "source": []
  },
  {
   "cell_type": "code",
   "execution_count": null,
   "id": "cb5e93e8",
   "metadata": {},
   "outputs": [],
   "source": []
  },
  {
   "cell_type": "code",
   "execution_count": null,
   "id": "c0477a57",
   "metadata": {},
   "outputs": [],
   "source": []
  },
  {
   "cell_type": "code",
   "execution_count": null,
   "id": "ad067d26",
   "metadata": {},
   "outputs": [],
   "source": []
  },
  {
   "cell_type": "code",
   "execution_count": null,
   "id": "3391f945",
   "metadata": {},
   "outputs": [],
   "source": []
  }
 ],
 "metadata": {
  "kernelspec": {
   "display_name": "Python 3 (ipykernel)",
   "language": "python",
   "name": "python3"
  },
  "language_info": {
   "codemirror_mode": {
    "name": "ipython",
    "version": 3
   },
   "file_extension": ".py",
   "mimetype": "text/x-python",
   "name": "python",
   "nbconvert_exporter": "python",
   "pygments_lexer": "ipython3",
   "version": "3.11.5"
  }
 },
 "nbformat": 4,
 "nbformat_minor": 5
}
