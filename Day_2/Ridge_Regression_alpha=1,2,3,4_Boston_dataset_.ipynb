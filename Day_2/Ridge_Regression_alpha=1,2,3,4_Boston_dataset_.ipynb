{
 "cells": [
  {
   "cell_type": "code",
   "execution_count": 1,
   "id": "aefd29b5",
   "metadata": {},
   "outputs": [],
   "source": [
    "import pandas as pd\n",
    "import numpy as np\n",
    "from sklearn.model_selection import train_test_split\n",
    "import os\n",
    "from sklearn.linear_model import Ridge\n",
    "from sklearn.metrics import r2_score, mean_absolute_error, mean_squared_error"
   ]
  },
  {
   "cell_type": "code",
   "execution_count": 2,
   "id": "83493ea1",
   "metadata": {},
   "outputs": [],
   "source": [
    "os.chdir(\"D:/Machine Learning/Datasets/Datasets\")"
   ]
  },
  {
   "cell_type": "code",
   "execution_count": 4,
   "id": "cbfb2a46",
   "metadata": {},
   "outputs": [],
   "source": [
    "df = pd.read_csv('Boston.csv')"
   ]
  },
  {
   "cell_type": "code",
   "execution_count": 5,
   "id": "fd66c7fd",
   "metadata": {},
   "outputs": [
    {
     "data": {
      "text/html": [
       "<div>\n",
       "<style scoped>\n",
       "    .dataframe tbody tr th:only-of-type {\n",
       "        vertical-align: middle;\n",
       "    }\n",
       "\n",
       "    .dataframe tbody tr th {\n",
       "        vertical-align: top;\n",
       "    }\n",
       "\n",
       "    .dataframe thead th {\n",
       "        text-align: right;\n",
       "    }\n",
       "</style>\n",
       "<table border=\"1\" class=\"dataframe\">\n",
       "  <thead>\n",
       "    <tr style=\"text-align: right;\">\n",
       "      <th></th>\n",
       "      <th>crim</th>\n",
       "      <th>zn</th>\n",
       "      <th>indus</th>\n",
       "      <th>chas</th>\n",
       "      <th>nox</th>\n",
       "      <th>rm</th>\n",
       "      <th>age</th>\n",
       "      <th>dis</th>\n",
       "      <th>rad</th>\n",
       "      <th>tax</th>\n",
       "      <th>ptratio</th>\n",
       "      <th>black</th>\n",
       "      <th>lstat</th>\n",
       "      <th>medv</th>\n",
       "    </tr>\n",
       "  </thead>\n",
       "  <tbody>\n",
       "    <tr>\n",
       "      <th>0</th>\n",
       "      <td>0.00632</td>\n",
       "      <td>18.0</td>\n",
       "      <td>2.31</td>\n",
       "      <td>0</td>\n",
       "      <td>0.538</td>\n",
       "      <td>6.575</td>\n",
       "      <td>65.2</td>\n",
       "      <td>4.0900</td>\n",
       "      <td>1</td>\n",
       "      <td>296</td>\n",
       "      <td>15.3</td>\n",
       "      <td>396.90</td>\n",
       "      <td>4.98</td>\n",
       "      <td>24.0</td>\n",
       "    </tr>\n",
       "    <tr>\n",
       "      <th>1</th>\n",
       "      <td>0.02731</td>\n",
       "      <td>0.0</td>\n",
       "      <td>7.07</td>\n",
       "      <td>0</td>\n",
       "      <td>0.469</td>\n",
       "      <td>6.421</td>\n",
       "      <td>78.9</td>\n",
       "      <td>4.9671</td>\n",
       "      <td>2</td>\n",
       "      <td>242</td>\n",
       "      <td>17.8</td>\n",
       "      <td>396.90</td>\n",
       "      <td>9.14</td>\n",
       "      <td>21.6</td>\n",
       "    </tr>\n",
       "    <tr>\n",
       "      <th>2</th>\n",
       "      <td>0.02729</td>\n",
       "      <td>0.0</td>\n",
       "      <td>7.07</td>\n",
       "      <td>0</td>\n",
       "      <td>0.469</td>\n",
       "      <td>7.185</td>\n",
       "      <td>61.1</td>\n",
       "      <td>4.9671</td>\n",
       "      <td>2</td>\n",
       "      <td>242</td>\n",
       "      <td>17.8</td>\n",
       "      <td>392.83</td>\n",
       "      <td>4.03</td>\n",
       "      <td>34.7</td>\n",
       "    </tr>\n",
       "    <tr>\n",
       "      <th>3</th>\n",
       "      <td>0.03237</td>\n",
       "      <td>0.0</td>\n",
       "      <td>2.18</td>\n",
       "      <td>0</td>\n",
       "      <td>0.458</td>\n",
       "      <td>6.998</td>\n",
       "      <td>45.8</td>\n",
       "      <td>6.0622</td>\n",
       "      <td>3</td>\n",
       "      <td>222</td>\n",
       "      <td>18.7</td>\n",
       "      <td>394.63</td>\n",
       "      <td>2.94</td>\n",
       "      <td>33.4</td>\n",
       "    </tr>\n",
       "    <tr>\n",
       "      <th>4</th>\n",
       "      <td>0.06905</td>\n",
       "      <td>0.0</td>\n",
       "      <td>2.18</td>\n",
       "      <td>0</td>\n",
       "      <td>0.458</td>\n",
       "      <td>7.147</td>\n",
       "      <td>54.2</td>\n",
       "      <td>6.0622</td>\n",
       "      <td>3</td>\n",
       "      <td>222</td>\n",
       "      <td>18.7</td>\n",
       "      <td>396.90</td>\n",
       "      <td>5.33</td>\n",
       "      <td>36.2</td>\n",
       "    </tr>\n",
       "  </tbody>\n",
       "</table>\n",
       "</div>"
      ],
      "text/plain": [
       "      crim    zn  indus  chas    nox     rm   age     dis  rad  tax  ptratio  \\\n",
       "0  0.00632  18.0   2.31     0  0.538  6.575  65.2  4.0900    1  296     15.3   \n",
       "1  0.02731   0.0   7.07     0  0.469  6.421  78.9  4.9671    2  242     17.8   \n",
       "2  0.02729   0.0   7.07     0  0.469  7.185  61.1  4.9671    2  242     17.8   \n",
       "3  0.03237   0.0   2.18     0  0.458  6.998  45.8  6.0622    3  222     18.7   \n",
       "4  0.06905   0.0   2.18     0  0.458  7.147  54.2  6.0622    3  222     18.7   \n",
       "\n",
       "    black  lstat  medv  \n",
       "0  396.90   4.98  24.0  \n",
       "1  396.90   9.14  21.6  \n",
       "2  392.83   4.03  34.7  \n",
       "3  394.63   2.94  33.4  \n",
       "4  396.90   5.33  36.2  "
      ]
     },
     "execution_count": 5,
     "metadata": {},
     "output_type": "execute_result"
    }
   ],
   "source": [
    "df.head()"
   ]
  },
  {
   "cell_type": "code",
   "execution_count": 16,
   "id": "e692b151",
   "metadata": {},
   "outputs": [],
   "source": [
    "# dum_df = pd.get_dummies(df,drop_first=True)"
   ]
  },
  {
   "cell_type": "code",
   "execution_count": 6,
   "id": "1547a637",
   "metadata": {},
   "outputs": [],
   "source": [
    "x = df.drop(['medv'],axis=1)\n",
    "y = df['medv']"
   ]
  },
  {
   "cell_type": "code",
   "execution_count": 7,
   "id": "72a60739",
   "metadata": {},
   "outputs": [],
   "source": [
    "x_train,x_test,y_train,y_test = train_test_split(x,y,test_size=0.3,random_state=24)"
   ]
  },
  {
   "cell_type": "code",
   "execution_count": 9,
   "id": "977b0abb",
   "metadata": {},
   "outputs": [
    {
     "data": {
      "text/html": [
       "<style>#sk-container-id-2 {color: black;}#sk-container-id-2 pre{padding: 0;}#sk-container-id-2 div.sk-toggleable {background-color: white;}#sk-container-id-2 label.sk-toggleable__label {cursor: pointer;display: block;width: 100%;margin-bottom: 0;padding: 0.3em;box-sizing: border-box;text-align: center;}#sk-container-id-2 label.sk-toggleable__label-arrow:before {content: \"▸\";float: left;margin-right: 0.25em;color: #696969;}#sk-container-id-2 label.sk-toggleable__label-arrow:hover:before {color: black;}#sk-container-id-2 div.sk-estimator:hover label.sk-toggleable__label-arrow:before {color: black;}#sk-container-id-2 div.sk-toggleable__content {max-height: 0;max-width: 0;overflow: hidden;text-align: left;background-color: #f0f8ff;}#sk-container-id-2 div.sk-toggleable__content pre {margin: 0.2em;color: black;border-radius: 0.25em;background-color: #f0f8ff;}#sk-container-id-2 input.sk-toggleable__control:checked~div.sk-toggleable__content {max-height: 200px;max-width: 100%;overflow: auto;}#sk-container-id-2 input.sk-toggleable__control:checked~label.sk-toggleable__label-arrow:before {content: \"▾\";}#sk-container-id-2 div.sk-estimator input.sk-toggleable__control:checked~label.sk-toggleable__label {background-color: #d4ebff;}#sk-container-id-2 div.sk-label input.sk-toggleable__control:checked~label.sk-toggleable__label {background-color: #d4ebff;}#sk-container-id-2 input.sk-hidden--visually {border: 0;clip: rect(1px 1px 1px 1px);clip: rect(1px, 1px, 1px, 1px);height: 1px;margin: -1px;overflow: hidden;padding: 0;position: absolute;width: 1px;}#sk-container-id-2 div.sk-estimator {font-family: monospace;background-color: #f0f8ff;border: 1px dotted black;border-radius: 0.25em;box-sizing: border-box;margin-bottom: 0.5em;}#sk-container-id-2 div.sk-estimator:hover {background-color: #d4ebff;}#sk-container-id-2 div.sk-parallel-item::after {content: \"\";width: 100%;border-bottom: 1px solid gray;flex-grow: 1;}#sk-container-id-2 div.sk-label:hover label.sk-toggleable__label {background-color: #d4ebff;}#sk-container-id-2 div.sk-serial::before {content: \"\";position: absolute;border-left: 1px solid gray;box-sizing: border-box;top: 0;bottom: 0;left: 50%;z-index: 0;}#sk-container-id-2 div.sk-serial {display: flex;flex-direction: column;align-items: center;background-color: white;padding-right: 0.2em;padding-left: 0.2em;position: relative;}#sk-container-id-2 div.sk-item {position: relative;z-index: 1;}#sk-container-id-2 div.sk-parallel {display: flex;align-items: stretch;justify-content: center;background-color: white;position: relative;}#sk-container-id-2 div.sk-item::before, #sk-container-id-2 div.sk-parallel-item::before {content: \"\";position: absolute;border-left: 1px solid gray;box-sizing: border-box;top: 0;bottom: 0;left: 50%;z-index: -1;}#sk-container-id-2 div.sk-parallel-item {display: flex;flex-direction: column;z-index: 1;position: relative;background-color: white;}#sk-container-id-2 div.sk-parallel-item:first-child::after {align-self: flex-end;width: 50%;}#sk-container-id-2 div.sk-parallel-item:last-child::after {align-self: flex-start;width: 50%;}#sk-container-id-2 div.sk-parallel-item:only-child::after {width: 0;}#sk-container-id-2 div.sk-dashed-wrapped {border: 1px dashed gray;margin: 0 0.4em 0.5em 0.4em;box-sizing: border-box;padding-bottom: 0.4em;background-color: white;}#sk-container-id-2 div.sk-label label {font-family: monospace;font-weight: bold;display: inline-block;line-height: 1.2em;}#sk-container-id-2 div.sk-label-container {text-align: center;}#sk-container-id-2 div.sk-container {/* jupyter's `normalize.less` sets `[hidden] { display: none; }` but bootstrap.min.css set `[hidden] { display: none !important; }` so we also need the `!important` here to be able to override the default hidden behavior on the sphinx rendered scikit-learn.org. See: https://github.com/scikit-learn/scikit-learn/issues/21755 */display: inline-block !important;position: relative;}#sk-container-id-2 div.sk-text-repr-fallback {display: none;}</style><div id=\"sk-container-id-2\" class=\"sk-top-container\"><div class=\"sk-text-repr-fallback\"><pre>Ridge(alpha=1)</pre><b>In a Jupyter environment, please rerun this cell to show the HTML representation or trust the notebook. <br />On GitHub, the HTML representation is unable to render, please try loading this page with nbviewer.org.</b></div><div class=\"sk-container\" hidden><div class=\"sk-item\"><div class=\"sk-estimator sk-toggleable\"><input class=\"sk-toggleable__control sk-hidden--visually\" id=\"sk-estimator-id-2\" type=\"checkbox\" checked><label for=\"sk-estimator-id-2\" class=\"sk-toggleable__label sk-toggleable__label-arrow\">Ridge</label><div class=\"sk-toggleable__content\"><pre>Ridge(alpha=1)</pre></div></div></div></div></div>"
      ],
      "text/plain": [
       "Ridge(alpha=1)"
      ]
     },
     "execution_count": 9,
     "metadata": {},
     "output_type": "execute_result"
    }
   ],
   "source": [
    "ridge = Ridge(alpha=1)\n",
    "ridge.fit(x_train, y_train)"
   ]
  },
  {
   "cell_type": "code",
   "execution_count": 10,
   "id": "fcdc82bc",
   "metadata": {},
   "outputs": [],
   "source": [
    "y_pred = ridge.predict(x_test)"
   ]
  },
  {
   "cell_type": "code",
   "execution_count": 11,
   "id": "cfc499bf",
   "metadata": {},
   "outputs": [
    {
     "name": "stdout",
     "output_type": "stream",
     "text": [
      "r2 score: 0.7032547843448866\n"
     ]
    }
   ],
   "source": [
    "r2 = r2_score(y_test,y_pred)\n",
    "print(f'r2 score: {r2}')"
   ]
  },
  {
   "cell_type": "code",
   "execution_count": 12,
   "id": "0aec3d5c",
   "metadata": {},
   "outputs": [
    {
     "name": "stdout",
     "output_type": "stream",
     "text": [
      "[-0.05183028  0.03862705 -0.03448156  2.8088404  -6.76446588  4.31264027\n",
      " -0.01387719 -1.31454743  0.22457322 -0.01225284 -0.78025493  0.0109203\n",
      " -0.51888402]\n"
     ]
    }
   ],
   "source": [
    "print(ridge.coef_)"
   ]
  },
  {
   "cell_type": "code",
   "execution_count": 13,
   "id": "c734a34f",
   "metadata": {},
   "outputs": [
    {
     "name": "stdout",
     "output_type": "stream",
     "text": [
      "Mean squared error is :  21.398178181159725\n",
      "Mean Absolute error is :  3.1887062715167995\n"
     ]
    }
   ],
   "source": [
    "MSE = mean_squared_error(y_test,y_pred)\n",
    "MAE = mean_absolute_error(y_test,y_pred)\n",
    "print(\"Mean squared error is : \", MSE)\n",
    "print(\"Mean Absolute error is : \", MAE)"
   ]
  },
  {
   "cell_type": "markdown",
   "id": "65d21061",
   "metadata": {},
   "source": [
    "for \n",
    "alpha = 1, r2 score = 0.6243\n",
    "alpha = 2, r2 score = 0.6237490936338193\n",
    "alpha = 3, r2 score = 0.623240542878878\n",
    "alpha = 5, r2 score = 0.6221746783819945"
   ]
  },
  {
   "cell_type": "code",
   "execution_count": 14,
   "id": "1a8f88dc",
   "metadata": {},
   "outputs": [
    {
     "name": "stdout",
     "output_type": "stream",
     "text": [
      " for alpha=0.5, r2 score: 0.7069833171421402\n",
      " for alpha=1, r2 score: 0.7032547843448866\n",
      " for alpha=1.5, r2 score: 0.7008879641000546\n",
      " for alpha=2, r2 score: 0.6992929955083689\n",
      " for alpha=2.5, r2 score: 0.6981719819420982\n",
      "0.7069833171421402\n"
     ]
    }
   ],
   "source": [
    "alphas = [0.5,1,1.5,2,2.5]\n",
    "tmp =[]\n",
    "for i in alphas:\n",
    "    ridge = Ridge(alpha=i)\n",
    "    ridge.fit(x_train, y_train)\n",
    "    y_pred = ridge.predict(x_test)\n",
    "    r2 = r2_score(y_test,y_pred)\n",
    "    tmp.append(r2)\n",
    "    print(f' for alpha={i}, r2 score: {r2}')\n",
    "\n",
    "maxr2 = max(tmp)\n",
    "print(maxr2 )"
   ]
  },
  {
   "cell_type": "code",
   "execution_count": 15,
   "id": "51f604a3",
   "metadata": {},
   "outputs": [
    {
     "name": "stdout",
     "output_type": "stream",
     "text": [
      "for alpha=0.25, r2 score: 0.7097105849145189\n",
      "for alpha=0.5, r2 score: 0.7069833171421402\n",
      "for alpha=0.75, r2 score: 0.7048924168951105\n",
      "for alpha=1.0, r2 score: 0.7032547843448866\n",
      "for alpha=1.25, r2 score: 0.7019478104266106\n",
      "for alpha=1.5, r2 score: 0.7008879641000546\n",
      "for alpha=1.75, r2 score: 0.7000169325521792\n",
      "for alpha=2.0, r2 score: 0.6992929955083689\n",
      "for alpha=2.25, r2 score: 0.6986856166001973\n",
      "for alpha=2.5, r2 score: 0.6981719819420982\n",
      "for alpha=2.75, r2 score: 0.6977347319733422\n",
      "for alpha=3.0, r2 score: 0.6973604399458246\n",
      "for alpha=3.25, r2 score: 0.6970385684455562\n",
      "for alpha=3.5, r2 score: 0.6967607389881809\n",
      "for alpha=3.75, r2 score: 0.6965202111053879\n",
      "for alpha=4.0, r2 score: 0.6963115044411509\n",
      "for alpha=4.25, r2 score: 0.6961301202927865\n",
      "for alpha=4.5, r2 score: 0.6959723334875078\n",
      "for alpha=4.75, r2 score: 0.6958350347890854\n",
      "for alpha=5.0, r2 score: 0.6957156101316802\n",
      "for alpha=5.25, r2 score: 0.69561184705186\n",
      "for alpha=5.5, r2 score: 0.6955218614546557\n",
      "for alpha=5.75, r2 score: 0.6954440397548904\n",
      "for alpha=6.0, r2 score: 0.6953769927669345\n",
      "for alpha=6.25, r2 score: 0.6953195186595429\n",
      "for alpha=6.5, r2 score: 0.6952705729691149\n",
      "for alpha=6.75, r2 score: 0.69522924415569\n",
      "for alpha=7.0, r2 score: 0.6951947335460781\n",
      "for alpha=7.25, r2 score: 0.6951663387753337\n",
      "for alpha=7.5, r2 score: 0.6951434400373305\n",
      "for alpha=7.75, r2 score: 0.6951254886058207\n",
      "for alpha=8.0, r2 score: 0.6951119972019808\n",
      "for alpha=8.25, r2 score: 0.6951025318723888\n",
      "for alpha=8.5, r2 score: 0.6950967051093446\n",
      "for alpha=8.75, r2 score: 0.6950941699983558\n",
      "for alpha=9.0, r2 score: 0.6950946152190698\n",
      "for alpha=9.25, r2 score: 0.6950977607586344\n",
      "for alpha=9.5, r2 score: 0.6951033542224171\n",
      "for alpha=9.75, r2 score: 0.695111167647708\n",
      "\n",
      "Best alpha :  0.25\n",
      "Best score : 0.7097105849145189\n"
     ]
    }
   ],
   "source": [
    "alphas = np.arange(0.25,10,0.25)\n",
    "scores = []\n",
    "for i in alphas:\n",
    "    ridge = Ridge(alpha=i)\n",
    "    ridge.fit(x_train, y_train)\n",
    "    y_pred = ridge.predict(x_test)\n",
    "    r2 = r2_score(y_test,y_pred)\n",
    "    scores.append(r2)\n",
    "    print(f'for alpha={i}, r2 score: {r2}')\n",
    "\n",
    "print()\n",
    "i_max = np.argmax(scores)\n",
    "print(\"Best alpha : \",alphas[i_max])\n",
    "print(\"Best score :\", scores[i_max])"
   ]
  },
  {
   "cell_type": "code",
   "execution_count": 16,
   "id": "79e47e56",
   "metadata": {},
   "outputs": [
    {
     "name": "stdout",
     "output_type": "stream",
     "text": [
      "for alpha=0.0, r2 score: 0.7133431144123458\n",
      "for alpha=0.25, r2 score: 0.7097105849145189\n",
      "for alpha=0.5, r2 score: 0.7069833171421402\n",
      "for alpha=0.75, r2 score: 0.7048924168951105\n",
      "for alpha=1.0, r2 score: 0.7032547843448866\n",
      "for alpha=1.25, r2 score: 0.7019478104266106\n",
      "for alpha=1.5, r2 score: 0.7008879641000546\n",
      "for alpha=1.75, r2 score: 0.7000169325521792\n",
      "for alpha=2.0, r2 score: 0.6992929955083689\n",
      "for alpha=2.25, r2 score: 0.6986856166001973\n",
      "for alpha=2.5, r2 score: 0.6981719819420982\n",
      "for alpha=2.75, r2 score: 0.6977347319733422\n",
      "for alpha=3.0, r2 score: 0.6973604399458246\n",
      "for alpha=3.25, r2 score: 0.6970385684455562\n",
      "for alpha=3.5, r2 score: 0.6967607389881809\n",
      "for alpha=3.75, r2 score: 0.6965202111053879\n",
      "for alpha=4.0, r2 score: 0.6963115044411509\n",
      "for alpha=4.25, r2 score: 0.6961301202927865\n",
      "for alpha=4.5, r2 score: 0.6959723334875078\n",
      "for alpha=4.75, r2 score: 0.6958350347890854\n",
      "for alpha=5.0, r2 score: 0.6957156101316802\n",
      "for alpha=5.25, r2 score: 0.69561184705186\n",
      "for alpha=5.5, r2 score: 0.6955218614546557\n",
      "for alpha=5.75, r2 score: 0.6954440397548904\n",
      "for alpha=6.0, r2 score: 0.6953769927669345\n",
      "for alpha=6.25, r2 score: 0.6953195186595429\n",
      "for alpha=6.5, r2 score: 0.6952705729691149\n",
      "for alpha=6.75, r2 score: 0.69522924415569\n",
      "for alpha=7.0, r2 score: 0.6951947335460781\n",
      "for alpha=7.25, r2 score: 0.6951663387753337\n",
      "for alpha=7.5, r2 score: 0.6951434400373305\n",
      "for alpha=7.75, r2 score: 0.6951254886058207\n",
      "for alpha=8.0, r2 score: 0.6951119972019808\n",
      "for alpha=8.25, r2 score: 0.6951025318723888\n",
      "for alpha=8.5, r2 score: 0.6950967051093446\n",
      "for alpha=8.75, r2 score: 0.6950941699983558\n",
      "for alpha=9.0, r2 score: 0.6950946152190698\n",
      "for alpha=9.25, r2 score: 0.6950977607586344\n",
      "for alpha=9.5, r2 score: 0.6951033542224171\n",
      "for alpha=9.75, r2 score: 0.695111167647708\n",
      "\n",
      "Best alpha :  0.0\n",
      "Best score :  0.7133431144123458\n"
     ]
    }
   ],
   "source": [
    "alphas = np.arange(0,10,0.25)\n",
    "scores = []\n",
    "for i in alphas:\n",
    "    ridge = Ridge(alpha=i)\n",
    "    ridge.fit(x_train, y_train)\n",
    "    y_pred = ridge.predict(x_test)\n",
    "    r2 = r2_score(y_test,y_pred)\n",
    "    scores.append(r2)\n",
    "    print(f'for alpha={i}, r2 score: {r2}')\n",
    "\n",
    "print()\n",
    "i_max = np.argmax(scores)\n",
    "print(\"Best alpha : \",alphas[i_max])\n",
    "print(\"Best score : \", scores[i_max])"
   ]
  },
  {
   "cell_type": "markdown",
   "id": "0bc35695",
   "metadata": {},
   "source": [
    "### Alpha = 0 is best here => for this ridge regression is same as linear regression\n",
    "#### everytime 0 will be the best alpha will not be the case "
   ]
  },
  {
   "cell_type": "code",
   "execution_count": 18,
   "id": "a1d36c25",
   "metadata": {},
   "outputs": [
    {
     "name": "stdout",
     "output_type": "stream",
     "text": [
      "for alpha=0.0, r2 score: 0.7133431144123458\n",
      "for alpha=0.4166666666666667, r2 score: 0.7078103929260431\n",
      "for alpha=0.8333333333333334, r2 score: 0.7043032338433564\n",
      "for alpha=1.25, r2 score: 0.7019478104266106\n",
      "for alpha=1.6666666666666667, r2 score: 0.7002891440679471\n",
      "for alpha=2.0833333333333335, r2 score: 0.6990788447284226\n",
      "for alpha=2.5, r2 score: 0.6981719819420982\n",
      "for alpha=2.916666666666667, r2 score: 0.6974789094599672\n",
      "for alpha=3.3333333333333335, r2 score: 0.6969414274989532\n",
      "for alpha=3.75, r2 score: 0.6965202111053879\n",
      "for alpha=4.166666666666667, r2 score: 0.6961877897957551\n",
      "for alpha=4.583333333333334, r2 score: 0.6959244290782807\n",
      "for alpha=5.0, r2 score: 0.6957156101316802\n",
      "for alpha=5.416666666666667, r2 score: 0.6955504304429696\n",
      "for alpha=5.833333333333334, r2 score: 0.6954205564588318\n",
      "for alpha=6.25, r2 score: 0.6953195186595429\n",
      "for alpha=6.666666666666667, r2 score: 0.695242225535398\n",
      "for alpha=7.083333333333334, r2 score: 0.695184621272338\n",
      "for alpha=7.5, r2 score: 0.6951434400373305\n",
      "for alpha=7.916666666666667, r2 score: 0.6951160265821679\n",
      "for alpha=8.333333333333334, r2 score: 0.6951002032483692\n",
      "for alpha=8.75, r2 score: 0.6950941699983558\n",
      "for alpha=9.166666666666668, r2 score: 0.6950964283212847\n",
      "for alpha=9.583333333333334, r2 score: 0.6951057226438093\n",
      "for alpha=10.0, r2 score: 0.6951209947426547\n",
      "\n",
      "Best alpha :  0.0\n",
      "Best score :  0.7133431144123458\n"
     ]
    }
   ],
   "source": [
    "alphas = np.linspace(0,10,25)\n",
    "scores = []\n",
    "for i in alphas:\n",
    "    ridge = Ridge(alpha=i)\n",
    "    ridge.fit(x_train, y_train)\n",
    "    y_pred = ridge.predict(x_test)\n",
    "    r2 = r2_score(y_test,y_pred)\n",
    "    scores.append(r2)\n",
    "    print(f'for alpha={i}, r2 score: {r2}')\n",
    "\n",
    "print()\n",
    "i_max = np.argmax(scores)\n",
    "print(\"Best alpha : \",alphas[i_max])\n",
    "print(\"Best score : \", scores[i_max])"
   ]
  },
  {
   "cell_type": "markdown",
   "id": "42ad103c",
   "metadata": {},
   "source": [
    "linspace = you get 25 equally spaced numbers\n",
    "arange = you will get numpers spaced by 0.25"
   ]
  },
  {
   "cell_type": "code",
   "execution_count": null,
   "id": "1e784c5e",
   "metadata": {},
   "outputs": [],
   "source": []
  },
  {
   "cell_type": "code",
   "execution_count": null,
   "id": "cb5e93e8",
   "metadata": {},
   "outputs": [],
   "source": []
  },
  {
   "cell_type": "code",
   "execution_count": null,
   "id": "c0477a57",
   "metadata": {},
   "outputs": [],
   "source": []
  },
  {
   "cell_type": "code",
   "execution_count": null,
   "id": "ad067d26",
   "metadata": {},
   "outputs": [],
   "source": []
  },
  {
   "cell_type": "code",
   "execution_count": null,
   "id": "3391f945",
   "metadata": {},
   "outputs": [],
   "source": []
  }
 ],
 "metadata": {
  "kernelspec": {
   "display_name": "Python 3 (ipykernel)",
   "language": "python",
   "name": "python3"
  },
  "language_info": {
   "codemirror_mode": {
    "name": "ipython",
    "version": 3
   },
   "file_extension": ".py",
   "mimetype": "text/x-python",
   "name": "python",
   "nbconvert_exporter": "python",
   "pygments_lexer": "ipython3",
   "version": "3.11.5"
  }
 },
 "nbformat": 4,
 "nbformat_minor": 5
}
