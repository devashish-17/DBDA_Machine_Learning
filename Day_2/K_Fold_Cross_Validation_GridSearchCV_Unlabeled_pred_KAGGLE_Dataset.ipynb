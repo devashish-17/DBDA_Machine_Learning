{
 "cells": [
  {
   "cell_type": "code",
   "execution_count": 77,
   "id": "aefd29b5",
   "metadata": {},
   "outputs": [],
   "source": [
    "import pandas as pd\n",
    "import numpy as np\n",
    "from sklearn.model_selection import train_test_split,KFold,cross_val_score\n",
    "import os\n",
    "from sklearn.linear_model import LinearRegression\n",
    "from sklearn.metrics import r2_score, mean_absolute_error, mean_squared_error"
   ]
  },
  {
   "cell_type": "code",
   "execution_count": 78,
   "id": "f5d7763f",
   "metadata": {},
   "outputs": [],
   "source": [
    "import warnings\n",
    "warnings.filterwarnings('ignore')"
   ]
  },
  {
   "cell_type": "code",
   "execution_count": 79,
   "id": "83493ea1",
   "metadata": {},
   "outputs": [],
   "source": [
    "os.chdir(\"D:/Machine Learning/Datasets/Kaggel_Day1\")"
   ]
  },
  {
   "cell_type": "code",
   "execution_count": 80,
   "id": "cbfb2a46",
   "metadata": {},
   "outputs": [
    {
     "name": "stdout",
     "output_type": "stream",
     "text": [
      "(10407, 12)\n"
     ]
    },
    {
     "data": {
      "text/html": [
       "<div>\n",
       "<style scoped>\n",
       "    .dataframe tbody tr th:only-of-type {\n",
       "        vertical-align: middle;\n",
       "    }\n",
       "\n",
       "    .dataframe tbody tr th {\n",
       "        vertical-align: top;\n",
       "    }\n",
       "\n",
       "    .dataframe thead th {\n",
       "        text-align: right;\n",
       "    }\n",
       "</style>\n",
       "<table border=\"1\" class=\"dataframe\">\n",
       "  <thead>\n",
       "    <tr style=\"text-align: right;\">\n",
       "      <th></th>\n",
       "      <th>allelectrons_Total</th>\n",
       "      <th>density_Total</th>\n",
       "      <th>allelectrons_Average</th>\n",
       "      <th>val_e_Average</th>\n",
       "      <th>atomicweight_Average</th>\n",
       "      <th>ionenergy_Average</th>\n",
       "      <th>el_neg_chi_Average</th>\n",
       "      <th>R_vdw_element_Average</th>\n",
       "      <th>R_cov_element_Average</th>\n",
       "      <th>zaratio_Average</th>\n",
       "      <th>density_Average</th>\n",
       "      <th>Hardness</th>\n",
       "    </tr>\n",
       "    <tr>\n",
       "      <th>id</th>\n",
       "      <th></th>\n",
       "      <th></th>\n",
       "      <th></th>\n",
       "      <th></th>\n",
       "      <th></th>\n",
       "      <th></th>\n",
       "      <th></th>\n",
       "      <th></th>\n",
       "      <th></th>\n",
       "      <th></th>\n",
       "      <th></th>\n",
       "      <th></th>\n",
       "    </tr>\n",
       "  </thead>\n",
       "  <tbody>\n",
       "    <tr>\n",
       "      <th>0</th>\n",
       "      <td>100.0</td>\n",
       "      <td>0.841611</td>\n",
       "      <td>10.0</td>\n",
       "      <td>4.8</td>\n",
       "      <td>20.612526</td>\n",
       "      <td>11.08810</td>\n",
       "      <td>2.766</td>\n",
       "      <td>1.732</td>\n",
       "      <td>0.860</td>\n",
       "      <td>0.496070</td>\n",
       "      <td>0.91457</td>\n",
       "      <td>6.0</td>\n",
       "    </tr>\n",
       "    <tr>\n",
       "      <th>1</th>\n",
       "      <td>100.0</td>\n",
       "      <td>7.558488</td>\n",
       "      <td>10.0</td>\n",
       "      <td>4.8</td>\n",
       "      <td>20.298893</td>\n",
       "      <td>12.04083</td>\n",
       "      <td>2.755</td>\n",
       "      <td>1.631</td>\n",
       "      <td>0.910</td>\n",
       "      <td>0.492719</td>\n",
       "      <td>0.71760</td>\n",
       "      <td>6.5</td>\n",
       "    </tr>\n",
       "    <tr>\n",
       "      <th>2</th>\n",
       "      <td>76.0</td>\n",
       "      <td>8.885992</td>\n",
       "      <td>15.6</td>\n",
       "      <td>5.6</td>\n",
       "      <td>33.739258</td>\n",
       "      <td>12.08630</td>\n",
       "      <td>2.828</td>\n",
       "      <td>1.788</td>\n",
       "      <td>0.864</td>\n",
       "      <td>0.481478</td>\n",
       "      <td>1.50633</td>\n",
       "      <td>2.5</td>\n",
       "    </tr>\n",
       "    <tr>\n",
       "      <th>3</th>\n",
       "      <td>100.0</td>\n",
       "      <td>8.795296</td>\n",
       "      <td>10.0</td>\n",
       "      <td>4.8</td>\n",
       "      <td>20.213349</td>\n",
       "      <td>10.94850</td>\n",
       "      <td>2.648</td>\n",
       "      <td>1.626</td>\n",
       "      <td>0.936</td>\n",
       "      <td>0.489272</td>\n",
       "      <td>0.78937</td>\n",
       "      <td>6.0</td>\n",
       "    </tr>\n",
       "    <tr>\n",
       "      <th>4</th>\n",
       "      <td>116.0</td>\n",
       "      <td>9.577996</td>\n",
       "      <td>11.6</td>\n",
       "      <td>4.8</td>\n",
       "      <td>24.988133</td>\n",
       "      <td>11.82448</td>\n",
       "      <td>2.766</td>\n",
       "      <td>1.682</td>\n",
       "      <td>0.896</td>\n",
       "      <td>0.492736</td>\n",
       "      <td>1.86481</td>\n",
       "      <td>6.0</td>\n",
       "    </tr>\n",
       "  </tbody>\n",
       "</table>\n",
       "</div>"
      ],
      "text/plain": [
       "    allelectrons_Total  density_Total  allelectrons_Average  val_e_Average  \\\n",
       "id                                                                           \n",
       "0                100.0       0.841611                  10.0            4.8   \n",
       "1                100.0       7.558488                  10.0            4.8   \n",
       "2                 76.0       8.885992                  15.6            5.6   \n",
       "3                100.0       8.795296                  10.0            4.8   \n",
       "4                116.0       9.577996                  11.6            4.8   \n",
       "\n",
       "    atomicweight_Average  ionenergy_Average  el_neg_chi_Average  \\\n",
       "id                                                                \n",
       "0              20.612526           11.08810               2.766   \n",
       "1              20.298893           12.04083               2.755   \n",
       "2              33.739258           12.08630               2.828   \n",
       "3              20.213349           10.94850               2.648   \n",
       "4              24.988133           11.82448               2.766   \n",
       "\n",
       "    R_vdw_element_Average  R_cov_element_Average  zaratio_Average  \\\n",
       "id                                                                  \n",
       "0                   1.732                  0.860         0.496070   \n",
       "1                   1.631                  0.910         0.492719   \n",
       "2                   1.788                  0.864         0.481478   \n",
       "3                   1.626                  0.936         0.489272   \n",
       "4                   1.682                  0.896         0.492736   \n",
       "\n",
       "    density_Average  Hardness  \n",
       "id                             \n",
       "0           0.91457       6.0  \n",
       "1           0.71760       6.5  \n",
       "2           1.50633       2.5  \n",
       "3           0.78937       6.0  \n",
       "4           1.86481       6.0  "
      ]
     },
     "execution_count": 80,
     "metadata": {},
     "output_type": "execute_result"
    }
   ],
   "source": [
    "df = pd.read_csv('train.csv', index_col=0)\n",
    "\n",
    "print(df.shape)\n",
    "df.head()"
   ]
  },
  {
   "cell_type": "code",
   "execution_count": 81,
   "id": "e692b151",
   "metadata": {},
   "outputs": [],
   "source": [
    "#dum_df = pd.get_dummies(df,drop_first=True)"
   ]
  },
  {
   "cell_type": "markdown",
   "id": "7f5a9dfb",
   "metadata": {},
   "source": [
    "#### Trying for linear, Ridge and  Lasso and Elastic Net"
   ]
  },
  {
   "cell_type": "code",
   "execution_count": 82,
   "id": "1547a637",
   "metadata": {},
   "outputs": [
    {
     "name": "stdout",
     "output_type": "stream",
     "text": [
      "r2 squares for 5 fold cross validation is : [0.22673942 0.24777728 0.25284012 0.22783812 0.25554021]\n",
      "\n",
      "Mean of r2 squares for the k fold cros validation  0.24214703163602808\n"
     ]
    }
   ],
   "source": [
    "### for the linear Regression\n",
    "\n",
    "x = df.drop(['Hardness'],axis=1)  # independents columns \n",
    "y = df['Hardness'] # target \n",
    "\n",
    "# setting the k fold cross validation \n",
    "kfold = KFold(n_splits=5,random_state=24,shuffle=True)\n",
    "\n",
    "lr = LinearRegression()\n",
    "\n",
    "results = cross_val_score(lr,x,y,cv=kfold)\n",
    "\n",
    "print(\"r2 squares for 5 fold cross validation is :\",results)\n",
    "print(\"\")\n",
    "print(\"Mean of r2 squares for the k fold cros validation \",results.mean())"
   ]
  },
  {
   "cell_type": "code",
   "execution_count": 83,
   "id": "182d5450",
   "metadata": {},
   "outputs": [
    {
     "name": "stdout",
     "output_type": "stream",
     "text": [
      "r2 squares for 5 fold cross validation is : [0.2268863  0.24710417 0.25329467 0.22763188 0.25564578]\n",
      "\n",
      "Mean of r2 squares for the k fold cros validation  0.24211256127534636\n"
     ]
    }
   ],
   "source": [
    "### for the Ridge Regression\n",
    "from sklearn.linear_model import Ridge\n",
    "\n",
    "x = df.drop(['Hardness'],axis=1)  # independents columns \n",
    "y = df['Hardness'] # target  \n",
    "\n",
    "# setting the k fold cross validation \n",
    "kfold = KFold(n_splits=5,random_state=24,shuffle=True)\n",
    "\n",
    "\n",
    "rd = Ridge()\n",
    "\n",
    "results = cross_val_score(rd,x,y,cv=kfold)\n",
    "\n",
    "print(\"r2 squares for 5 fold cross validation is :\",results)\n",
    "print(\"\")\n",
    "print(\"Mean of r2 squares for the k fold cros validation \",results.mean())"
   ]
  },
  {
   "cell_type": "code",
   "execution_count": 84,
   "id": "df271f9d",
   "metadata": {},
   "outputs": [
    {
     "name": "stdout",
     "output_type": "stream",
     "text": [
      "r2 squares for 5 fold cross validation is : [0.16365944 0.15581652 0.18455593 0.13043405 0.17135541]\n",
      "\n",
      "Mean of r2 squares for the k fold cros validation  0.16116426902521946\n"
     ]
    }
   ],
   "source": [
    "### for the Lasso Regression\n",
    "from sklearn.linear_model import Lasso\n",
    "\n",
    "x = df.drop(['Hardness'],axis=1)  # independents columns \n",
    "y = df['Hardness'] # target  \n",
    "\n",
    "# setting the k fold cross validation \n",
    "kfold = KFold(n_splits=5,random_state=24,shuffle=True)\n",
    "\n",
    "\n",
    "ls = Lasso()\n",
    "\n",
    "results = cross_val_score(ls,x,y,cv=kfold)\n",
    "\n",
    "print(\"r2 squares for 5 fold cross validation is :\",results)\n",
    "print(\"\")\n",
    "print(\"Mean of r2 squares for the k fold cros validation \",results.mean())"
   ]
  },
  {
   "cell_type": "code",
   "execution_count": 85,
   "id": "f0eb58ca",
   "metadata": {},
   "outputs": [
    {
     "name": "stdout",
     "output_type": "stream",
     "text": [
      "r2 squares for 5 fold cross validation is : [0.16414367 0.15617675 0.18546363 0.1303713  0.17164319]\n",
      "\n",
      "Mean of r2 squares for the k fold cros validation  0.16155970796361255\n"
     ]
    }
   ],
   "source": [
    "### for the Elastic Regression\n",
    "from sklearn.linear_model import ElasticNet\n",
    "\n",
    "x = df.drop(['Hardness'],axis=1)  # independents columns \n",
    "y = df['Hardness'] # target \n",
    "\n",
    "# setting the k fold cross validation \n",
    "kfold = KFold(n_splits=5,random_state=24,shuffle=True)\n",
    "\n",
    "\n",
    "el = ElasticNet()\n",
    "\n",
    "results = cross_val_score(el,x,y,cv=kfold)\n",
    "\n",
    "print(\"r2 squares for 5 fold cross validation is :\",results)\n",
    "print(\"\")\n",
    "print(\"Mean of r2 squares for the k fold cros validation \",results.mean())"
   ]
  },
  {
   "cell_type": "code",
   "execution_count": 86,
   "id": "72a60739",
   "metadata": {},
   "outputs": [],
   "source": [
    "# k fold is always better than the train_test_split "
   ]
  },
  {
   "cell_type": "markdown",
   "id": "2918e7e2",
   "metadata": {},
   "source": [
    "### Ridge regression using kfold"
   ]
  },
  {
   "cell_type": "code",
   "execution_count": 87,
   "id": "1aca8e42",
   "metadata": {},
   "outputs": [
    {
     "name": "stdout",
     "output_type": "stream",
     "text": [
      "Best Alpha :  0.25\n",
      "Best Score :  0.24214792962324613\n"
     ]
    }
   ],
   "source": [
    "### for the Ridge Regression\n",
    "from sklearn.linear_model import Ridge\n",
    "\n",
    "x = df.drop(['Hardness'],axis=1)  # independents columns \n",
    "y = df['Hardness'] # target \n",
    "\n",
    "# setting the k fold cross validation \n",
    "kfold = KFold(n_splits=5,random_state=24,shuffle=True)\n",
    "\n",
    "scores=[]\n",
    "alphas = np.arange(0,10,0.25)\n",
    "for i in alphas:\n",
    "    rd = Ridge(alpha=i)\n",
    "    results = cross_val_score(rd,x,y,cv=kfold)\n",
    "    scores.append(results.mean())\n",
    "\n",
    "i_max = np.argmax(scores)\n",
    "print('Best Alpha : ',alphas[i_max])\n",
    "print('Best Score : ', scores[i_max])"
   ]
  },
  {
   "cell_type": "markdown",
   "id": "3784e203",
   "metadata": {},
   "source": [
    "### Lasso Regression using kfold"
   ]
  },
  {
   "cell_type": "code",
   "execution_count": 88,
   "id": "16e953d8",
   "metadata": {},
   "outputs": [
    {
     "name": "stdout",
     "output_type": "stream",
     "text": [
      "Best Alpha :  0.0\n",
      "Best Score :  0.24214703163526088\n"
     ]
    }
   ],
   "source": [
    "### for the Lasso Regression\n",
    "from sklearn.linear_model import Lasso\n",
    "\n",
    "x = df.drop(['Hardness'],axis=1)  # independents columns \n",
    "y = df['Hardness'] # target \n",
    "\n",
    "# setting the k fold cross validation \n",
    "kfold = KFold(n_splits=5,random_state=24,shuffle=True)\n",
    "ls = Lasso()\n",
    "\n",
    "scores=[]\n",
    "alphas = np.arange(0,10,0.25)\n",
    "for i in alphas:\n",
    "    rd = Lasso(alpha=i)\n",
    "    results = cross_val_score(rd,x,y,cv=kfold)\n",
    "    scores.append(results.mean())\n",
    "\n",
    "i_max = np.argmax(scores)\n",
    "print('Best Alpha : ',alphas[i_max])\n",
    "print('Best Score : ', scores[i_max])\n"
   ]
  },
  {
   "cell_type": "markdown",
   "id": "d2d20050",
   "metadata": {},
   "source": [
    "### Elastic Net regression using kfold"
   ]
  },
  {
   "cell_type": "code",
   "execution_count": 89,
   "id": "5736253d",
   "metadata": {},
   "outputs": [
    {
     "data": {
      "text/plain": [
       "alpha       0.000000\n",
       "L1-ratio    0.000000\n",
       "r2          0.242147\n",
       "Name: 0, dtype: float64"
      ]
     },
     "execution_count": 89,
     "metadata": {},
     "output_type": "execute_result"
    }
   ],
   "source": [
    "### for the Elastic Regression\n",
    "from sklearn.linear_model import ElasticNet\n",
    "\n",
    "x = df.drop(['Hardness'],axis=1)  # independents columns \n",
    "y = df['Hardness'] # target \n",
    "\n",
    "# setting the k fold cross validation \n",
    "kfold = KFold(n_splits=5,random_state=24,shuffle=True)\n",
    "\n",
    "# correct way  \n",
    "\n",
    "alphas = np.arange(0,10,0.25)\n",
    "l1 = np.arange(0, 1,0.1)\n",
    "scores = []\n",
    "for i in alphas:\n",
    "    for j in l1:\n",
    "        el = ElasticNet(alpha=i, l1_ratio=j)\n",
    "        results = cross_val_score(el,x,y,cv=kfold)\n",
    "        scores.append([i,j,results.mean()])\n",
    "        \n",
    "pd_scores = pd.DataFrame(scores, columns=['alpha','L1-ratio','r2'])\n",
    "pd_scores.sort_values(by='r2',ascending=False).iloc[0]\n"
   ]
  },
  {
   "cell_type": "markdown",
   "id": "86e27624",
   "metadata": {},
   "source": [
    "Ridge\n",
    "Best Alpha :  4.0\n",
    "Best Score :  0.6577381120548891\n",
    "\n",
    "Lasso\n",
    "Best Alpha :  9.5\n",
    "Best Score :  0.657087435238261\n",
    "\n",
    "Elastic Net\n",
    "alpha       0.000000\n",
    "L1-ratio    0.000000\n",
    "r2          0.657081\n",
    "Name: 0, dtype: float64"
   ]
  },
  {
   "cell_type": "markdown",
   "id": "51c16cd9",
   "metadata": {},
   "source": [
    "### finding best score and r2 without loop "
   ]
  },
  {
   "cell_type": "code",
   "execution_count": 90,
   "id": "6181ba4d",
   "metadata": {},
   "outputs": [],
   "source": [
    "from sklearn.model_selection import GridSearchCV"
   ]
  },
  {
   "cell_type": "code",
   "execution_count": 91,
   "id": "cb5e93e8",
   "metadata": {},
   "outputs": [
    {
     "name": "stdout",
     "output_type": "stream",
     "text": [
      "{'alpha': 0.25}\n",
      "0.24214792962324613\n"
     ]
    }
   ],
   "source": [
    "## Ridge Regression\n",
    "\n",
    "alphas = np.arange(0,10,0.25)\n",
    "params = {'alpha':alphas}\n",
    "ridge = Ridge()\n",
    "kfold = KFold(n_splits=5, shuffle=True, random_state=24)\n",
    "gcv_r= GridSearchCV(ridge, param_grid=params, cv=kfold)\n",
    "gcv_r.fit(x,y)\n",
    "print(gcv_r.best_params_)\n",
    "print(gcv_r.best_score_)"
   ]
  },
  {
   "cell_type": "code",
   "execution_count": 92,
   "id": "f75048d8",
   "metadata": {},
   "outputs": [
    {
     "name": "stdout",
     "output_type": "stream",
     "text": [
      "{'alpha': 0.25}\n",
      "-2.1379964904678\n"
     ]
    }
   ],
   "source": [
    "## Ridge Regression with mean square error\n",
    "\n",
    "\n",
    "alphas = np.arange(0,10,0.25)\n",
    "params = {'alpha':alphas}\n",
    "ridge = Ridge()\n",
    "kfold = KFold(n_splits=5, shuffle=True, random_state=24)\n",
    "gcv_r= GridSearchCV(ridge, param_grid=params, cv=kfold, scoring='neg_mean_squared_error')\n",
    "gcv_r.fit(x,y)\n",
    "print(gcv_r.best_params_)\n",
    "print(gcv_r.best_score_)\n",
    "\n",
    "pdcv = pd.DataFrame(gcv_r.cv_results_)"
   ]
  },
  {
   "cell_type": "code",
   "execution_count": 93,
   "id": "259e7761",
   "metadata": {},
   "outputs": [
    {
     "name": "stdout",
     "output_type": "stream",
     "text": [
      "{'alpha': 0.0}\n",
      "0.24214703163526088\n"
     ]
    }
   ],
   "source": [
    "## lasso Regression\n",
    "\n",
    "alphas = np.arange(0,10,0.25)\n",
    "params = {'alpha':alphas}\n",
    "lasso = Lasso()\n",
    "kfold = KFold(n_splits=5, shuffle=True, random_state=24)\n",
    "gcv_l= GridSearchCV(lasso, param_grid=params, cv=kfold)\n",
    "gcv_l.fit(x,y)\n",
    "print(gcv_l.best_params_)\n",
    "print(gcv_l.best_score_)"
   ]
  },
  {
   "cell_type": "code",
   "execution_count": 94,
   "id": "6e4557cd",
   "metadata": {},
   "outputs": [
    {
     "name": "stdout",
     "output_type": "stream",
     "text": [
      "{'alpha': 0.0, 'l1_ratio': 0.0}\n",
      "0.24214703163526088\n"
     ]
    }
   ],
   "source": [
    "## Elastic Net Regression\n",
    "\n",
    "x = df.drop(['Hardness'],axis=1)  # independents columns \n",
    "y = df['Hardness'] # target \n",
    "\n",
    "alphas = np.arange(0,10,0.25)\n",
    "l1 = np.arange(0, 1,0.1)\n",
    "\n",
    "params = {'alpha':alphas,'l1_ratio':l1}\n",
    "el = ElasticNet()\n",
    "kfold = KFold(n_splits=5, shuffle=True, random_state=24)\n",
    "gcv_el = GridSearchCV(el, param_grid=params, cv=kfold)\n",
    "gcv_el.fit(x,y)\n",
    "print(gcv_el.best_params_)\n",
    "print(gcv_el.best_score_)"
   ]
  },
  {
   "cell_type": "code",
   "execution_count": 95,
   "id": "edb5be74",
   "metadata": {},
   "outputs": [
    {
     "data": {
      "text/plain": [
       "\"\\nridge\\n{'alpha': 0.25}\\n0.24214792962324613\\n\\nlasso\\n{'alpha': 0.0}\\n0.24214703163526088\\n\\nelastic\\n{'alpha': 0.0, 'l1_ratio': 0.0}\\n0.24214703163526088\\n\""
      ]
     },
     "execution_count": 95,
     "metadata": {},
     "output_type": "execute_result"
    }
   ],
   "source": [
    "'''\n",
    "ridge\n",
    "{'alpha': 0.25}\n",
    "0.24214792962324613\n",
    "\n",
    "lasso\n",
    "{'alpha': 0.0}\n",
    "0.24214703163526088\n",
    "\n",
    "elastic\n",
    "{'alpha': 0.0, 'l1_ratio': 0.0}\n",
    "0.24214703163526088\n",
    "'''"
   ]
  },
  {
   "cell_type": "markdown",
   "id": "da739835",
   "metadata": {},
   "source": [
    "## For unlabelled data => test concrete"
   ]
  },
  {
   "cell_type": "code",
   "execution_count": 96,
   "id": "ad067d26",
   "metadata": {},
   "outputs": [
    {
     "name": "stdout",
     "output_type": "stream",
     "text": [
      "[3.47907527 4.83559472 5.28378892 ... 5.46158397 4.35189793 1.67748607]\n"
     ]
    }
   ],
   "source": [
    "## Ridge Regression\n",
    "\n",
    "alphas = np.arange(0,10,0.25)\n",
    "params = {'alpha':alphas}\n",
    "ridge = Ridge()\n",
    "kfold = KFold(n_splits=5, shuffle=True, random_state=24)\n",
    "gcv_r= GridSearchCV(ridge, param_grid=params, cv=kfold)\n",
    "gcv_r.fit(x,y)\n",
    "best_model = gcv_r.best_estimator_\n",
    "\n",
    "tst = pd.read_csv(\"test.csv\", index_col=0) ## reading the test data which is unlabel\n",
    "\n",
    "pred_strength = best_model.predict(tst) # appling best_model object to the tst for predictions\n",
    "print(pred_strength)"
   ]
  },
  {
   "cell_type": "code",
   "execution_count": 97,
   "id": "3391f945",
   "metadata": {},
   "outputs": [
    {
     "data": {
      "text/html": [
       "<div>\n",
       "<style scoped>\n",
       "    .dataframe tbody tr th:only-of-type {\n",
       "        vertical-align: middle;\n",
       "    }\n",
       "\n",
       "    .dataframe tbody tr th {\n",
       "        vertical-align: top;\n",
       "    }\n",
       "\n",
       "    .dataframe thead th {\n",
       "        text-align: right;\n",
       "    }\n",
       "</style>\n",
       "<table border=\"1\" class=\"dataframe\">\n",
       "  <thead>\n",
       "    <tr style=\"text-align: right;\">\n",
       "      <th></th>\n",
       "      <th>Predicted Hardness</th>\n",
       "    </tr>\n",
       "  </thead>\n",
       "  <tbody>\n",
       "    <tr>\n",
       "      <th>0</th>\n",
       "      <td>3.479075</td>\n",
       "    </tr>\n",
       "    <tr>\n",
       "      <th>1</th>\n",
       "      <td>4.835595</td>\n",
       "    </tr>\n",
       "    <tr>\n",
       "      <th>2</th>\n",
       "      <td>5.283789</td>\n",
       "    </tr>\n",
       "    <tr>\n",
       "      <th>3</th>\n",
       "      <td>5.274351</td>\n",
       "    </tr>\n",
       "    <tr>\n",
       "      <th>4</th>\n",
       "      <td>5.092271</td>\n",
       "    </tr>\n",
       "    <tr>\n",
       "      <th>...</th>\n",
       "      <td>...</td>\n",
       "    </tr>\n",
       "    <tr>\n",
       "      <th>6934</th>\n",
       "      <td>5.499921</td>\n",
       "    </tr>\n",
       "    <tr>\n",
       "      <th>6935</th>\n",
       "      <td>4.491445</td>\n",
       "    </tr>\n",
       "    <tr>\n",
       "      <th>6936</th>\n",
       "      <td>5.461584</td>\n",
       "    </tr>\n",
       "    <tr>\n",
       "      <th>6937</th>\n",
       "      <td>4.351898</td>\n",
       "    </tr>\n",
       "    <tr>\n",
       "      <th>6938</th>\n",
       "      <td>1.677486</td>\n",
       "    </tr>\n",
       "  </tbody>\n",
       "</table>\n",
       "<p>6939 rows × 1 columns</p>\n",
       "</div>"
      ],
      "text/plain": [
       "      Predicted Hardness\n",
       "0               3.479075\n",
       "1               4.835595\n",
       "2               5.283789\n",
       "3               5.274351\n",
       "4               5.092271\n",
       "...                  ...\n",
       "6934            5.499921\n",
       "6935            4.491445\n",
       "6936            5.461584\n",
       "6937            4.351898\n",
       "6938            1.677486\n",
       "\n",
       "[6939 rows x 1 columns]"
      ]
     },
     "execution_count": 97,
     "metadata": {},
     "output_type": "execute_result"
    }
   ],
   "source": [
    "pred_st = pd.DataFrame(pred_strength,columns=['Predicted Hardness'])\n",
    "pred_st"
   ]
  },
  {
   "cell_type": "code",
   "execution_count": 98,
   "id": "6d41d706",
   "metadata": {},
   "outputs": [
    {
     "data": {
      "text/html": [
       "<div>\n",
       "<style scoped>\n",
       "    .dataframe tbody tr th:only-of-type {\n",
       "        vertical-align: middle;\n",
       "    }\n",
       "\n",
       "    .dataframe tbody tr th {\n",
       "        vertical-align: top;\n",
       "    }\n",
       "\n",
       "    .dataframe thead th {\n",
       "        text-align: right;\n",
       "    }\n",
       "</style>\n",
       "<table border=\"1\" class=\"dataframe\">\n",
       "  <thead>\n",
       "    <tr style=\"text-align: right;\">\n",
       "      <th></th>\n",
       "      <th>Predicted Hardness</th>\n",
       "    </tr>\n",
       "    <tr>\n",
       "      <th>id</th>\n",
       "      <th></th>\n",
       "    </tr>\n",
       "  </thead>\n",
       "  <tbody>\n",
       "    <tr>\n",
       "      <th>10407</th>\n",
       "      <td>3.479075</td>\n",
       "    </tr>\n",
       "    <tr>\n",
       "      <th>10408</th>\n",
       "      <td>4.835595</td>\n",
       "    </tr>\n",
       "    <tr>\n",
       "      <th>10409</th>\n",
       "      <td>5.283789</td>\n",
       "    </tr>\n",
       "    <tr>\n",
       "      <th>10410</th>\n",
       "      <td>5.274351</td>\n",
       "    </tr>\n",
       "    <tr>\n",
       "      <th>10411</th>\n",
       "      <td>5.092271</td>\n",
       "    </tr>\n",
       "    <tr>\n",
       "      <th>...</th>\n",
       "      <td>...</td>\n",
       "    </tr>\n",
       "    <tr>\n",
       "      <th>17341</th>\n",
       "      <td>5.499921</td>\n",
       "    </tr>\n",
       "    <tr>\n",
       "      <th>17342</th>\n",
       "      <td>4.491445</td>\n",
       "    </tr>\n",
       "    <tr>\n",
       "      <th>17343</th>\n",
       "      <td>5.461584</td>\n",
       "    </tr>\n",
       "    <tr>\n",
       "      <th>17344</th>\n",
       "      <td>4.351898</td>\n",
       "    </tr>\n",
       "    <tr>\n",
       "      <th>17345</th>\n",
       "      <td>1.677486</td>\n",
       "    </tr>\n",
       "  </tbody>\n",
       "</table>\n",
       "<p>6939 rows × 1 columns</p>\n",
       "</div>"
      ],
      "text/plain": [
       "       Predicted Hardness\n",
       "id                       \n",
       "10407            3.479075\n",
       "10408            4.835595\n",
       "10409            5.283789\n",
       "10410            5.274351\n",
       "10411            5.092271\n",
       "...                   ...\n",
       "17341            5.499921\n",
       "17342            4.491445\n",
       "17343            5.461584\n",
       "17344            4.351898\n",
       "17345            1.677486\n",
       "\n",
       "[6939 rows x 1 columns]"
      ]
     },
     "execution_count": 98,
     "metadata": {},
     "output_type": "execute_result"
    }
   ],
   "source": [
    "temp = pd.read_csv('test.csv')\n",
    "newdf = pd.concat([temp['id'],pred_st], axis=1)\n",
    "newdf = newdf.set_index('id')\n",
    "newdf\n"
   ]
  },
  {
   "cell_type": "code",
   "execution_count": 99,
   "id": "20ae91b2",
   "metadata": {},
   "outputs": [],
   "source": [
    "newdf.to_csv(\"predicted_hardness_and_ID_as_index2.csv\")"
   ]
  },
  {
   "cell_type": "code",
   "execution_count": null,
   "id": "20b7b771",
   "metadata": {},
   "outputs": [],
   "source": []
  },
  {
   "cell_type": "code",
   "execution_count": null,
   "id": "cfaadb16",
   "metadata": {},
   "outputs": [],
   "source": []
  }
 ],
 "metadata": {
  "kernelspec": {
   "display_name": "Python 3 (ipykernel)",
   "language": "python",
   "name": "python3"
  },
  "language_info": {
   "codemirror_mode": {
    "name": "ipython",
    "version": 3
   },
   "file_extension": ".py",
   "mimetype": "text/x-python",
   "name": "python",
   "nbconvert_exporter": "python",
   "pygments_lexer": "ipython3",
   "version": "3.11.5"
  }
 },
 "nbformat": 4,
 "nbformat_minor": 5
}
